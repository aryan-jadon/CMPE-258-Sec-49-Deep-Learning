{
  "nbformat": 4,
  "nbformat_minor": 0,
  "metadata": {
    "colab": {
      "name": "Part-C.ipynb",
      "provenance": [],
      "toc_visible": true
    },
    "kernelspec": {
      "name": "python3",
      "display_name": "Python 3"
    },
    "language_info": {
      "name": "python"
    },
    "accelerator": "GPU"
  },
  "cells": [
    {
      "cell_type": "markdown",
      "metadata": {
        "id": "gIg4jdFhorsI"
      },
      "source": [
        "# Library Setup"
      ]
    },
    {
      "cell_type": "code",
      "execution_count": 1,
      "metadata": {
        "id": "C6LjrnrporsJ"
      },
      "outputs": [],
      "source": [
        "import sys\n",
        "import sklearn\n",
        "\n",
        "try:\n",
        "    # %tensorflow_version only exists in Colab.\n",
        "    %tensorflow_version 2.x\n",
        "except Exception:\n",
        "    pass\n",
        "\n",
        "# TensorFlow ≥2.0 is required\n",
        "import tensorflow as tf\n",
        "assert tf.__version__ >= \"2.0\"\n",
        "\n",
        "# Common imports\n",
        "import numpy as np\n",
        "import os\n",
        "\n",
        "# to make this notebook's output stable across runs\n",
        "np.random.seed(42)\n",
        "\n",
        "# To plot pretty figures\n",
        "%matplotlib inline\n",
        "import matplotlib as mpl\n",
        "import matplotlib.pyplot as plt\n",
        "mpl.rc('axes', labelsize=14)\n",
        "mpl.rc('xtick', labelsize=12)\n",
        "mpl.rc('ytick', labelsize=12)\n"
      ]
    },
    {
      "cell_type": "code",
      "source": [
        "# Where to save the figures\n",
        "PROJECT_ROOT_DIR = \".\"\n",
        "CHAPTER_ID = \"ann\"\n",
        "IMAGES_PATH = os.path.join(PROJECT_ROOT_DIR, \"images\", CHAPTER_ID)\n",
        "os.makedirs(IMAGES_PATH, exist_ok=True)\n",
        "\n",
        "def save_fig(fig_id, tight_layout=True, fig_extension=\"png\", resolution=300):\n",
        "    path = os.path.join(IMAGES_PATH, fig_id + \".\" + fig_extension)\n",
        "    print(\"Saving figure\", fig_id)\n",
        "    if tight_layout:\n",
        "        plt.tight_layout()\n",
        "    plt.savefig(path, format=fig_extension, dpi=resolution)"
      ],
      "metadata": {
        "id": "pv161Kgfif2i"
      },
      "execution_count": 2,
      "outputs": []
    },
    {
      "cell_type": "markdown",
      "metadata": {
        "id": "mMVmdaAxorsK"
      },
      "source": [
        "# Perceptrons"
      ]
    },
    {
      "cell_type": "code",
      "execution_count": 3,
      "metadata": {
        "id": "IeB5fsfborsK",
        "colab": {
          "base_uri": "https://localhost:8080/"
        },
        "outputId": "e19f157f-e6a7-4af9-9f6c-2d98ebe9b5cd"
      },
      "outputs": [
        {
          "output_type": "stream",
          "name": "stderr",
          "text": [
            "/usr/local/lib/python3.7/dist-packages/ipykernel_launcher.py:7: DeprecationWarning: `np.int` is a deprecated alias for the builtin `int`. To silence this warning, use `int` by itself. Doing this will not modify any behavior and is safe. When replacing `np.int`, you may wish to use e.g. `np.int64` or `np.int32` to specify the precision. If you wish to review your current use, check the release note link for additional information.\n",
            "Deprecated in NumPy 1.20; for more details and guidance: https://numpy.org/devdocs/release/1.20.0-notes.html#deprecations\n",
            "  import sys\n"
          ]
        }
      ],
      "source": [
        "import numpy as np\n",
        "from sklearn.datasets import load_iris\n",
        "from sklearn.linear_model import Perceptron\n",
        "\n",
        "iris = load_iris()\n",
        "X = iris.data[:, (2, 3)]  # petal length, petal width\n",
        "y = (iris.target == 0).astype(np.int)\n",
        "\n",
        "per_clf = Perceptron(max_iter=1000, tol=1e-3, random_state=42)\n",
        "per_clf.fit(X, y)\n",
        "\n",
        "y_pred = per_clf.predict([[2, 0.5]])"
      ]
    },
    {
      "cell_type": "code",
      "execution_count": 4,
      "metadata": {
        "id": "ec7ugF5TorsK",
        "outputId": "5c1a9513-7e45-4f02-e094-f1075f2bb1db",
        "colab": {
          "base_uri": "https://localhost:8080/"
        }
      },
      "outputs": [
        {
          "output_type": "execute_result",
          "data": {
            "text/plain": [
              "array([1])"
            ]
          },
          "metadata": {},
          "execution_count": 4
        }
      ],
      "source": [
        "y_pred"
      ]
    },
    {
      "cell_type": "code",
      "execution_count": 5,
      "metadata": {
        "id": "HujFsE-DorsL",
        "outputId": "59f412a4-a6b0-412e-cb6b-1d4e81cad235",
        "colab": {
          "base_uri": "https://localhost:8080/",
          "height": 314
        }
      },
      "outputs": [
        {
          "output_type": "stream",
          "name": "stdout",
          "text": [
            "Saving figure perceptron_iris_plot\n"
          ]
        },
        {
          "output_type": "display_data",
          "data": {
            "text/plain": [
              "<Figure size 720x288 with 1 Axes>"
            ],
            "image/png": "[encoded data removed]"
          },
          "metadata": {
            "needs_background": "light"
          }
        }
      ],
      "source": [
        "a = -per_clf.coef_[0][0] / per_clf.coef_[0][1]\n",
        "b = -per_clf.intercept_ / per_clf.coef_[0][1]\n",
        "\n",
        "axes = [0, 5, 0, 2]\n",
        "\n",
        "x0, x1 = np.meshgrid(\n",
        "        np.linspace(axes[0], axes[1], 500).reshape(-1, 1),\n",
        "        np.linspace(axes[2], axes[3], 200).reshape(-1, 1),\n",
        "    )\n",
        "X_new = np.c_[x0.ravel(), x1.ravel()]\n",
        "y_predict = per_clf.predict(X_new)\n",
        "zz = y_predict.reshape(x0.shape)\n",
        "\n",
        "plt.figure(figsize=(10, 4))\n",
        "plt.plot(X[y==0, 0], X[y==0, 1], \"bs\", label=\"Not Iris-Setosa\")\n",
        "plt.plot(X[y==1, 0], X[y==1, 1], \"yo\", label=\"Iris-Setosa\")\n",
        "\n",
        "plt.plot([axes[0], axes[1]], [a * axes[0] + b, a * axes[1] + b], \"k-\", linewidth=3)\n",
        "from matplotlib.colors import ListedColormap\n",
        "custom_cmap = ListedColormap(['#9898f1', '#fafab1'])\n",
        "\n",
        "plt.contourf(x0, x1, zz, cmap=custom_cmap)\n",
        "plt.xlabel(\"Petal length\", fontsize=14)\n",
        "plt.ylabel(\"Petal width\", fontsize=14)\n",
        "plt.legend(loc=\"lower right\", fontsize=14)\n",
        "plt.axis(axes)\n",
        "\n",
        "save_fig(\"perceptron_iris_plot\")\n",
        "plt.show()"
      ]
    },
    {
      "cell_type": "markdown",
      "metadata": {
        "id": "HyQtjVdmorsL"
      },
      "source": [
        "# Activation functions"
      ]
    },
    {
      "cell_type": "code",
      "execution_count": 6,
      "metadata": {
        "id": "2WKv79SdorsM"
      },
      "outputs": [],
      "source": [
        "def sigmoid(z):\n",
        "    return 1 / (1 + np.exp(-z))\n",
        "\n",
        "def relu(z):\n",
        "    return np.maximum(0, z)\n",
        "\n",
        "def derivative(f, z, eps=0.000001):\n",
        "    return (f(z + eps) - f(z - eps))/(2 * eps)"
      ]
    },
    {
      "cell_type": "code",
      "execution_count": 7,
      "metadata": {
        "id": "VeAmrJrxorsM",
        "outputId": "3f078184-661c-4ba6-88fe-88d50841aa54",
        "colab": {
          "base_uri": "https://localhost:8080/",
          "height": 314
        }
      },
      "outputs": [
        {
          "output_type": "stream",
          "name": "stdout",
          "text": [
            "Saving figure activation_functions_plot\n"
          ]
        },
        {
          "output_type": "display_data",
          "data": {
            "text/plain": [
              "<Figure size 792x288 with 2 Axes>"
            ],
            "image/png": "[encoded data removed]"
          },
          "metadata": {
            "needs_background": "light"
          }
        }
      ],
      "source": [
        "z = np.linspace(-5, 5, 200)\n",
        "\n",
        "plt.figure(figsize=(11,4))\n",
        "\n",
        "plt.subplot(121)\n",
        "plt.plot(z, np.sign(z), \"r-\", linewidth=1, label=\"Step\")\n",
        "plt.plot(z, sigmoid(z), \"g--\", linewidth=2, label=\"Sigmoid\")\n",
        "plt.plot(z, np.tanh(z), \"b-\", linewidth=2, label=\"Tanh\")\n",
        "plt.plot(z, relu(z), \"m-.\", linewidth=2, label=\"ReLU\")\n",
        "plt.grid(True)\n",
        "plt.legend(loc=\"center right\", fontsize=14)\n",
        "plt.title(\"Activation functions\", fontsize=14)\n",
        "plt.axis([-5, 5, -1.2, 1.2])\n",
        "\n",
        "plt.subplot(122)\n",
        "plt.plot(z, derivative(np.sign, z), \"r-\", linewidth=1, label=\"Step\")\n",
        "plt.plot(0, 0, \"ro\", markersize=5)\n",
        "plt.plot(0, 0, \"rx\", markersize=10)\n",
        "plt.plot(z, derivative(sigmoid, z), \"g--\", linewidth=2, label=\"Sigmoid\")\n",
        "plt.plot(z, derivative(np.tanh, z), \"b-\", linewidth=2, label=\"Tanh\")\n",
        "plt.plot(z, derivative(relu, z), \"m-.\", linewidth=2, label=\"ReLU\")\n",
        "plt.grid(True)\n",
        "#plt.legend(loc=\"center right\", fontsize=14)\n",
        "plt.title(\"Derivatives\", fontsize=14)\n",
        "plt.axis([-5, 5, -0.2, 1.2])\n",
        "\n",
        "save_fig(\"activation_functions_plot\")\n",
        "plt.show()"
      ]
    },
    {
      "cell_type": "code",
      "execution_count": 8,
      "metadata": {
        "id": "z0CgdnjPorsM"
      },
      "outputs": [],
      "source": [
        "def heaviside(z):\n",
        "    return (z >= 0).astype(z.dtype)\n",
        "\n",
        "def mlp_xor(x1, x2, activation=heaviside):\n",
        "    return activation(-activation(x1 + x2 - 1.5) + activation(x1 + x2 - 0.5) - 0.5)"
      ]
    },
    {
      "cell_type": "code",
      "execution_count": 9,
      "metadata": {
        "scrolled": true,
        "id": "AtdjahM9orsM",
        "outputId": "bf11728e-9bfc-42f4-d969-2de21830110f",
        "colab": {
          "base_uri": "https://localhost:8080/",
          "height": 285
        }
      },
      "outputs": [
        {
          "output_type": "display_data",
          "data": {
            "text/plain": [
              "<Figure size 720x288 with 2 Axes>"
            ],
            "image/png": "[encoded data removed]"
          },
          "metadata": {
            "needs_background": "light"
          }
        }
      ],
      "source": [
        "x1s = np.linspace(-0.2, 1.2, 100)\n",
        "x2s = np.linspace(-0.2, 1.2, 100)\n",
        "x1, x2 = np.meshgrid(x1s, x2s)\n",
        "\n",
        "z1 = mlp_xor(x1, x2, activation=heaviside)\n",
        "z2 = mlp_xor(x1, x2, activation=sigmoid)\n",
        "\n",
        "plt.figure(figsize=(10,4))\n",
        "\n",
        "plt.subplot(121)\n",
        "plt.contourf(x1, x2, z1)\n",
        "plt.plot([0, 1], [0, 1], \"gs\", markersize=20)\n",
        "plt.plot([0, 1], [1, 0], \"y^\", markersize=20)\n",
        "plt.title(\"Activation function: heaviside\", fontsize=14)\n",
        "plt.grid(True)\n",
        "\n",
        "plt.subplot(122)\n",
        "plt.contourf(x1, x2, z2)\n",
        "plt.plot([0, 1], [0, 1], \"gs\", markersize=20)\n",
        "plt.plot([0, 1], [1, 0], \"y^\", markersize=20)\n",
        "plt.title(\"Activation function: sigmoid\", fontsize=14)\n",
        "plt.grid(True)"
      ]
    },
    {
      "cell_type": "markdown",
      "metadata": {
        "id": "apD0xcWTorsN"
      },
      "source": [
        "# Building an Image Classifier"
      ]
    },
    {
      "cell_type": "code",
      "execution_count": 10,
      "metadata": {
        "id": "Uc_dXaABorsN"
      },
      "outputs": [],
      "source": [
        "import tensorflow as tf\n",
        "from tensorflow import keras"
      ]
    },
    {
      "cell_type": "markdown",
      "metadata": {
        "id": "MwBPJE6-orsO"
      },
      "source": [
        "load the fashion MNIST dataset. Keras has a number of functions to load popular datasets in `keras.datasets`. The dataset is already split for you between a training set and a test set, but it can be useful to split the training set further to have a validation set:"
      ]
    },
    {
      "cell_type": "code",
      "execution_count": 11,
      "metadata": {
        "id": "2GnQhydMorsO"
      },
      "outputs": [],
      "source": [
        "fashion_mnist = keras.datasets.fashion_mnist\n",
        "(X_train_full, y_train_full), (X_test, y_test) = fashion_mnist.load_data()"
      ]
    },
    {
      "cell_type": "markdown",
      "metadata": {
        "id": "_mwEX1f-orsO"
      },
      "source": [
        "The training set contains 60,000 grayscale images, each 28x28 pixels:"
      ]
    },
    {
      "cell_type": "code",
      "execution_count": 12,
      "metadata": {
        "id": "GogHmvL8orsO",
        "outputId": "29cb2f04-c19c-4169-d6e6-f9a2c0867040",
        "colab": {
          "base_uri": "https://localhost:8080/"
        }
      },
      "outputs": [
        {
          "output_type": "execute_result",
          "data": {
            "text/plain": [
              "(60000, 28, 28)"
            ]
          },
          "metadata": {},
          "execution_count": 12
        }
      ],
      "source": [
        "X_train_full.shape"
      ]
    },
    {
      "cell_type": "markdown",
      "metadata": {
        "id": "fBgYVMlLorsO"
      },
      "source": [
        "Each pixel intensity is represented as a byte (0 to 255):"
      ]
    },
    {
      "cell_type": "code",
      "execution_count": 13,
      "metadata": {
        "id": "qFgG3nMforsO",
        "outputId": "cde2ffbe-6857-43fe-9030-8c2aa1b9aaed",
        "colab": {
          "base_uri": "https://localhost:8080/"
        }
      },
      "outputs": [
        {
          "output_type": "execute_result",
          "data": {
            "text/plain": [
              "dtype('uint8')"
            ]
          },
          "metadata": {},
          "execution_count": 13
        }
      ],
      "source": [
        "X_train_full.dtype"
      ]
    },
    {
      "cell_type": "markdown",
      "metadata": {
        "id": "TgO-_ofRorsP"
      },
      "source": [
        "split the full training set into a validation set and a (smaller) training set. We also scale the pixel intensities down to the 0-1 range and convert them to floats, by dividing by 255."
      ]
    },
    {
      "cell_type": "code",
      "execution_count": 14,
      "metadata": {
        "id": "i-K0lB_GorsP"
      },
      "outputs": [],
      "source": [
        "X_valid, X_train = X_train_full[:5000] / 255., X_train_full[5000:] / 255.\n",
        "y_valid, y_train = y_train_full[:5000], y_train_full[5000:]\n",
        "X_test = X_test / 255."
      ]
    },
    {
      "cell_type": "code",
      "execution_count": 15,
      "metadata": {
        "id": "wG4yTbLRorsP",
        "outputId": "43b9111f-c64e-4e26-dcb3-c58b00612452",
        "colab": {
          "base_uri": "https://localhost:8080/",
          "height": 248
        }
      },
      "outputs": [
        {
          "output_type": "display_data",
          "data": {
            "text/plain": [
              "<Figure size 432x288 with 1 Axes>"
            ],
            "image/png": "[encoded data removed]"
          },
          "metadata": {
            "needs_background": "light"
          }
        }
      ],
      "source": [
        "plt.imshow(X_train[1], cmap=\"binary\")\n",
        "plt.axis('off')\n",
        "plt.show()"
      ]
    },
    {
      "cell_type": "markdown",
      "metadata": {
        "id": "ko4oQRBjorsP"
      },
      "source": [
        "The labels are the class IDs (represented as uint8), from 0 to 9:"
      ]
    },
    {
      "cell_type": "code",
      "execution_count": 16,
      "metadata": {
        "id": "TYKrn-i7orsP",
        "outputId": "b2fc9551-efd7-446d-b3fa-1a2bfaa1e16f",
        "colab": {
          "base_uri": "https://localhost:8080/"
        }
      },
      "outputs": [
        {
          "output_type": "execute_result",
          "data": {
            "text/plain": [
              "array([4, 0, 7, ..., 3, 0, 5], dtype=uint8)"
            ]
          },
          "metadata": {},
          "execution_count": 16
        }
      ],
      "source": [
        "y_train"
      ]
    },
    {
      "cell_type": "markdown",
      "metadata": {
        "id": "fTj4hNu4orsP"
      },
      "source": [
        "Here are the corresponding class names:"
      ]
    },
    {
      "cell_type": "code",
      "execution_count": 17,
      "metadata": {
        "id": "hBZB7MiSorsQ"
      },
      "outputs": [],
      "source": [
        "class_names = [\"T-shirt/top\", \"Trouser\", \"Pullover\", \"Dress\", \"Coat\",\n",
        "               \"Sandal\", \"Shirt\", \"Sneaker\", \"Bag\", \"Ankle boot\"]"
      ]
    },
    {
      "cell_type": "markdown",
      "metadata": {
        "id": "x8E29i70orsQ"
      },
      "source": [
        "So the first image in the training set is a coat:"
      ]
    },
    {
      "cell_type": "code",
      "execution_count": 18,
      "metadata": {
        "id": "UjFvaF2jorsR",
        "outputId": "b0e9b392-ffa3-44e6-ca74-d5bd4cf15a69",
        "colab": {
          "base_uri": "https://localhost:8080/",
          "height": 35
        }
      },
      "outputs": [
        {
          "output_type": "execute_result",
          "data": {
            "text/plain": [
              "'T-shirt/top'"
            ],
            "application/vnd.google.colaboratory.intrinsic+json": {
              "type": "string"
            }
          },
          "metadata": {},
          "execution_count": 18
        }
      ],
      "source": [
        "class_names[y_train[1]]"
      ]
    },
    {
      "cell_type": "markdown",
      "metadata": {
        "id": "5AFKxmPnorsR"
      },
      "source": [
        "The validation set contains 5,000 images, and the test set contains 10,000 images:"
      ]
    },
    {
      "cell_type": "code",
      "execution_count": 19,
      "metadata": {
        "id": "UGDe4_hlorsS",
        "outputId": "a2a234e7-de26-4449-bba0-ef9fda4ab0a1",
        "colab": {
          "base_uri": "https://localhost:8080/"
        }
      },
      "outputs": [
        {
          "output_type": "execute_result",
          "data": {
            "text/plain": [
              "(5000, 28, 28)"
            ]
          },
          "metadata": {},
          "execution_count": 19
        }
      ],
      "source": [
        "X_valid.shape"
      ]
    },
    {
      "cell_type": "code",
      "execution_count": 20,
      "metadata": {
        "id": "Syc6f7eEorsS",
        "outputId": "d4919c7a-362a-4038-984f-3e93365e0078",
        "colab": {
          "base_uri": "https://localhost:8080/"
        }
      },
      "outputs": [
        {
          "output_type": "execute_result",
          "data": {
            "text/plain": [
              "(10000, 28, 28)"
            ]
          },
          "metadata": {},
          "execution_count": 20
        }
      ],
      "source": [
        "X_test.shape"
      ]
    },
    {
      "cell_type": "code",
      "execution_count": 21,
      "metadata": {
        "id": "yMVjgc6xorsS",
        "outputId": "cf22848f-320c-42e5-c5a7-4836c238da22",
        "colab": {
          "base_uri": "https://localhost:8080/",
          "height": 325
        }
      },
      "outputs": [
        {
          "output_type": "stream",
          "name": "stdout",
          "text": [
            "Saving figure fashion_mnist_plot\n"
          ]
        },
        {
          "output_type": "display_data",
          "data": {
            "text/plain": [
              "<Figure size 864x345.6 with 40 Axes>"
            ],
            "image/png": "[encoded data removed]"
          },
          "metadata": {
            "needs_background": "light"
          }
        }
      ],
      "source": [
        "n_rows = 4\n",
        "n_cols = 10\n",
        "plt.figure(figsize=(n_cols * 1.2, n_rows * 1.2))\n",
        "for row in range(n_rows):\n",
        "    for col in range(n_cols):\n",
        "        index = n_cols * row + col\n",
        "        plt.subplot(n_rows, n_cols, index + 1)\n",
        "        plt.imshow(X_train[index], cmap=\"binary\", interpolation=\"nearest\")\n",
        "        plt.axis('off')\n",
        "        plt.title(class_names[y_train[index]], fontsize=12)\n",
        "plt.subplots_adjust(wspace=0.2, hspace=0.5)\n",
        "save_fig('fashion_mnist_plot', tight_layout=False)\n",
        "plt.show()"
      ]
    },
    {
      "cell_type": "code",
      "execution_count": 22,
      "metadata": {
        "id": "hKg8MFqXorsS"
      },
      "outputs": [],
      "source": [
        "model = keras.models.Sequential()\n",
        "model.add(keras.layers.Flatten(input_shape=[28, 28]))\n",
        "model.add(keras.layers.Dense(300, activation=\"relu\"))\n",
        "model.add(keras.layers.Dense(100, activation=\"relu\"))\n",
        "model.add(keras.layers.Dense(10, activation=\"softmax\"))"
      ]
    },
    {
      "cell_type": "code",
      "execution_count": 23,
      "metadata": {
        "id": "mc4FSSdQorsT"
      },
      "outputs": [],
      "source": [
        "keras.backend.clear_session()\n",
        "np.random.seed(42)\n",
        "tf.random.set_seed(42)"
      ]
    },
    {
      "cell_type": "code",
      "execution_count": 24,
      "metadata": {
        "id": "QrfFE2erorsT"
      },
      "outputs": [],
      "source": [
        "model = keras.models.Sequential([\n",
        "    keras.layers.Flatten(input_shape=[28, 28]),\n",
        "    keras.layers.Dense(300, activation=\"relu\"),\n",
        "    keras.layers.Dense(100, activation=\"relu\"),\n",
        "    keras.layers.Dense(10, activation=\"softmax\")\n",
        "])"
      ]
    },
    {
      "cell_type": "code",
      "execution_count": 25,
      "metadata": {
        "id": "F-Va4a4ForsT",
        "outputId": "c335c1f5-99ca-4203-c08e-29ab8dc2c0aa",
        "colab": {
          "base_uri": "https://localhost:8080/"
        }
      },
      "outputs": [
        {
          "output_type": "execute_result",
          "data": {
            "text/plain": [
              "[<keras.layers.core.flatten.Flatten at 0x7fb17034d4d0>,\n",
              " <keras.layers.core.dense.Dense at 0x7fb17034d650>,\n",
              " <keras.layers.core.dense.Dense at 0x7fb1895887d0>,\n",
              " <keras.layers.core.dense.Dense at 0x7fb17034dc90>]"
            ]
          },
          "metadata": {},
          "execution_count": 25
        }
      ],
      "source": [
        "model.layers"
      ]
    },
    {
      "cell_type": "code",
      "execution_count": 26,
      "metadata": {
        "id": "u0bwOYFzorsU",
        "outputId": "20a0f9a3-d8a1-417b-e75e-77bd0137517a",
        "colab": {
          "base_uri": "https://localhost:8080/"
        }
      },
      "outputs": [
        {
          "output_type": "stream",
          "name": "stdout",
          "text": [
            "Model: \"sequential\"\n",
            "_________________________________________________________________\n",
            " Layer (type)                Output Shape              Param #   \n",
            "=================================================================\n",
            " flatten (Flatten)           (None, 784)               0         \n",
            "                                                                 \n",
            " dense (Dense)               (None, 300)               235500    \n",
            "                                                                 \n",
            " dense_1 (Dense)             (None, 100)               30100     \n",
            "                                                                 \n",
            " dense_2 (Dense)             (None, 10)                1010      \n",
            "                                                                 \n",
            "=================================================================\n",
            "Total params: 266,610\n",
            "Trainable params: 266,610\n",
            "Non-trainable params: 0\n",
            "_________________________________________________________________\n"
          ]
        }
      ],
      "source": [
        "model.summary()"
      ]
    },
    {
      "cell_type": "code",
      "execution_count": 27,
      "metadata": {
        "id": "ftb3KVR1orsU",
        "outputId": "e789d3a1-54bd-48ac-aec5-8f2a926d21a0",
        "colab": {
          "base_uri": "https://localhost:8080/",
          "height": 533
        }
      },
      "outputs": [
        {
          "output_type": "execute_result",
          "data": {
            "text/plain": [
              "<IPython.core.display.Image object>"
            ],
            "image/png": "[encoded data removed]"
          },
          "metadata": {},
          "execution_count": 27
        }
      ],
      "source": [
        "keras.utils.plot_model(model, \"my_fashion_mnist_model.png\", show_shapes=True)"
      ]
    },
    {
      "cell_type": "code",
      "execution_count": 28,
      "metadata": {
        "id": "U7-xraDPorsU",
        "outputId": "9ee37443-8298-46d6-8d6f-e0a1ebbd1939",
        "colab": {
          "base_uri": "https://localhost:8080/",
          "height": 35
        }
      },
      "outputs": [
        {
          "output_type": "execute_result",
          "data": {
            "text/plain": [
              "'dense'"
            ],
            "application/vnd.google.colaboratory.intrinsic+json": {
              "type": "string"
            }
          },
          "metadata": {},
          "execution_count": 28
        }
      ],
      "source": [
        "hidden1 = model.layers[1]\n",
        "hidden1.name"
      ]
    },
    {
      "cell_type": "code",
      "execution_count": 29,
      "metadata": {
        "id": "N5QMapGiorsU",
        "outputId": "d5a79b58-0cae-4e11-ee80-3c61d5ced18d",
        "colab": {
          "base_uri": "https://localhost:8080/"
        }
      },
      "outputs": [
        {
          "output_type": "execute_result",
          "data": {
            "text/plain": [
              "True"
            ]
          },
          "metadata": {},
          "execution_count": 29
        }
      ],
      "source": [
        "model.get_layer(hidden1.name) is hidden1"
      ]
    },
    {
      "cell_type": "code",
      "execution_count": 30,
      "metadata": {
        "id": "26gjr923orsU"
      },
      "outputs": [],
      "source": [
        "weights, biases = hidden1.get_weights()"
      ]
    },
    {
      "cell_type": "code",
      "execution_count": 31,
      "metadata": {
        "id": "mmcD5JKdorsU",
        "outputId": "72aafbb8-4c18-4265-c4bf-2c22a17fb1e4",
        "colab": {
          "base_uri": "https://localhost:8080/"
        }
      },
      "outputs": [
        {
          "output_type": "execute_result",
          "data": {
            "text/plain": [
              "array([[ 0.02448617, -0.00877795, -0.02189048, ..., -0.02766046,\n",
              "         0.03859074, -0.06889391],\n",
              "       [ 0.00476504, -0.03105379, -0.0586676 , ...,  0.00602964,\n",
              "        -0.02763776, -0.04165364],\n",
              "       [-0.06189284, -0.06901957,  0.07102345, ..., -0.04238207,\n",
              "         0.07121518, -0.07331658],\n",
              "       ...,\n",
              "       [-0.03048757,  0.02155137, -0.05400612, ..., -0.00113463,\n",
              "         0.00228987,  0.05581069],\n",
              "       [ 0.07061854, -0.06960931,  0.07038955, ..., -0.00384101,\n",
              "         0.00034875,  0.02878492],\n",
              "       [-0.06022581,  0.01577859, -0.02585464, ..., -0.00527829,\n",
              "         0.00272203, -0.06793761]], dtype=float32)"
            ]
          },
          "metadata": {},
          "execution_count": 31
        }
      ],
      "source": [
        "weights"
      ]
    },
    {
      "cell_type": "code",
      "execution_count": 32,
      "metadata": {
        "id": "LUPAMVQAorsU",
        "outputId": "ff6c0e88-cc01-4a64-c9c6-eae58db0ef30",
        "colab": {
          "base_uri": "https://localhost:8080/"
        }
      },
      "outputs": [
        {
          "output_type": "execute_result",
          "data": {
            "text/plain": [
              "(784, 300)"
            ]
          },
          "metadata": {},
          "execution_count": 32
        }
      ],
      "source": [
        "weights.shape"
      ]
    },
    {
      "cell_type": "code",
      "execution_count": 33,
      "metadata": {
        "id": "IL1Cw1AgorsU",
        "outputId": "e082ebdf-0418-443a-ae30-13b757538d73",
        "colab": {
          "base_uri": "https://localhost:8080/"
        }
      },
      "outputs": [
        {
          "output_type": "execute_result",
          "data": {
            "text/plain": [
              "array([0., 0., 0., 0., 0., 0., 0., 0., 0., 0., 0., 0., 0., 0., 0., 0., 0.,\n",
              "       0., 0., 0., 0., 0., 0., 0., 0., 0., 0., 0., 0., 0., 0., 0., 0., 0.,\n",
              "       0., 0., 0., 0., 0., 0., 0., 0., 0., 0., 0., 0., 0., 0., 0., 0., 0.,\n",
              "       0., 0., 0., 0., 0., 0., 0., 0., 0., 0., 0., 0., 0., 0., 0., 0., 0.,\n",
              "       0., 0., 0., 0., 0., 0., 0., 0., 0., 0., 0., 0., 0., 0., 0., 0., 0.,\n",
              "       0., 0., 0., 0., 0., 0., 0., 0., 0., 0., 0., 0., 0., 0., 0., 0., 0.,\n",
              "       0., 0., 0., 0., 0., 0., 0., 0., 0., 0., 0., 0., 0., 0., 0., 0., 0.,\n",
              "       0., 0., 0., 0., 0., 0., 0., 0., 0., 0., 0., 0., 0., 0., 0., 0., 0.,\n",
              "       0., 0., 0., 0., 0., 0., 0., 0., 0., 0., 0., 0., 0., 0., 0., 0., 0.,\n",
              "       0., 0., 0., 0., 0., 0., 0., 0., 0., 0., 0., 0., 0., 0., 0., 0., 0.,\n",
              "       0., 0., 0., 0., 0., 0., 0., 0., 0., 0., 0., 0., 0., 0., 0., 0., 0.,\n",
              "       0., 0., 0., 0., 0., 0., 0., 0., 0., 0., 0., 0., 0., 0., 0., 0., 0.,\n",
              "       0., 0., 0., 0., 0., 0., 0., 0., 0., 0., 0., 0., 0., 0., 0., 0., 0.,\n",
              "       0., 0., 0., 0., 0., 0., 0., 0., 0., 0., 0., 0., 0., 0., 0., 0., 0.,\n",
              "       0., 0., 0., 0., 0., 0., 0., 0., 0., 0., 0., 0., 0., 0., 0., 0., 0.,\n",
              "       0., 0., 0., 0., 0., 0., 0., 0., 0., 0., 0., 0., 0., 0., 0., 0., 0.,\n",
              "       0., 0., 0., 0., 0., 0., 0., 0., 0., 0., 0., 0., 0., 0., 0., 0., 0.,\n",
              "       0., 0., 0., 0., 0., 0., 0., 0., 0., 0., 0.], dtype=float32)"
            ]
          },
          "metadata": {},
          "execution_count": 33
        }
      ],
      "source": [
        "biases"
      ]
    },
    {
      "cell_type": "code",
      "execution_count": 34,
      "metadata": {
        "id": "7xPq90k2orsU",
        "outputId": "672b599a-308e-4b6b-fcdd-be8a1ab297a1",
        "colab": {
          "base_uri": "https://localhost:8080/"
        }
      },
      "outputs": [
        {
          "output_type": "execute_result",
          "data": {
            "text/plain": [
              "(300,)"
            ]
          },
          "metadata": {},
          "execution_count": 34
        }
      ],
      "source": [
        "biases.shape"
      ]
    },
    {
      "cell_type": "code",
      "execution_count": 35,
      "metadata": {
        "id": "sLLOLW2sorsV"
      },
      "outputs": [],
      "source": [
        "model.compile(loss=\"sparse_categorical_crossentropy\",\n",
        "              optimizer=\"sgd\",\n",
        "              metrics=[\"accuracy\"])"
      ]
    },
    {
      "cell_type": "markdown",
      "metadata": {
        "id": "r_vDB1EhorsV"
      },
      "source": [
        "This is equivalent to:"
      ]
    },
    {
      "cell_type": "markdown",
      "metadata": {
        "id": "RSC7Q6fvorsV"
      },
      "source": [
        "```python\n",
        "model.compile(loss=keras.losses.sparse_categorical_crossentropy,\n",
        "              optimizer=keras.optimizers.SGD(),\n",
        "              metrics=[keras.metrics.sparse_categorical_accuracy])\n",
        "```"
      ]
    },
    {
      "cell_type": "code",
      "execution_count": 36,
      "metadata": {
        "id": "uw78CbQiorsV",
        "outputId": "cd1acc0d-0273-419c-88f0-47bea7d188d5",
        "colab": {
          "base_uri": "https://localhost:8080/"
        }
      },
      "outputs": [
        {
          "output_type": "stream",
          "name": "stdout",
          "text": [
            "Epoch 1/30\n",
            "1719/1719 [==============================] - 12s 6ms/step - loss: 0.7237 - accuracy: 0.7642 - val_loss: 0.5207 - val_accuracy: 0.8240\n",
            "Epoch 2/30\n",
            "1719/1719 [==============================] - 6s 4ms/step - loss: 0.4842 - accuracy: 0.8317 - val_loss: 0.4354 - val_accuracy: 0.8522\n",
            "Epoch 3/30\n",
            "1719/1719 [==============================] - 6s 4ms/step - loss: 0.4390 - accuracy: 0.8459 - val_loss: 0.5383 - val_accuracy: 0.7974\n",
            "Epoch 4/30\n",
            "1719/1719 [==============================] - 6s 4ms/step - loss: 0.4122 - accuracy: 0.8563 - val_loss: 0.3920 - val_accuracy: 0.8642\n",
            "Epoch 5/30\n",
            "1719/1719 [==============================] - 6s 4ms/step - loss: 0.3940 - accuracy: 0.8619 - val_loss: 0.3746 - val_accuracy: 0.8684\n",
            "Epoch 6/30\n",
            "1719/1719 [==============================] - 6s 4ms/step - loss: 0.3752 - accuracy: 0.8676 - val_loss: 0.3716 - val_accuracy: 0.8722\n",
            "Epoch 7/30\n",
            "1719/1719 [==============================] - 6s 4ms/step - loss: 0.3632 - accuracy: 0.8717 - val_loss: 0.3632 - val_accuracy: 0.8718\n",
            "Epoch 8/30\n",
            "1719/1719 [==============================] - 6s 4ms/step - loss: 0.3518 - accuracy: 0.8747 - val_loss: 0.3856 - val_accuracy: 0.8616\n",
            "Epoch 9/30\n",
            "1719/1719 [==============================] - 6s 4ms/step - loss: 0.3415 - accuracy: 0.8792 - val_loss: 0.3592 - val_accuracy: 0.8708\n",
            "Epoch 10/30\n",
            "1719/1719 [==============================] - 6s 3ms/step - loss: 0.3320 - accuracy: 0.8826 - val_loss: 0.3426 - val_accuracy: 0.8778\n",
            "Epoch 11/30\n",
            "1719/1719 [==============================] - 6s 4ms/step - loss: 0.3241 - accuracy: 0.8839 - val_loss: 0.3434 - val_accuracy: 0.8776\n",
            "Epoch 12/30\n",
            "1719/1719 [==============================] - 6s 4ms/step - loss: 0.3150 - accuracy: 0.8865 - val_loss: 0.3307 - val_accuracy: 0.8828\n",
            "Epoch 13/30\n",
            "1719/1719 [==============================] - 6s 4ms/step - loss: 0.3081 - accuracy: 0.8892 - val_loss: 0.3267 - val_accuracy: 0.8882\n",
            "Epoch 14/30\n",
            "1719/1719 [==============================] - 6s 3ms/step - loss: 0.3022 - accuracy: 0.8913 - val_loss: 0.3429 - val_accuracy: 0.8776\n",
            "Epoch 15/30\n",
            "1719/1719 [==============================] - 8s 5ms/step - loss: 0.2948 - accuracy: 0.8938 - val_loss: 0.3223 - val_accuracy: 0.8862\n",
            "Epoch 16/30\n",
            "1719/1719 [==============================] - 6s 4ms/step - loss: 0.2892 - accuracy: 0.8970 - val_loss: 0.3096 - val_accuracy: 0.8898\n",
            "Epoch 17/30\n",
            "1719/1719 [==============================] - 6s 4ms/step - loss: 0.2840 - accuracy: 0.8975 - val_loss: 0.3571 - val_accuracy: 0.8728\n",
            "Epoch 18/30\n",
            "1719/1719 [==============================] - 6s 4ms/step - loss: 0.2779 - accuracy: 0.9003 - val_loss: 0.3141 - val_accuracy: 0.8908\n",
            "Epoch 19/30\n",
            "1719/1719 [==============================] - 9s 5ms/step - loss: 0.2731 - accuracy: 0.9023 - val_loss: 0.3121 - val_accuracy: 0.8906\n",
            "Epoch 20/30\n",
            "1719/1719 [==============================] - 10s 6ms/step - loss: 0.2677 - accuracy: 0.9032 - val_loss: 0.3292 - val_accuracy: 0.8796\n",
            "Epoch 21/30\n",
            "1719/1719 [==============================] - 6s 3ms/step - loss: 0.2627 - accuracy: 0.9048 - val_loss: 0.3077 - val_accuracy: 0.8924\n",
            "Epoch 22/30\n",
            "1719/1719 [==============================] - 6s 3ms/step - loss: 0.2578 - accuracy: 0.9073 - val_loss: 0.2972 - val_accuracy: 0.8962\n",
            "Epoch 23/30\n",
            "1719/1719 [==============================] - 6s 4ms/step - loss: 0.2540 - accuracy: 0.9082 - val_loss: 0.2996 - val_accuracy: 0.8940\n",
            "Epoch 24/30\n",
            "1719/1719 [==============================] - 6s 4ms/step - loss: 0.2489 - accuracy: 0.9095 - val_loss: 0.3097 - val_accuracy: 0.8876\n",
            "Epoch 25/30\n",
            "1719/1719 [==============================] - 6s 4ms/step - loss: 0.2446 - accuracy: 0.9129 - val_loss: 0.2974 - val_accuracy: 0.8962\n",
            "Epoch 26/30\n",
            "1719/1719 [==============================] - 6s 4ms/step - loss: 0.2407 - accuracy: 0.9137 - val_loss: 0.3081 - val_accuracy: 0.8898\n",
            "Epoch 27/30\n",
            "1719/1719 [==============================] - 6s 4ms/step - loss: 0.2365 - accuracy: 0.9157 - val_loss: 0.3018 - val_accuracy: 0.8946\n",
            "Epoch 28/30\n",
            "1719/1719 [==============================] - 6s 4ms/step - loss: 0.2329 - accuracy: 0.9162 - val_loss: 0.3000 - val_accuracy: 0.8942\n",
            "Epoch 29/30\n",
            "1719/1719 [==============================] - 6s 4ms/step - loss: 0.2286 - accuracy: 0.9185 - val_loss: 0.3062 - val_accuracy: 0.8876\n",
            "Epoch 30/30\n",
            "1719/1719 [==============================] - 6s 4ms/step - loss: 0.2254 - accuracy: 0.9196 - val_loss: 0.3013 - val_accuracy: 0.8926\n"
          ]
        }
      ],
      "source": [
        "history = model.fit(X_train, y_train, epochs=30,\n",
        "                    validation_data=(X_valid, y_valid))"
      ]
    },
    {
      "cell_type": "code",
      "execution_count": 37,
      "metadata": {
        "id": "Z1dc-O6VorsV",
        "outputId": "b8b41942-704c-4e5e-bcf0-1fff20e0c558",
        "colab": {
          "base_uri": "https://localhost:8080/"
        }
      },
      "outputs": [
        {
          "output_type": "execute_result",
          "data": {
            "text/plain": [
              "{'epochs': 30, 'steps': 1719, 'verbose': 1}"
            ]
          },
          "metadata": {},
          "execution_count": 37
        }
      ],
      "source": [
        "history.params"
      ]
    },
    {
      "cell_type": "code",
      "execution_count": 38,
      "metadata": {
        "id": "F2wMnQ5corsV",
        "outputId": "7ad27312-226a-49bb-ae22-c4968faae8b5",
        "colab": {
          "base_uri": "https://localhost:8080/"
        }
      },
      "outputs": [
        {
          "output_type": "stream",
          "name": "stdout",
          "text": [
            "[0, 1, 2, 3, 4, 5, 6, 7, 8, 9, 10, 11, 12, 13, 14, 15, 16, 17, 18, 19, 20, 21, 22, 23, 24, 25, 26, 27, 28, 29]\n"
          ]
        }
      ],
      "source": [
        "print(history.epoch)"
      ]
    },
    {
      "cell_type": "code",
      "execution_count": 39,
      "metadata": {
        "id": "-8ZOEYWQorsV",
        "outputId": "b4acae95-521a-40e1-a065-2d3aaa4c17bf",
        "colab": {
          "base_uri": "https://localhost:8080/"
        }
      },
      "outputs": [
        {
          "output_type": "execute_result",
          "data": {
            "text/plain": [
              "dict_keys(['loss', 'accuracy', 'val_loss', 'val_accuracy'])"
            ]
          },
          "metadata": {},
          "execution_count": 39
        }
      ],
      "source": [
        "history.history.keys()"
      ]
    },
    {
      "cell_type": "code",
      "execution_count": 40,
      "metadata": {
        "id": "qh-kv85xorsV",
        "outputId": "a9a74c4f-d715-401e-fd85-b4fc0a9de771",
        "colab": {
          "base_uri": "https://localhost:8080/",
          "height": 386
        }
      },
      "outputs": [
        {
          "output_type": "stream",
          "name": "stdout",
          "text": [
            "Saving figure keras_learning_curves_plot\n"
          ]
        },
        {
          "output_type": "display_data",
          "data": {
            "text/plain": [
              "<Figure size 576x360 with 1 Axes>"
            ],
            "image/png": "[encoded data removed]"
          },
          "metadata": {
            "needs_background": "light"
          }
        }
      ],
      "source": [
        "import pandas as pd\n",
        "\n",
        "pd.DataFrame(history.history).plot(figsize=(8, 5))\n",
        "plt.grid(True)\n",
        "plt.gca().set_ylim(0, 1)\n",
        "save_fig(\"keras_learning_curves_plot\")\n",
        "plt.show()"
      ]
    },
    {
      "cell_type": "code",
      "execution_count": 41,
      "metadata": {
        "id": "PUM1MpKnorsV",
        "outputId": "d00529d3-194f-4c9b-83b6-32a45f98a4c6",
        "colab": {
          "base_uri": "https://localhost:8080/"
        }
      },
      "outputs": [
        {
          "output_type": "stream",
          "name": "stdout",
          "text": [
            "313/313 [==============================] - 1s 3ms/step - loss: 0.3344 - accuracy: 0.8840\n"
          ]
        },
        {
          "output_type": "execute_result",
          "data": {
            "text/plain": [
              "[0.3343992531299591, 0.8840000033378601]"
            ]
          },
          "metadata": {},
          "execution_count": 41
        }
      ],
      "source": [
        "model.evaluate(X_test, y_test)"
      ]
    },
    {
      "cell_type": "code",
      "execution_count": 42,
      "metadata": {
        "id": "yrjacvdoorsV",
        "outputId": "4cc7f1b7-d5a2-4f4d-dfdb-54ce27b99795",
        "colab": {
          "base_uri": "https://localhost:8080/"
        }
      },
      "outputs": [
        {
          "output_type": "execute_result",
          "data": {
            "text/plain": [
              "array([[0.  , 0.  , 0.  , 0.  , 0.  , 0.01, 0.  , 0.02, 0.  , 0.96],\n",
              "       [0.  , 0.  , 0.97, 0.  , 0.03, 0.  , 0.  , 0.  , 0.  , 0.  ],\n",
              "       [0.  , 1.  , 0.  , 0.  , 0.  , 0.  , 0.  , 0.  , 0.  , 0.  ]],\n",
              "      dtype=float32)"
            ]
          },
          "metadata": {},
          "execution_count": 42
        }
      ],
      "source": [
        "X_new = X_test[:3]\n",
        "y_proba = model.predict(X_new)\n",
        "y_proba.round(2)"
      ]
    },
    {
      "cell_type": "code",
      "execution_count": 43,
      "metadata": {
        "id": "Yl-lqGSforsW",
        "outputId": "3d5ca5c9-dee1-4ffc-b80b-8ff59cc2c505",
        "colab": {
          "base_uri": "https://localhost:8080/"
        }
      },
      "outputs": [
        {
          "output_type": "execute_result",
          "data": {
            "text/plain": [
              "array([9, 2, 1])"
            ]
          },
          "metadata": {},
          "execution_count": 43
        }
      ],
      "source": [
        "y_pred = np.argmax(model.predict(X_new), axis=-1)\n",
        "y_pred"
      ]
    },
    {
      "cell_type": "code",
      "execution_count": 44,
      "metadata": {
        "id": "RZ4jpoenorsW",
        "outputId": "3608e49f-f7ae-4c83-f651-5070dc5439a5",
        "colab": {
          "base_uri": "https://localhost:8080/"
        }
      },
      "outputs": [
        {
          "output_type": "execute_result",
          "data": {
            "text/plain": [
              "array(['Ankle boot', 'Pullover', 'Trouser'], dtype='<U11')"
            ]
          },
          "metadata": {},
          "execution_count": 44
        }
      ],
      "source": [
        "np.array(class_names)[y_pred]"
      ]
    },
    {
      "cell_type": "code",
      "execution_count": 45,
      "metadata": {
        "id": "Sf1-LOqworsW",
        "outputId": "40b8bf92-a910-44e2-ee38-a0e4a6c6f504",
        "colab": {
          "base_uri": "https://localhost:8080/"
        }
      },
      "outputs": [
        {
          "output_type": "execute_result",
          "data": {
            "text/plain": [
              "array([9, 2, 1], dtype=uint8)"
            ]
          },
          "metadata": {},
          "execution_count": 45
        }
      ],
      "source": [
        "y_new = y_test[:3]\n",
        "y_new"
      ]
    },
    {
      "cell_type": "code",
      "execution_count": 46,
      "metadata": {
        "id": "4A5xPrgVorsW",
        "outputId": "a0e30150-da77-4051-ea1e-6ced7325e0e2",
        "colab": {
          "base_uri": "https://localhost:8080/",
          "height": 182
        }
      },
      "outputs": [
        {
          "output_type": "stream",
          "name": "stdout",
          "text": [
            "Saving figure fashion_mnist_images_plot\n"
          ]
        },
        {
          "output_type": "display_data",
          "data": {
            "text/plain": [
              "<Figure size 518.4x172.8 with 3 Axes>"
            ],
            "image/png": "[encoded data removed]"
          },
          "metadata": {
            "needs_background": "light"
          }
        }
      ],
      "source": [
        "plt.figure(figsize=(7.2, 2.4))\n",
        "for index, image in enumerate(X_new):\n",
        "    plt.subplot(1, 3, index + 1)\n",
        "    plt.imshow(image, cmap=\"binary\", interpolation=\"nearest\")\n",
        "    plt.axis('off')\n",
        "    plt.title(class_names[y_test[index]], fontsize=12)\n",
        "plt.subplots_adjust(wspace=0.2, hspace=0.5)\n",
        "save_fig('fashion_mnist_images_plot', tight_layout=False)\n",
        "plt.show()"
      ]
    },
    {
      "cell_type": "markdown",
      "metadata": {
        "id": "DvyJxw1yorsW"
      },
      "source": [
        "# Regression MLP"
      ]
    },
    {
      "cell_type": "markdown",
      "metadata": {
        "id": "oxtD6WEuorsW"
      },
      "source": [
        "load, split and scale the California housing dataset"
      ]
    },
    {
      "cell_type": "code",
      "execution_count": 47,
      "metadata": {
        "id": "VxeAQwzWorsW"
      },
      "outputs": [],
      "source": [
        "from sklearn.datasets import fetch_california_housing\n",
        "from sklearn.model_selection import train_test_split\n",
        "from sklearn.preprocessing import StandardScaler\n",
        "\n",
        "housing = fetch_california_housing()\n",
        "\n",
        "X_train_full, X_test, y_train_full, y_test = train_test_split(housing.data, housing.target, random_state=42)\n",
        "X_train, X_valid, y_train, y_valid = train_test_split(X_train_full, y_train_full, random_state=42)\n",
        "\n",
        "scaler = StandardScaler()\n",
        "X_train = scaler.fit_transform(X_train)\n",
        "X_valid = scaler.transform(X_valid)\n",
        "X_test = scaler.transform(X_test)"
      ]
    },
    {
      "cell_type": "code",
      "execution_count": 48,
      "metadata": {
        "id": "ArA2gfPUorsW"
      },
      "outputs": [],
      "source": [
        "np.random.seed(42)\n",
        "tf.random.set_seed(42)"
      ]
    },
    {
      "cell_type": "code",
      "execution_count": 49,
      "metadata": {
        "id": "OXCo3MWDorsW",
        "outputId": "3d8f13c1-3820-4e55-888a-98347201c892",
        "colab": {
          "base_uri": "https://localhost:8080/"
        }
      },
      "outputs": [
        {
          "output_type": "stream",
          "name": "stdout",
          "text": [
            "Epoch 1/20\n",
            "363/363 [==============================] - 2s 5ms/step - loss: 1.6419 - val_loss: 0.8560\n",
            "Epoch 2/20\n",
            "363/363 [==============================] - 2s 5ms/step - loss: 0.7047 - val_loss: 0.6531\n",
            "Epoch 3/20\n",
            "363/363 [==============================] - 1s 4ms/step - loss: 0.6345 - val_loss: 0.6099\n",
            "Epoch 4/20\n",
            "363/363 [==============================] - 1s 4ms/step - loss: 0.5977 - val_loss: 0.5658\n",
            "Epoch 5/20\n",
            "363/363 [==============================] - 1s 4ms/step - loss: 0.5706 - val_loss: 0.5355\n",
            "Epoch 6/20\n",
            "363/363 [==============================] - 1s 4ms/step - loss: 0.5472 - val_loss: 0.5173\n",
            "Epoch 7/20\n",
            "363/363 [==============================] - 1s 4ms/step - loss: 0.5288 - val_loss: 0.5081\n",
            "Epoch 8/20\n",
            "363/363 [==============================] - 1s 4ms/step - loss: 0.5130 - val_loss: 0.4799\n",
            "Epoch 9/20\n",
            "363/363 [==============================] - 1s 4ms/step - loss: 0.4992 - val_loss: 0.4690\n",
            "Epoch 10/20\n",
            "363/363 [==============================] - 1s 4ms/step - loss: 0.4875 - val_loss: 0.4656\n",
            "Epoch 11/20\n",
            "363/363 [==============================] - 1s 4ms/step - loss: 0.4777 - val_loss: 0.4482\n",
            "Epoch 12/20\n",
            "363/363 [==============================] - 1s 4ms/step - loss: 0.4688 - val_loss: 0.4479\n",
            "Epoch 13/20\n",
            "363/363 [==============================] - 1s 4ms/step - loss: 0.4615 - val_loss: 0.4296\n",
            "Epoch 14/20\n",
            "363/363 [==============================] - 1s 4ms/step - loss: 0.4547 - val_loss: 0.4233\n",
            "Epoch 15/20\n",
            "363/363 [==============================] - 1s 4ms/step - loss: 0.4488 - val_loss: 0.4176\n",
            "Epoch 16/20\n",
            "363/363 [==============================] - 1s 4ms/step - loss: 0.4435 - val_loss: 0.4123\n",
            "Epoch 17/20\n",
            "363/363 [==============================] - 1s 4ms/step - loss: 0.4389 - val_loss: 0.4071\n",
            "Epoch 18/20\n",
            "363/363 [==============================] - 1s 4ms/step - loss: 0.4347 - val_loss: 0.4037\n",
            "Epoch 19/20\n",
            "363/363 [==============================] - 1s 4ms/step - loss: 0.4306 - val_loss: 0.4000\n",
            "Epoch 20/20\n",
            "363/363 [==============================] - 1s 4ms/step - loss: 0.4273 - val_loss: 0.3969\n",
            "162/162 [==============================] - 0s 2ms/step - loss: 0.4212\n"
          ]
        }
      ],
      "source": [
        "model = keras.models.Sequential([\n",
        "    keras.layers.Dense(30, activation=\"relu\", input_shape=X_train.shape[1:]),\n",
        "    keras.layers.Dense(1)\n",
        "])\n",
        "model.compile(loss=\"mean_squared_error\", optimizer=keras.optimizers.SGD(learning_rate=1e-3))\n",
        "history = model.fit(X_train, y_train, epochs=20, validation_data=(X_valid, y_valid))\n",
        "mse_test = model.evaluate(X_test, y_test)\n",
        "X_new = X_test[:3]\n",
        "y_pred = model.predict(X_new)"
      ]
    },
    {
      "cell_type": "code",
      "execution_count": 50,
      "metadata": {
        "id": "bfbqHiG_orsW",
        "outputId": "2a391ff2-ead4-461e-e443-43e0f54d4c03",
        "colab": {
          "base_uri": "https://localhost:8080/",
          "height": 273
        }
      },
      "outputs": [
        {
          "output_type": "display_data",
          "data": {
            "text/plain": [
              "<Figure size 432x288 with 1 Axes>"
            ],
            "image/png": "[encoded data removed]"
          },
          "metadata": {
            "needs_background": "light"
          }
        }
      ],
      "source": [
        "plt.plot(pd.DataFrame(history.history))\n",
        "plt.grid(True)\n",
        "plt.gca().set_ylim(0, 1)\n",
        "plt.show()"
      ]
    },
    {
      "cell_type": "code",
      "execution_count": 51,
      "metadata": {
        "id": "P1qnXdGVorsX",
        "outputId": "05eadb27-1418-43ad-e691-323f064d25c9",
        "colab": {
          "base_uri": "https://localhost:8080/"
        }
      },
      "outputs": [
        {
          "output_type": "execute_result",
          "data": {
            "text/plain": [
              "array([[0.38856632],\n",
              "       [1.6792021 ],\n",
              "       [3.1022794 ]], dtype=float32)"
            ]
          },
          "metadata": {},
          "execution_count": 51
        }
      ],
      "source": [
        "y_pred"
      ]
    },
    {
      "cell_type": "markdown",
      "metadata": {
        "id": "CKkBmfphorsX"
      },
      "source": [
        "# Functional API"
      ]
    },
    {
      "cell_type": "markdown",
      "metadata": {
        "id": "jDrjFY3aorsX"
      },
      "source": [
        "Not all neural network models are simply sequential. Some may have complex topologies. Some may have multiple inputs and/or multiple outputs."
      ]
    },
    {
      "cell_type": "code",
      "execution_count": 52,
      "metadata": {
        "id": "BBCOmri9orsX"
      },
      "outputs": [],
      "source": [
        "np.random.seed(42)\n",
        "tf.random.set_seed(42)"
      ]
    },
    {
      "cell_type": "code",
      "execution_count": 53,
      "metadata": {
        "id": "87hrhpUPorsX"
      },
      "outputs": [],
      "source": [
        "input_ = keras.layers.Input(shape=X_train.shape[1:])\n",
        "hidden1 = keras.layers.Dense(30, activation=\"relu\")(input_)\n",
        "hidden2 = keras.layers.Dense(30, activation=\"relu\")(hidden1)\n",
        "concat = keras.layers.concatenate([input_, hidden2])\n",
        "output = keras.layers.Dense(1)(concat)\n",
        "model = keras.models.Model(inputs=[input_], outputs=[output])"
      ]
    },
    {
      "cell_type": "code",
      "execution_count": 54,
      "metadata": {
        "id": "O1xikgMJorsX",
        "outputId": "3cd72770-1afe-47ce-cabf-5836b8c5e6a2",
        "colab": {
          "base_uri": "https://localhost:8080/"
        }
      },
      "outputs": [
        {
          "output_type": "stream",
          "name": "stdout",
          "text": [
            "Model: \"model\"\n",
            "__________________________________________________________________________________________________\n",
            " Layer (type)                   Output Shape         Param #     Connected to                     \n",
            "==================================================================================================\n",
            " input_1 (InputLayer)           [(None, 8)]          0           []                               \n",
            "                                                                                                  \n",
            " dense_5 (Dense)                (None, 30)           270         ['input_1[0][0]']                \n",
            "                                                                                                  \n",
            " dense_6 (Dense)                (None, 30)           930         ['dense_5[0][0]']                \n",
            "                                                                                                  \n",
            " concatenate (Concatenate)      (None, 38)           0           ['input_1[0][0]',                \n",
            "                                                                  'dense_6[0][0]']                \n",
            "                                                                                                  \n",
            " dense_7 (Dense)                (None, 1)            39          ['concatenate[0][0]']            \n",
            "                                                                                                  \n",
            "==================================================================================================\n",
            "Total params: 1,239\n",
            "Trainable params: 1,239\n",
            "Non-trainable params: 0\n",
            "__________________________________________________________________________________________________\n"
          ]
        }
      ],
      "source": [
        "model.summary()"
      ]
    },
    {
      "cell_type": "code",
      "execution_count": 55,
      "metadata": {
        "id": "SAEdvomworsX",
        "outputId": "931dcce7-c860-48c2-d673-43057940f21a",
        "colab": {
          "base_uri": "https://localhost:8080/"
        }
      },
      "outputs": [
        {
          "output_type": "stream",
          "name": "stdout",
          "text": [
            "Epoch 1/20\n",
            "363/363 [==============================] - 2s 4ms/step - loss: 1.2611 - val_loss: 3.3940\n",
            "Epoch 2/20\n",
            "363/363 [==============================] - 1s 4ms/step - loss: 0.6580 - val_loss: 0.9360\n",
            "Epoch 3/20\n",
            "363/363 [==============================] - 1s 4ms/step - loss: 0.5878 - val_loss: 0.5649\n",
            "Epoch 4/20\n",
            "363/363 [==============================] - 1s 4ms/step - loss: 0.5582 - val_loss: 0.5712\n",
            "Epoch 5/20\n",
            "363/363 [==============================] - 1s 4ms/step - loss: 0.5347 - val_loss: 0.5045\n",
            "Epoch 6/20\n",
            "363/363 [==============================] - 1s 4ms/step - loss: 0.5158 - val_loss: 0.4831\n",
            "Epoch 7/20\n",
            "363/363 [==============================] - 1s 4ms/step - loss: 0.5002 - val_loss: 0.4639\n",
            "Epoch 8/20\n",
            "363/363 [==============================] - 1s 4ms/step - loss: 0.4876 - val_loss: 0.4638\n",
            "Epoch 9/20\n",
            "363/363 [==============================] - 1s 4ms/step - loss: 0.4760 - val_loss: 0.4421\n",
            "Epoch 10/20\n",
            "363/363 [==============================] - 1s 4ms/step - loss: 0.4659 - val_loss: 0.4313\n",
            "Epoch 11/20\n",
            "363/363 [==============================] - 1s 4ms/step - loss: 0.4577 - val_loss: 0.4345\n",
            "Epoch 12/20\n",
            "363/363 [==============================] - 1s 4ms/step - loss: 0.4498 - val_loss: 0.4168\n",
            "Epoch 13/20\n",
            "363/363 [==============================] - 1s 4ms/step - loss: 0.4428 - val_loss: 0.4230\n",
            "Epoch 14/20\n",
            "363/363 [==============================] - 1s 4ms/step - loss: 0.4366 - val_loss: 0.4047\n",
            "Epoch 15/20\n",
            "363/363 [==============================] - 1s 4ms/step - loss: 0.4307 - val_loss: 0.4078\n",
            "Epoch 16/20\n",
            "363/363 [==============================] - 1s 4ms/step - loss: 0.4257 - val_loss: 0.3938\n",
            "Epoch 17/20\n",
            "363/363 [==============================] - 1s 4ms/step - loss: 0.4210 - val_loss: 0.3952\n",
            "Epoch 18/20\n",
            "363/363 [==============================] - 1s 4ms/step - loss: 0.4167 - val_loss: 0.3860\n",
            "Epoch 19/20\n",
            "363/363 [==============================] - 1s 4ms/step - loss: 0.4121 - val_loss: 0.3827\n",
            "Epoch 20/20\n",
            "363/363 [==============================] - 1s 4ms/step - loss: 0.4088 - val_loss: 0.4054\n",
            "162/162 [==============================] - 0s 2ms/step - loss: 0.4032\n"
          ]
        }
      ],
      "source": [
        "model.compile(loss=\"mean_squared_error\", optimizer=keras.optimizers.SGD(learning_rate=1e-3))\n",
        "history = model.fit(X_train, y_train, epochs=20,\n",
        "                    validation_data=(X_valid, y_valid))\n",
        "mse_test = model.evaluate(X_test, y_test)\n",
        "y_pred = model.predict(X_new)"
      ]
    },
    {
      "cell_type": "code",
      "execution_count": 56,
      "metadata": {
        "id": "1O4MFviuorsX"
      },
      "outputs": [],
      "source": [
        "np.random.seed(42)\n",
        "tf.random.set_seed(42)"
      ]
    },
    {
      "cell_type": "code",
      "execution_count": 57,
      "metadata": {
        "id": "U-NmjQVzorsX"
      },
      "outputs": [],
      "source": [
        "input_A = keras.layers.Input(shape=[5], name=\"wide_input\")\n",
        "input_B = keras.layers.Input(shape=[6], name=\"deep_input\")\n",
        "hidden1 = keras.layers.Dense(30, activation=\"relu\")(input_B)\n",
        "hidden2 = keras.layers.Dense(30, activation=\"relu\")(hidden1)\n",
        "concat = keras.layers.concatenate([input_A, hidden2])\n",
        "output = keras.layers.Dense(1, name=\"output\")(concat)\n",
        "model = keras.models.Model(inputs=[input_A, input_B], outputs=[output])"
      ]
    },
    {
      "cell_type": "code",
      "execution_count": 58,
      "metadata": {
        "id": "tU9mJy-iorsX",
        "outputId": "8a6b0215-0f13-4d48-8876-d955c2c3b5f3",
        "colab": {
          "base_uri": "https://localhost:8080/"
        }
      },
      "outputs": [
        {
          "output_type": "stream",
          "name": "stdout",
          "text": [
            "Epoch 1/20\n",
            "363/363 [==============================] - 2s 4ms/step - loss: 1.8145 - val_loss: 0.8072\n",
            "Epoch 2/20\n",
            "363/363 [==============================] - 1s 4ms/step - loss: 0.6771 - val_loss: 0.6658\n",
            "Epoch 3/20\n",
            "363/363 [==============================] - 1s 4ms/step - loss: 0.5979 - val_loss: 0.5687\n",
            "Epoch 4/20\n",
            "363/363 [==============================] - 1s 4ms/step - loss: 0.5584 - val_loss: 0.5296\n",
            "Epoch 5/20\n",
            "363/363 [==============================] - 1s 4ms/step - loss: 0.5334 - val_loss: 0.4993\n",
            "Epoch 6/20\n",
            "363/363 [==============================] - 1s 4ms/step - loss: 0.5120 - val_loss: 0.4811\n",
            "Epoch 7/20\n",
            "363/363 [==============================] - 1s 4ms/step - loss: 0.4970 - val_loss: 0.4696\n",
            "Epoch 8/20\n",
            "363/363 [==============================] - 1s 4ms/step - loss: 0.4843 - val_loss: 0.4496\n",
            "Epoch 9/20\n",
            "363/363 [==============================] - 1s 4ms/step - loss: 0.4730 - val_loss: 0.4404\n",
            "Epoch 10/20\n",
            "363/363 [==============================] - 1s 4ms/step - loss: 0.4644 - val_loss: 0.4315\n",
            "Epoch 11/20\n",
            "363/363 [==============================] - 1s 4ms/step - loss: 0.4570 - val_loss: 0.4268\n",
            "Epoch 12/20\n",
            "363/363 [==============================] - 1s 4ms/step - loss: 0.4510 - val_loss: 0.4166\n",
            "Epoch 13/20\n",
            "363/363 [==============================] - 1s 4ms/step - loss: 0.4462 - val_loss: 0.4125\n",
            "Epoch 14/20\n",
            "363/363 [==============================] - 1s 4ms/step - loss: 0.4421 - val_loss: 0.4074\n",
            "Epoch 15/20\n",
            "363/363 [==============================] - 1s 4ms/step - loss: 0.4385 - val_loss: 0.4044\n",
            "Epoch 16/20\n",
            "363/363 [==============================] - 1s 4ms/step - loss: 0.4356 - val_loss: 0.4007\n",
            "Epoch 17/20\n",
            "363/363 [==============================] - 1s 4ms/step - loss: 0.4322 - val_loss: 0.4013\n",
            "Epoch 18/20\n",
            "363/363 [==============================] - 1s 4ms/step - loss: 0.4305 - val_loss: 0.3987\n",
            "Epoch 19/20\n",
            "363/363 [==============================] - 1s 4ms/step - loss: 0.4274 - val_loss: 0.3934\n",
            "Epoch 20/20\n",
            "363/363 [==============================] - 1s 4ms/step - loss: 0.4261 - val_loss: 0.4204\n",
            "162/162 [==============================] - 0s 2ms/step - loss: 0.4219\n"
          ]
        }
      ],
      "source": [
        "model.compile(loss=\"mse\", optimizer=keras.optimizers.SGD(learning_rate=1e-3))\n",
        "\n",
        "X_train_A, X_train_B = X_train[:, :5], X_train[:, 2:]\n",
        "X_valid_A, X_valid_B = X_valid[:, :5], X_valid[:, 2:]\n",
        "X_test_A, X_test_B = X_test[:, :5], X_test[:, 2:]\n",
        "X_new_A, X_new_B = X_test_A[:3], X_test_B[:3]\n",
        "\n",
        "history = model.fit((X_train_A, X_train_B), y_train, epochs=20,\n",
        "                    validation_data=((X_valid_A, X_valid_B), y_valid))\n",
        "mse_test = model.evaluate((X_test_A, X_test_B), y_test)\n",
        "y_pred = model.predict((X_new_A, X_new_B))"
      ]
    },
    {
      "cell_type": "markdown",
      "metadata": {
        "id": "-l2Vp2biorsX"
      },
      "source": [
        "Adding an auxiliary output for regularization:"
      ]
    },
    {
      "cell_type": "code",
      "execution_count": 59,
      "metadata": {
        "id": "o-Xf-8zBorsX"
      },
      "outputs": [],
      "source": [
        "np.random.seed(42)\n",
        "tf.random.set_seed(42)"
      ]
    },
    {
      "cell_type": "code",
      "execution_count": 60,
      "metadata": {
        "id": "j_GJSo9BorsX"
      },
      "outputs": [],
      "source": [
        "input_A = keras.layers.Input(shape=[5], name=\"wide_input\")\n",
        "input_B = keras.layers.Input(shape=[6], name=\"deep_input\")\n",
        "hidden1 = keras.layers.Dense(30, activation=\"relu\")(input_B)\n",
        "hidden2 = keras.layers.Dense(30, activation=\"relu\")(hidden1)\n",
        "concat = keras.layers.concatenate([input_A, hidden2])\n",
        "output = keras.layers.Dense(1, name=\"main_output\")(concat)\n",
        "aux_output = keras.layers.Dense(1, name=\"aux_output\")(hidden2)\n",
        "model = keras.models.Model(inputs=[input_A, input_B],\n",
        "                           outputs=[output, aux_output])"
      ]
    },
    {
      "cell_type": "code",
      "execution_count": 61,
      "metadata": {
        "id": "BeEklEQcorsY"
      },
      "outputs": [],
      "source": [
        "model.compile(loss=[\"mse\", \"mse\"], loss_weights=[0.9, 0.1], optimizer=keras.optimizers.SGD(learning_rate=1e-3))"
      ]
    },
    {
      "cell_type": "code",
      "execution_count": 62,
      "metadata": {
        "id": "CDuM1Hc6orsY",
        "outputId": "4defcd25-af5e-4bc3-d15c-de48dfed6802",
        "colab": {
          "base_uri": "https://localhost:8080/"
        }
      },
      "outputs": [
        {
          "output_type": "stream",
          "name": "stdout",
          "text": [
            "Epoch 1/20\n",
            "363/363 [==============================] - 3s 6ms/step - loss: 2.1365 - main_output_loss: 1.9196 - aux_output_loss: 4.0890 - val_loss: 1.6233 - val_main_output_loss: 0.8468 - val_aux_output_loss: 8.6117\n",
            "Epoch 2/20\n",
            "363/363 [==============================] - 2s 5ms/step - loss: 0.8905 - main_output_loss: 0.6969 - aux_output_loss: 2.6326 - val_loss: 1.5163 - val_main_output_loss: 0.6836 - val_aux_output_loss: 9.0109\n",
            "Epoch 3/20\n",
            "363/363 [==============================] - 2s 5ms/step - loss: 0.7429 - main_output_loss: 0.6088 - aux_output_loss: 1.9499 - val_loss: 1.4639 - val_main_output_loss: 0.6229 - val_aux_output_loss: 9.0326\n",
            "Epoch 4/20\n",
            "363/363 [==============================] - 2s 5ms/step - loss: 0.6771 - main_output_loss: 0.5691 - aux_output_loss: 1.6485 - val_loss: 1.3388 - val_main_output_loss: 0.5481 - val_aux_output_loss: 8.4552\n",
            "Epoch 5/20\n",
            "363/363 [==============================] - 2s 5ms/step - loss: 0.6381 - main_output_loss: 0.5434 - aux_output_loss: 1.4911 - val_loss: 1.2177 - val_main_output_loss: 0.5194 - val_aux_output_loss: 7.5030\n",
            "Epoch 6/20\n",
            "363/363 [==============================] - 2s 5ms/step - loss: 0.6079 - main_output_loss: 0.5207 - aux_output_loss: 1.3923 - val_loss: 1.0935 - val_main_output_loss: 0.5106 - val_aux_output_loss: 6.3396\n",
            "Epoch 7/20\n",
            "363/363 [==============================] - 2s 5ms/step - loss: 0.5853 - main_output_loss: 0.5040 - aux_output_loss: 1.3175 - val_loss: 0.9918 - val_main_output_loss: 0.5115 - val_aux_output_loss: 5.3151\n",
            "Epoch 8/20\n",
            "363/363 [==============================] - 2s 5ms/step - loss: 0.5666 - main_output_loss: 0.4898 - aux_output_loss: 1.2572 - val_loss: 0.8733 - val_main_output_loss: 0.4733 - val_aux_output_loss: 4.4740\n",
            "Epoch 9/20\n",
            "363/363 [==============================] - 2s 5ms/step - loss: 0.5504 - main_output_loss: 0.4771 - aux_output_loss: 1.2101 - val_loss: 0.7832 - val_main_output_loss: 0.4555 - val_aux_output_loss: 3.7323\n",
            "Epoch 10/20\n",
            "363/363 [==============================] - 2s 5ms/step - loss: 0.5373 - main_output_loss: 0.4671 - aux_output_loss: 1.1695 - val_loss: 0.7170 - val_main_output_loss: 0.4604 - val_aux_output_loss: 3.0262\n",
            "Epoch 11/20\n",
            "363/363 [==============================] - 2s 5ms/step - loss: 0.5266 - main_output_loss: 0.4591 - aux_output_loss: 1.1344 - val_loss: 0.6510 - val_main_output_loss: 0.4293 - val_aux_output_loss: 2.6468\n",
            "Epoch 12/20\n",
            "363/363 [==============================] - 2s 5ms/step - loss: 0.5173 - main_output_loss: 0.4520 - aux_output_loss: 1.1048 - val_loss: 0.6051 - val_main_output_loss: 0.4310 - val_aux_output_loss: 2.1722\n",
            "Epoch 13/20\n",
            "363/363 [==============================] - 2s 5ms/step - loss: 0.5095 - main_output_loss: 0.4465 - aux_output_loss: 1.0765 - val_loss: 0.5644 - val_main_output_loss: 0.4161 - val_aux_output_loss: 1.8992\n",
            "Epoch 14/20\n",
            "363/363 [==============================] - 2s 5ms/step - loss: 0.5027 - main_output_loss: 0.4417 - aux_output_loss: 1.0511 - val_loss: 0.5354 - val_main_output_loss: 0.4119 - val_aux_output_loss: 1.6466\n",
            "Epoch 15/20\n",
            "363/363 [==============================] - 2s 5ms/step - loss: 0.4967 - main_output_loss: 0.4376 - aux_output_loss: 1.0280 - val_loss: 0.5124 - val_main_output_loss: 0.4047 - val_aux_output_loss: 1.4812\n",
            "Epoch 16/20\n",
            "363/363 [==============================] - 2s 5ms/step - loss: 0.4916 - main_output_loss: 0.4343 - aux_output_loss: 1.0070 - val_loss: 0.4934 - val_main_output_loss: 0.4034 - val_aux_output_loss: 1.3035\n",
            "Epoch 17/20\n",
            "363/363 [==============================] - 2s 5ms/step - loss: 0.4867 - main_output_loss: 0.4311 - aux_output_loss: 0.9872 - val_loss: 0.4801 - val_main_output_loss: 0.3984 - val_aux_output_loss: 1.2150\n",
            "Epoch 18/20\n",
            "363/363 [==============================] - 2s 5ms/step - loss: 0.4829 - main_output_loss: 0.4289 - aux_output_loss: 0.9686 - val_loss: 0.4694 - val_main_output_loss: 0.3962 - val_aux_output_loss: 1.1279\n",
            "Epoch 19/20\n",
            "363/363 [==============================] - 2s 5ms/step - loss: 0.4785 - main_output_loss: 0.4260 - aux_output_loss: 0.9510 - val_loss: 0.4580 - val_main_output_loss: 0.3936 - val_aux_output_loss: 1.0372\n",
            "Epoch 20/20\n",
            "363/363 [==============================] - 2s 5ms/step - loss: 0.4756 - main_output_loss: 0.4246 - aux_output_loss: 0.9344 - val_loss: 0.4655 - val_main_output_loss: 0.4048 - val_aux_output_loss: 1.0118\n"
          ]
        }
      ],
      "source": [
        "history = model.fit([X_train_A, X_train_B], [y_train, y_train], epochs=20,\n",
        "                    validation_data=([X_valid_A, X_valid_B], [y_valid, y_valid]))"
      ]
    },
    {
      "cell_type": "code",
      "execution_count": 63,
      "metadata": {
        "id": "oZEXaMaiorsY",
        "outputId": "003435db-17d5-4417-d30c-2d9360a8779c",
        "colab": {
          "base_uri": "https://localhost:8080/"
        }
      },
      "outputs": [
        {
          "output_type": "stream",
          "name": "stdout",
          "text": [
            "162/162 [==============================] - 1s 3ms/step - loss: 0.4668 - main_output_loss: 0.4178 - aux_output_loss: 0.9082\n",
            "WARNING:tensorflow:5 out of the last 6 calls to <function Model.make_predict_function.<locals>.predict_function at 0x7fb17dfaee60> triggered tf.function retracing. Tracing is expensive and the excessive number of tracings could be due to (1) creating @tf.function repeatedly in a loop, (2) passing tensors with different shapes, (3) passing Python objects instead of tensors. For (1), please define your @tf.function outside of the loop. For (2), @tf.function has experimental_relax_shapes=True option that relaxes argument shapes that can avoid unnecessary retracing. For (3), please refer to https://www.tensorflow.org/guide/function#controlling_retracing and https://www.tensorflow.org/api_docs/python/tf/function for  more details.\n"
          ]
        }
      ],
      "source": [
        "total_loss, main_loss, aux_loss = model.evaluate(\n",
        "    [X_test_A, X_test_B], [y_test, y_test])\n",
        "y_pred_main, y_pred_aux = model.predict([X_new_A, X_new_B])"
      ]
    },
    {
      "cell_type": "markdown",
      "metadata": {
        "id": "lECMOqg4orsY"
      },
      "source": [
        "# The subclassing API"
      ]
    },
    {
      "cell_type": "code",
      "execution_count": 64,
      "metadata": {
        "id": "kr_oy6MyorsY"
      },
      "outputs": [],
      "source": [
        "class WideAndDeepModel(keras.models.Model):\n",
        "    def __init__(self, units=30, activation=\"relu\", **kwargs):\n",
        "        super().__init__(**kwargs)\n",
        "        self.hidden1 = keras.layers.Dense(units, activation=activation)\n",
        "        self.hidden2 = keras.layers.Dense(units, activation=activation)\n",
        "        self.main_output = keras.layers.Dense(1)\n",
        "        self.aux_output = keras.layers.Dense(1)\n",
        "        \n",
        "    def call(self, inputs):\n",
        "        input_A, input_B = inputs\n",
        "        hidden1 = self.hidden1(input_B)\n",
        "        hidden2 = self.hidden2(hidden1)\n",
        "        concat = keras.layers.concatenate([input_A, hidden2])\n",
        "        main_output = self.main_output(concat)\n",
        "        aux_output = self.aux_output(hidden2)\n",
        "        return main_output, aux_output\n",
        "\n",
        "model = WideAndDeepModel(30, activation=\"relu\")"
      ]
    },
    {
      "cell_type": "code",
      "execution_count": 65,
      "metadata": {
        "id": "fUADvbITorsY",
        "outputId": "b7d1557f-8518-4b68-d0cb-422b51f1de4d",
        "colab": {
          "base_uri": "https://localhost:8080/"
        }
      },
      "outputs": [
        {
          "output_type": "stream",
          "name": "stdout",
          "text": [
            "Epoch 1/10\n",
            "363/363 [==============================] - 3s 6ms/step - loss: 2.3298 - output_1_loss: 2.2186 - output_2_loss: 3.3304 - val_loss: 2.1435 - val_output_1_loss: 1.1581 - val_output_2_loss: 11.0117\n",
            "Epoch 2/10\n",
            "363/363 [==============================] - 2s 5ms/step - loss: 0.9714 - output_1_loss: 0.8543 - output_2_loss: 2.0252 - val_loss: 1.7567 - val_output_1_loss: 0.8205 - val_output_2_loss: 10.1825\n",
            "Epoch 3/10\n",
            "363/363 [==============================] - 2s 5ms/step - loss: 0.8268 - output_1_loss: 0.7289 - output_2_loss: 1.7082 - val_loss: 1.5664 - val_output_1_loss: 0.7913 - val_output_2_loss: 8.5419\n",
            "Epoch 4/10\n",
            "363/363 [==============================] - 2s 5ms/step - loss: 0.7636 - output_1_loss: 0.6764 - output_2_loss: 1.5477 - val_loss: 1.3088 - val_output_1_loss: 0.6549 - val_output_2_loss: 7.1933\n",
            "Epoch 5/10\n",
            "363/363 [==============================] - 2s 5ms/step - loss: 0.7211 - output_1_loss: 0.6402 - output_2_loss: 1.4489 - val_loss: 1.1357 - val_output_1_loss: 0.5964 - val_output_2_loss: 5.9898\n",
            "Epoch 6/10\n",
            "363/363 [==============================] - 2s 5ms/step - loss: 0.6895 - output_1_loss: 0.6124 - output_2_loss: 1.3833 - val_loss: 1.0036 - val_output_1_loss: 0.5937 - val_output_2_loss: 4.6933\n",
            "Epoch 7/10\n",
            "363/363 [==============================] - 2s 5ms/step - loss: 0.6632 - output_1_loss: 0.5894 - output_2_loss: 1.3274 - val_loss: 0.8904 - val_output_1_loss: 0.5591 - val_output_2_loss: 3.8714\n",
            "Epoch 8/10\n",
            "363/363 [==============================] - 2s 6ms/step - loss: 0.6410 - output_1_loss: 0.5701 - output_2_loss: 1.2796 - val_loss: 0.8009 - val_output_1_loss: 0.5243 - val_output_2_loss: 3.2903\n",
            "Epoch 9/10\n",
            "363/363 [==============================] - 3s 10ms/step - loss: 0.6204 - output_1_loss: 0.5514 - output_2_loss: 1.2416 - val_loss: 0.7357 - val_output_1_loss: 0.5144 - val_output_2_loss: 2.7275\n",
            "Epoch 10/10\n",
            "363/363 [==============================] - 3s 10ms/step - loss: 0.6024 - output_1_loss: 0.5355 - output_2_loss: 1.2043 - val_loss: 0.6849 - val_output_1_loss: 0.5014 - val_output_2_loss: 2.3370\n",
            "162/162 [==============================] - 1s 3ms/step - loss: 0.5841 - output_1_loss: 0.5188 - output_2_loss: 1.1722\n",
            "WARNING:tensorflow:6 out of the last 7 calls to <function Model.make_predict_function.<locals>.predict_function at 0x7fb17def15f0> triggered tf.function retracing. Tracing is expensive and the excessive number of tracings could be due to (1) creating @tf.function repeatedly in a loop, (2) passing tensors with different shapes, (3) passing Python objects instead of tensors. For (1), please define your @tf.function outside of the loop. For (2), @tf.function has experimental_relax_shapes=True option that relaxes argument shapes that can avoid unnecessary retracing. For (3), please refer to https://www.tensorflow.org/guide/function#controlling_retracing and https://www.tensorflow.org/api_docs/python/tf/function for  more details.\n"
          ]
        }
      ],
      "source": [
        "model.compile(loss=\"mse\", loss_weights=[0.9, 0.1], optimizer=keras.optimizers.SGD(learning_rate=1e-3))\n",
        "history = model.fit((X_train_A, X_train_B), (y_train, y_train), epochs=10,\n",
        "                    validation_data=((X_valid_A, X_valid_B), (y_valid, y_valid)))\n",
        "total_loss, main_loss, aux_loss = model.evaluate((X_test_A, X_test_B), (y_test, y_test))\n",
        "y_pred_main, y_pred_aux = model.predict((X_new_A, X_new_B))"
      ]
    },
    {
      "cell_type": "markdown",
      "metadata": {
        "id": "jaVuZQllorsY"
      },
      "source": [
        "# Saving and Restoring"
      ]
    },
    {
      "cell_type": "code",
      "execution_count": 66,
      "metadata": {
        "id": "geHQ1BbUorsY"
      },
      "outputs": [],
      "source": [
        "np.random.seed(42)\n",
        "tf.random.set_seed(42)"
      ]
    },
    {
      "cell_type": "code",
      "execution_count": 67,
      "metadata": {
        "id": "bKPNpqx4orsY"
      },
      "outputs": [],
      "source": [
        "model = keras.models.Sequential([\n",
        "    keras.layers.Dense(30, activation=\"relu\", input_shape=[8]),\n",
        "    keras.layers.Dense(30, activation=\"relu\"),\n",
        "    keras.layers.Dense(1)\n",
        "])    "
      ]
    },
    {
      "cell_type": "code",
      "execution_count": 68,
      "metadata": {
        "id": "104MHjW3orsY",
        "outputId": "b99b19c9-a642-4c54-f0a0-efd4002110fb",
        "colab": {
          "base_uri": "https://localhost:8080/"
        }
      },
      "outputs": [
        {
          "output_type": "stream",
          "name": "stdout",
          "text": [
            "Epoch 1/10\n",
            "363/363 [==============================] - 2s 4ms/step - loss: 1.8866 - val_loss: 0.7126\n",
            "Epoch 2/10\n",
            "363/363 [==============================] - 1s 4ms/step - loss: 0.6577 - val_loss: 0.6880\n",
            "Epoch 3/10\n",
            "363/363 [==============================] - 1s 4ms/step - loss: 0.5934 - val_loss: 0.5803\n",
            "Epoch 4/10\n",
            "363/363 [==============================] - 1s 4ms/step - loss: 0.5557 - val_loss: 0.5166\n",
            "Epoch 5/10\n",
            "363/363 [==============================] - 1s 4ms/step - loss: 0.5272 - val_loss: 0.4895\n",
            "Epoch 6/10\n",
            "363/363 [==============================] - 1s 4ms/step - loss: 0.5033 - val_loss: 0.4951\n",
            "Epoch 7/10\n",
            "363/363 [==============================] - 1s 4ms/step - loss: 0.4854 - val_loss: 0.4861\n",
            "Epoch 8/10\n",
            "363/363 [==============================] - 1s 4ms/step - loss: 0.4709 - val_loss: 0.4554\n",
            "Epoch 9/10\n",
            "363/363 [==============================] - 1s 4ms/step - loss: 0.4578 - val_loss: 0.4413\n",
            "Epoch 10/10\n",
            "363/363 [==============================] - 1s 4ms/step - loss: 0.4474 - val_loss: 0.4379\n",
            "162/162 [==============================] - 0s 2ms/step - loss: 0.4382\n"
          ]
        }
      ],
      "source": [
        "model.compile(loss=\"mse\", optimizer=keras.optimizers.SGD(learning_rate=1e-3))\n",
        "history = model.fit(X_train, y_train, epochs=10, validation_data=(X_valid, y_valid))\n",
        "mse_test = model.evaluate(X_test, y_test)"
      ]
    },
    {
      "cell_type": "code",
      "execution_count": 69,
      "metadata": {
        "id": "rxnQ09EXorsY"
      },
      "outputs": [],
      "source": [
        "model.save(\"my_keras_model.h5\")"
      ]
    },
    {
      "cell_type": "code",
      "execution_count": 70,
      "metadata": {
        "id": "kxJ7Qu6WorsY"
      },
      "outputs": [],
      "source": [
        "model = keras.models.load_model(\"my_keras_model.h5\")"
      ]
    },
    {
      "cell_type": "code",
      "execution_count": 71,
      "metadata": {
        "id": "kj_CSzM3orsZ",
        "outputId": "34383bad-487f-4307-d103-14c9fbdbdb86",
        "colab": {
          "base_uri": "https://localhost:8080/"
        }
      },
      "outputs": [
        {
          "output_type": "execute_result",
          "data": {
            "text/plain": [
              "array([[0.5400237],\n",
              "       [1.6505972],\n",
              "       [3.0098243]], dtype=float32)"
            ]
          },
          "metadata": {},
          "execution_count": 71
        }
      ],
      "source": [
        "model.predict(X_new)"
      ]
    },
    {
      "cell_type": "code",
      "execution_count": 72,
      "metadata": {
        "id": "cDmHx5dqorsZ"
      },
      "outputs": [],
      "source": [
        "model.save_weights(\"my_keras_weights.ckpt\")"
      ]
    },
    {
      "cell_type": "code",
      "execution_count": 73,
      "metadata": {
        "id": "nDm0kdqhorsZ",
        "outputId": "5728ba72-8dd3-4906-904e-f5f39c8fe8a9",
        "colab": {
          "base_uri": "https://localhost:8080/"
        }
      },
      "outputs": [
        {
          "output_type": "execute_result",
          "data": {
            "text/plain": [
              "<tensorflow.python.training.tracking.util.CheckpointLoadStatus at 0x7fb17dae3e10>"
            ]
          },
          "metadata": {},
          "execution_count": 73
        }
      ],
      "source": [
        "model.load_weights(\"my_keras_weights.ckpt\")"
      ]
    },
    {
      "cell_type": "markdown",
      "metadata": {
        "id": "vYQXqVi-orsZ"
      },
      "source": [
        "# Using Callbacks during Training"
      ]
    },
    {
      "cell_type": "code",
      "execution_count": 74,
      "metadata": {
        "id": "LSM4VOOQorsZ"
      },
      "outputs": [],
      "source": [
        "keras.backend.clear_session()\n",
        "np.random.seed(42)\n",
        "tf.random.set_seed(42)"
      ]
    },
    {
      "cell_type": "code",
      "execution_count": 75,
      "metadata": {
        "id": "EWXpC9uqorsZ"
      },
      "outputs": [],
      "source": [
        "model = keras.models.Sequential([\n",
        "    keras.layers.Dense(30, activation=\"relu\", input_shape=[8]),\n",
        "    keras.layers.Dense(30, activation=\"relu\"),\n",
        "    keras.layers.Dense(1)\n",
        "])    "
      ]
    },
    {
      "cell_type": "code",
      "execution_count": 76,
      "metadata": {
        "id": "KjVTD9KborsZ",
        "outputId": "6ff63def-7ed2-45d4-849d-6b865ae4aa0f",
        "colab": {
          "base_uri": "https://localhost:8080/"
        }
      },
      "outputs": [
        {
          "output_type": "stream",
          "name": "stdout",
          "text": [
            "Epoch 1/10\n",
            "363/363 [==============================] - 2s 4ms/step - loss: 1.8866 - val_loss: 0.7126\n",
            "Epoch 2/10\n",
            "363/363 [==============================] - 1s 4ms/step - loss: 0.6577 - val_loss: 0.6880\n",
            "Epoch 3/10\n",
            "363/363 [==============================] - 1s 4ms/step - loss: 0.5934 - val_loss: 0.5803\n",
            "Epoch 4/10\n",
            "363/363 [==============================] - 1s 4ms/step - loss: 0.5557 - val_loss: 0.5166\n",
            "Epoch 5/10\n",
            "363/363 [==============================] - 1s 4ms/step - loss: 0.5272 - val_loss: 0.4895\n",
            "Epoch 6/10\n",
            "363/363 [==============================] - 1s 4ms/step - loss: 0.5033 - val_loss: 0.4951\n",
            "Epoch 7/10\n",
            "363/363 [==============================] - 1s 4ms/step - loss: 0.4854 - val_loss: 0.4861\n",
            "Epoch 8/10\n",
            "363/363 [==============================] - 1s 4ms/step - loss: 0.4709 - val_loss: 0.4554\n",
            "Epoch 9/10\n",
            "363/363 [==============================] - 1s 4ms/step - loss: 0.4578 - val_loss: 0.4413\n",
            "Epoch 10/10\n",
            "363/363 [==============================] - 1s 4ms/step - loss: 0.4474 - val_loss: 0.4379\n",
            "162/162 [==============================] - 0s 2ms/step - loss: 0.4382\n"
          ]
        }
      ],
      "source": [
        "model.compile(loss=\"mse\", optimizer=keras.optimizers.SGD(learning_rate=1e-3))\n",
        "checkpoint_cb = keras.callbacks.ModelCheckpoint(\"my_keras_model.h5\", save_best_only=True)\n",
        "history = model.fit(X_train, y_train, epochs=10,\n",
        "                    validation_data=(X_valid, y_valid),\n",
        "                    callbacks=[checkpoint_cb])\n",
        "model = keras.models.load_model(\"my_keras_model.h5\") # rollback to best model\n",
        "mse_test = model.evaluate(X_test, y_test)"
      ]
    },
    {
      "cell_type": "code",
      "execution_count": 77,
      "metadata": {
        "id": "EmUcPly3orsZ",
        "outputId": "eb7f74ae-677e-4c08-84d6-76befb0a6e01",
        "colab": {
          "base_uri": "https://localhost:8080/"
        }
      },
      "outputs": [
        {
          "output_type": "stream",
          "name": "stdout",
          "text": [
            "Epoch 1/100\n",
            "363/363 [==============================] - 2s 4ms/step - loss: 0.4393 - val_loss: 0.4110\n",
            "Epoch 2/100\n",
            "363/363 [==============================] - 1s 4ms/step - loss: 0.4315 - val_loss: 0.4266\n",
            "Epoch 3/100\n",
            "363/363 [==============================] - 1s 4ms/step - loss: 0.4259 - val_loss: 0.3996\n",
            "Epoch 4/100\n",
            "363/363 [==============================] - 1s 4ms/step - loss: 0.4201 - val_loss: 0.3939\n",
            "Epoch 5/100\n",
            "363/363 [==============================] - 2s 5ms/step - loss: 0.4154 - val_loss: 0.3889\n",
            "Epoch 6/100\n",
            "363/363 [==============================] - 1s 4ms/step - loss: 0.4111 - val_loss: 0.3866\n",
            "Epoch 7/100\n",
            "363/363 [==============================] - 1s 4ms/step - loss: 0.4074 - val_loss: 0.3860\n",
            "Epoch 8/100\n",
            "363/363 [==============================] - 1s 4ms/step - loss: 0.4040 - val_loss: 0.3793\n",
            "Epoch 9/100\n",
            "363/363 [==============================] - 1s 4ms/step - loss: 0.4008 - val_loss: 0.3746\n",
            "Epoch 10/100\n",
            "363/363 [==============================] - 1s 4ms/step - loss: 0.3976 - val_loss: 0.3723\n",
            "Epoch 11/100\n",
            "363/363 [==============================] - 1s 4ms/step - loss: 0.3950 - val_loss: 0.3697\n",
            "Epoch 12/100\n",
            "363/363 [==============================] - 1s 4ms/step - loss: 0.3923 - val_loss: 0.3669\n",
            "Epoch 13/100\n",
            "363/363 [==============================] - 1s 4ms/step - loss: 0.3897 - val_loss: 0.3661\n",
            "Epoch 14/100\n",
            "363/363 [==============================] - 1s 4ms/step - loss: 0.3874 - val_loss: 0.3631\n",
            "Epoch 15/100\n",
            "363/363 [==============================] - 1s 4ms/step - loss: 0.3851 - val_loss: 0.3660\n",
            "Epoch 16/100\n",
            "363/363 [==============================] - 1s 4ms/step - loss: 0.3829 - val_loss: 0.3625\n",
            "Epoch 17/100\n",
            "363/363 [==============================] - 1s 4ms/step - loss: 0.3810 - val_loss: 0.3592\n",
            "Epoch 18/100\n",
            "363/363 [==============================] - 1s 4ms/step - loss: 0.3788 - val_loss: 0.3563\n",
            "Epoch 19/100\n",
            "363/363 [==============================] - 1s 4ms/step - loss: 0.3766 - val_loss: 0.3535\n",
            "Epoch 20/100\n",
            "363/363 [==============================] - 1s 4ms/step - loss: 0.3750 - val_loss: 0.3709\n",
            "Epoch 21/100\n",
            "363/363 [==============================] - 1s 4ms/step - loss: 0.3732 - val_loss: 0.3512\n",
            "Epoch 22/100\n",
            "363/363 [==============================] - 1s 4ms/step - loss: 0.3715 - val_loss: 0.3699\n",
            "Epoch 23/100\n",
            "363/363 [==============================] - 1s 4ms/step - loss: 0.3700 - val_loss: 0.3476\n",
            "Epoch 24/100\n",
            "363/363 [==============================] - 1s 4ms/step - loss: 0.3685 - val_loss: 0.3561\n",
            "Epoch 25/100\n",
            "363/363 [==============================] - 1s 4ms/step - loss: 0.3671 - val_loss: 0.3527\n",
            "Epoch 26/100\n",
            "363/363 [==============================] - 1s 4ms/step - loss: 0.3658 - val_loss: 0.3700\n",
            "Epoch 27/100\n",
            "363/363 [==============================] - 1s 4ms/step - loss: 0.3647 - val_loss: 0.3432\n",
            "Epoch 28/100\n",
            "363/363 [==============================] - 1s 4ms/step - loss: 0.3635 - val_loss: 0.3592\n",
            "Epoch 29/100\n",
            "363/363 [==============================] - 1s 4ms/step - loss: 0.3625 - val_loss: 0.3521\n",
            "Epoch 30/100\n",
            "363/363 [==============================] - 1s 4ms/step - loss: 0.3613 - val_loss: 0.3626\n",
            "Epoch 31/100\n",
            "363/363 [==============================] - 1s 4ms/step - loss: 0.3601 - val_loss: 0.3431\n",
            "Epoch 32/100\n",
            "363/363 [==============================] - 1s 4ms/step - loss: 0.3589 - val_loss: 0.3766\n",
            "Epoch 33/100\n",
            "363/363 [==============================] - 1s 4ms/step - loss: 0.3584 - val_loss: 0.3374\n",
            "Epoch 34/100\n",
            "363/363 [==============================] - 2s 6ms/step - loss: 0.3572 - val_loss: 0.3407\n",
            "Epoch 35/100\n",
            "363/363 [==============================] - 1s 4ms/step - loss: 0.3563 - val_loss: 0.3614\n",
            "Epoch 36/100\n",
            "363/363 [==============================] - 1s 4ms/step - loss: 0.3555 - val_loss: 0.3348\n",
            "Epoch 37/100\n",
            "363/363 [==============================] - 1s 4ms/step - loss: 0.3546 - val_loss: 0.3573\n",
            "Epoch 38/100\n",
            "363/363 [==============================] - 1s 4ms/step - loss: 0.3538 - val_loss: 0.3367\n",
            "Epoch 39/100\n",
            "363/363 [==============================] - 1s 4ms/step - loss: 0.3530 - val_loss: 0.3425\n",
            "Epoch 40/100\n",
            "363/363 [==============================] - 1s 4ms/step - loss: 0.3523 - val_loss: 0.3368\n",
            "Epoch 41/100\n",
            "363/363 [==============================] - 1s 4ms/step - loss: 0.3515 - val_loss: 0.3514\n",
            "Epoch 42/100\n",
            "363/363 [==============================] - 1s 4ms/step - loss: 0.3511 - val_loss: 0.3426\n",
            "Epoch 43/100\n",
            "363/363 [==============================] - 1s 4ms/step - loss: 0.3500 - val_loss: 0.3677\n",
            "Epoch 44/100\n",
            "363/363 [==============================] - 1s 4ms/step - loss: 0.3496 - val_loss: 0.3563\n",
            "Epoch 45/100\n",
            "363/363 [==============================] - 1s 4ms/step - loss: 0.3490 - val_loss: 0.3336\n",
            "Epoch 46/100\n",
            "363/363 [==============================] - 1s 4ms/step - loss: 0.3481 - val_loss: 0.3456\n",
            "Epoch 47/100\n",
            "363/363 [==============================] - 1s 4ms/step - loss: 0.3478 - val_loss: 0.3434\n",
            "Epoch 48/100\n",
            "363/363 [==============================] - 1s 4ms/step - loss: 0.3471 - val_loss: 0.3658\n",
            "Epoch 49/100\n",
            "363/363 [==============================] - 1s 4ms/step - loss: 0.3466 - val_loss: 0.3286\n",
            "Epoch 50/100\n",
            "363/363 [==============================] - 1s 4ms/step - loss: 0.3460 - val_loss: 0.3268\n",
            "Epoch 51/100\n",
            "363/363 [==============================] - 1s 4ms/step - loss: 0.3454 - val_loss: 0.3438\n",
            "Epoch 52/100\n",
            "363/363 [==============================] - 2s 5ms/step - loss: 0.3449 - val_loss: 0.3263\n",
            "Epoch 53/100\n",
            "363/363 [==============================] - 2s 5ms/step - loss: 0.3444 - val_loss: 0.3910\n",
            "Epoch 54/100\n",
            "363/363 [==============================] - 1s 4ms/step - loss: 0.3439 - val_loss: 0.3275\n",
            "Epoch 55/100\n",
            "363/363 [==============================] - 1s 4ms/step - loss: 0.3435 - val_loss: 0.3559\n",
            "Epoch 56/100\n",
            "363/363 [==============================] - 1s 4ms/step - loss: 0.3430 - val_loss: 0.3237\n",
            "Epoch 57/100\n",
            "363/363 [==============================] - 1s 4ms/step - loss: 0.3423 - val_loss: 0.3242\n",
            "Epoch 58/100\n",
            "363/363 [==============================] - 1s 4ms/step - loss: 0.3419 - val_loss: 0.3764\n",
            "Epoch 59/100\n",
            "363/363 [==============================] - 1s 4ms/step - loss: 0.3417 - val_loss: 0.3290\n",
            "Epoch 60/100\n",
            "363/363 [==============================] - 1s 4ms/step - loss: 0.3410 - val_loss: 0.3502\n",
            "Epoch 61/100\n",
            "363/363 [==============================] - 1s 4ms/step - loss: 0.3404 - val_loss: 0.3456\n",
            "Epoch 62/100\n",
            "363/363 [==============================] - 1s 4ms/step - loss: 0.3402 - val_loss: 0.3444\n",
            "Epoch 63/100\n",
            "363/363 [==============================] - 1s 4ms/step - loss: 0.3392 - val_loss: 0.3290\n",
            "Epoch 64/100\n",
            "363/363 [==============================] - 1s 4ms/step - loss: 0.3393 - val_loss: 0.3217\n",
            "Epoch 65/100\n",
            "363/363 [==============================] - 1s 4ms/step - loss: 0.3387 - val_loss: 0.3351\n",
            "Epoch 66/100\n",
            "363/363 [==============================] - 1s 4ms/step - loss: 0.3383 - val_loss: 0.3232\n",
            "Epoch 67/100\n",
            "363/363 [==============================] - 1s 4ms/step - loss: 0.3376 - val_loss: 0.3567\n",
            "Epoch 68/100\n",
            "363/363 [==============================] - 1s 4ms/step - loss: 0.3374 - val_loss: 0.3256\n",
            "Epoch 69/100\n",
            "363/363 [==============================] - 1s 4ms/step - loss: 0.3370 - val_loss: 0.3348\n",
            "Epoch 70/100\n",
            "363/363 [==============================] - 1s 4ms/step - loss: 0.3365 - val_loss: 0.3560\n",
            "Epoch 71/100\n",
            "363/363 [==============================] - 1s 4ms/step - loss: 0.3361 - val_loss: 0.3581\n",
            "Epoch 72/100\n",
            "363/363 [==============================] - 1s 4ms/step - loss: 0.3357 - val_loss: 0.3287\n",
            "Epoch 73/100\n",
            "363/363 [==============================] - 1s 4ms/step - loss: 0.3351 - val_loss: 0.3202\n",
            "Epoch 74/100\n",
            "363/363 [==============================] - 1s 4ms/step - loss: 0.3350 - val_loss: 0.3840\n",
            "Epoch 75/100\n",
            "363/363 [==============================] - 1s 4ms/step - loss: 0.3347 - val_loss: 0.3233\n",
            "Epoch 76/100\n",
            "363/363 [==============================] - 1s 4ms/step - loss: 0.3342 - val_loss: 0.3477\n",
            "Epoch 77/100\n",
            "363/363 [==============================] - 1s 4ms/step - loss: 0.3338 - val_loss: 0.3407\n",
            "Epoch 78/100\n",
            "363/363 [==============================] - 1s 4ms/step - loss: 0.3335 - val_loss: 0.3463\n",
            "Epoch 79/100\n",
            "363/363 [==============================] - 1s 4ms/step - loss: 0.3332 - val_loss: 0.3348\n",
            "Epoch 80/100\n",
            "363/363 [==============================] - 1s 4ms/step - loss: 0.3329 - val_loss: 0.3353\n",
            "Epoch 81/100\n",
            "363/363 [==============================] - 1s 4ms/step - loss: 0.3324 - val_loss: 0.3274\n",
            "Epoch 82/100\n",
            "363/363 [==============================] - 1s 4ms/step - loss: 0.3320 - val_loss: 0.3167\n",
            "Epoch 83/100\n",
            "363/363 [==============================] - 1s 4ms/step - loss: 0.3317 - val_loss: 0.3280\n",
            "Epoch 84/100\n",
            "363/363 [==============================] - 1s 4ms/step - loss: 0.3312 - val_loss: 0.3636\n",
            "Epoch 85/100\n",
            "363/363 [==============================] - 1s 4ms/step - loss: 0.3310 - val_loss: 0.3176\n",
            "Epoch 86/100\n",
            "363/363 [==============================] - 1s 4ms/step - loss: 0.3308 - val_loss: 0.3156\n",
            "Epoch 87/100\n",
            "363/363 [==============================] - 1s 4ms/step - loss: 0.3305 - val_loss: 0.3530\n",
            "Epoch 88/100\n",
            "363/363 [==============================] - 1s 4ms/step - loss: 0.3299 - val_loss: 0.3255\n",
            "Epoch 89/100\n",
            "363/363 [==============================] - 1s 4ms/step - loss: 0.3294 - val_loss: 0.3627\n",
            "Epoch 90/100\n",
            "363/363 [==============================] - 1s 4ms/step - loss: 0.3296 - val_loss: 0.3377\n",
            "Epoch 91/100\n",
            "363/363 [==============================] - 1s 4ms/step - loss: 0.3291 - val_loss: 0.3211\n",
            "Epoch 92/100\n",
            "363/363 [==============================] - 1s 4ms/step - loss: 0.3287 - val_loss: 0.3455\n",
            "Epoch 93/100\n",
            "363/363 [==============================] - 1s 4ms/step - loss: 0.3285 - val_loss: 0.3157\n",
            "Epoch 94/100\n",
            "363/363 [==============================] - 1s 4ms/step - loss: 0.3281 - val_loss: 0.3410\n",
            "Epoch 95/100\n",
            "363/363 [==============================] - 1s 4ms/step - loss: 0.3276 - val_loss: 0.3377\n",
            "Epoch 96/100\n",
            "363/363 [==============================] - 1s 4ms/step - loss: 0.3273 - val_loss: 0.3214\n",
            "162/162 [==============================] - 0s 2ms/step - loss: 0.3310\n"
          ]
        }
      ],
      "source": [
        "model.compile(loss=\"mse\", optimizer=keras.optimizers.SGD(learning_rate=1e-3))\n",
        "early_stopping_cb = keras.callbacks.EarlyStopping(patience=10,\n",
        "                                                  restore_best_weights=True)\n",
        "history = model.fit(X_train, y_train, epochs=100,\n",
        "                    validation_data=(X_valid, y_valid),\n",
        "                    callbacks=[checkpoint_cb, early_stopping_cb])\n",
        "mse_test = model.evaluate(X_test, y_test)"
      ]
    },
    {
      "cell_type": "code",
      "execution_count": 78,
      "metadata": {
        "id": "9dG1cTJUorsa"
      },
      "outputs": [],
      "source": [
        "class PrintValTrainRatioCallback(keras.callbacks.Callback):\n",
        "    def on_epoch_end(self, epoch, logs):\n",
        "        print(\"\\nval/train: {:.2f}\".format(logs[\"val_loss\"] / logs[\"loss\"]))"
      ]
    },
    {
      "cell_type": "code",
      "execution_count": 79,
      "metadata": {
        "id": "dVl-fCq-orsa",
        "outputId": "0faec692-99bd-4f94-b8b6-91f8b3ab3db9",
        "colab": {
          "base_uri": "https://localhost:8080/"
        }
      },
      "outputs": [
        {
          "output_type": "stream",
          "name": "stdout",
          "text": [
            "352/363 [============================>.] - ETA: 0s - loss: 0.3293\n",
            "val/train: 1.08\n",
            "363/363 [==============================] - 1s 4ms/step - loss: 0.3302 - val_loss: 0.3560\n"
          ]
        }
      ],
      "source": [
        "val_train_ratio_cb = PrintValTrainRatioCallback()\n",
        "history = model.fit(X_train, y_train, epochs=1,\n",
        "                    validation_data=(X_valid, y_valid),\n",
        "                    callbacks=[val_train_ratio_cb])"
      ]
    },
    {
      "cell_type": "markdown",
      "metadata": {
        "id": "kyTOjb81orsa"
      },
      "source": [
        "# TensorBoard"
      ]
    },
    {
      "cell_type": "code",
      "execution_count": 80,
      "metadata": {
        "id": "t2WQoDLTorsa"
      },
      "outputs": [],
      "source": [
        "root_logdir = os.path.join(os.curdir, \"my_logs\")"
      ]
    },
    {
      "cell_type": "code",
      "execution_count": 81,
      "metadata": {
        "id": "2PpSTxcporsa",
        "outputId": "b6392fe3-cc66-4ef0-eddd-bf7f9e5c108c",
        "colab": {
          "base_uri": "https://localhost:8080/",
          "height": 35
        }
      },
      "outputs": [
        {
          "output_type": "execute_result",
          "data": {
            "text/plain": [
              "'./my_logs/run_2022_04_02-23_23_43'"
            ],
            "application/vnd.google.colaboratory.intrinsic+json": {
              "type": "string"
            }
          },
          "metadata": {},
          "execution_count": 81
        }
      ],
      "source": [
        "def get_run_logdir():\n",
        "    import time\n",
        "    run_id = time.strftime(\"run_%Y_%m_%d-%H_%M_%S\")\n",
        "    return os.path.join(root_logdir, run_id)\n",
        "\n",
        "run_logdir = get_run_logdir()\n",
        "run_logdir"
      ]
    },
    {
      "cell_type": "code",
      "execution_count": 82,
      "metadata": {
        "id": "-_vPgRlRorsa"
      },
      "outputs": [],
      "source": [
        "keras.backend.clear_session()\n",
        "np.random.seed(42)\n",
        "tf.random.set_seed(42)"
      ]
    },
    {
      "cell_type": "code",
      "execution_count": 83,
      "metadata": {
        "id": "9NMljd7Eorsa"
      },
      "outputs": [],
      "source": [
        "model = keras.models.Sequential([\n",
        "    keras.layers.Dense(30, activation=\"relu\", input_shape=[8]),\n",
        "    keras.layers.Dense(30, activation=\"relu\"),\n",
        "    keras.layers.Dense(1)\n",
        "])    \n",
        "model.compile(loss=\"mse\", optimizer=keras.optimizers.SGD(learning_rate=1e-3))"
      ]
    },
    {
      "cell_type": "code",
      "execution_count": 84,
      "metadata": {
        "id": "zQ_5_6Syorsa",
        "outputId": "ecc84e5f-2580-4b83-e2be-86e87f2a27f4",
        "colab": {
          "base_uri": "https://localhost:8080/"
        }
      },
      "outputs": [
        {
          "output_type": "stream",
          "name": "stdout",
          "text": [
            "Epoch 1/30\n",
            "363/363 [==============================] - 2s 4ms/step - loss: 1.8866 - val_loss: 0.7126\n",
            "Epoch 2/30\n",
            "363/363 [==============================] - 1s 4ms/step - loss: 0.6577 - val_loss: 0.6880\n",
            "Epoch 3/30\n",
            "363/363 [==============================] - 1s 4ms/step - loss: 0.5934 - val_loss: 0.5803\n",
            "Epoch 4/30\n",
            "363/363 [==============================] - 1s 4ms/step - loss: 0.5557 - val_loss: 0.5166\n",
            "Epoch 5/30\n",
            "363/363 [==============================] - 1s 4ms/step - loss: 0.5272 - val_loss: 0.4895\n",
            "Epoch 6/30\n",
            "363/363 [==============================] - 1s 4ms/step - loss: 0.5033 - val_loss: 0.4951\n",
            "Epoch 7/30\n",
            "363/363 [==============================] - 1s 4ms/step - loss: 0.4854 - val_loss: 0.4861\n",
            "Epoch 8/30\n",
            "363/363 [==============================] - 1s 4ms/step - loss: 0.4709 - val_loss: 0.4554\n",
            "Epoch 9/30\n",
            "363/363 [==============================] - 1s 4ms/step - loss: 0.4578 - val_loss: 0.4413\n",
            "Epoch 10/30\n",
            "363/363 [==============================] - 1s 4ms/step - loss: 0.4474 - val_loss: 0.4379\n",
            "Epoch 11/30\n",
            "363/363 [==============================] - 1s 4ms/step - loss: 0.4393 - val_loss: 0.4396\n",
            "Epoch 12/30\n",
            "363/363 [==============================] - 1s 4ms/step - loss: 0.4318 - val_loss: 0.4507\n",
            "Epoch 13/30\n",
            "363/363 [==============================] - 1s 4ms/step - loss: 0.4261 - val_loss: 0.3997\n",
            "Epoch 14/30\n",
            "363/363 [==============================] - 1s 4ms/step - loss: 0.4202 - val_loss: 0.3956\n",
            "Epoch 15/30\n",
            "363/363 [==============================] - 1s 4ms/step - loss: 0.4155 - val_loss: 0.3916\n",
            "Epoch 16/30\n",
            "363/363 [==============================] - 1s 4ms/step - loss: 0.4112 - val_loss: 0.3937\n",
            "Epoch 17/30\n",
            "363/363 [==============================] - 1s 4ms/step - loss: 0.4077 - val_loss: 0.3809\n",
            "Epoch 18/30\n",
            "363/363 [==============================] - 1s 4ms/step - loss: 0.4040 - val_loss: 0.3793\n",
            "Epoch 19/30\n",
            "363/363 [==============================] - 1s 4ms/step - loss: 0.4004 - val_loss: 0.3850\n",
            "Epoch 20/30\n",
            "363/363 [==============================] - 1s 4ms/step - loss: 0.3980 - val_loss: 0.3809\n",
            "Epoch 21/30\n",
            "363/363 [==============================] - 1s 4ms/step - loss: 0.3949 - val_loss: 0.3701\n",
            "Epoch 22/30\n",
            "363/363 [==============================] - 1s 4ms/step - loss: 0.3924 - val_loss: 0.3781\n",
            "Epoch 23/30\n",
            "363/363 [==============================] - 1s 4ms/step - loss: 0.3898 - val_loss: 0.3650\n",
            "Epoch 24/30\n",
            "363/363 [==============================] - 1s 4ms/step - loss: 0.3874 - val_loss: 0.3655\n",
            "Epoch 25/30\n",
            "363/363 [==============================] - 1s 4ms/step - loss: 0.3851 - val_loss: 0.3611\n",
            "Epoch 26/30\n",
            "363/363 [==============================] - 1s 4ms/step - loss: 0.3829 - val_loss: 0.3626\n",
            "Epoch 27/30\n",
            "363/363 [==============================] - 1s 4ms/step - loss: 0.3809 - val_loss: 0.3564\n",
            "Epoch 28/30\n",
            "363/363 [==============================] - 1s 4ms/step - loss: 0.3788 - val_loss: 0.3579\n",
            "Epoch 29/30\n",
            "363/363 [==============================] - 1s 4ms/step - loss: 0.3769 - val_loss: 0.3561\n",
            "Epoch 30/30\n",
            "363/363 [==============================] - 1s 4ms/step - loss: 0.3750 - val_loss: 0.3548\n"
          ]
        }
      ],
      "source": [
        "tensorboard_cb = keras.callbacks.TensorBoard(run_logdir)\n",
        "history = model.fit(X_train, y_train, epochs=30,\n",
        "                    validation_data=(X_valid, y_valid),\n",
        "                    callbacks=[checkpoint_cb, tensorboard_cb])"
      ]
    },
    {
      "cell_type": "markdown",
      "metadata": {
        "id": "uBuE-cxForsb"
      },
      "source": [
        "Check out the other available logging options:"
      ]
    },
    {
      "cell_type": "markdown",
      "metadata": {
        "id": "KrFweO50orsb"
      },
      "source": [
        "# Hyperparameter Tuning"
      ]
    },
    {
      "cell_type": "code",
      "execution_count": 85,
      "metadata": {
        "id": "Fj3Cht7forsb"
      },
      "outputs": [],
      "source": [
        "keras.backend.clear_session()\n",
        "np.random.seed(42)\n",
        "tf.random.set_seed(42)"
      ]
    },
    {
      "cell_type": "code",
      "execution_count": 86,
      "metadata": {
        "id": "E-vnheDRorsb"
      },
      "outputs": [],
      "source": [
        "def build_model(n_hidden=1, n_neurons=30, learning_rate=3e-3, input_shape=[8]):\n",
        "    model = keras.models.Sequential()\n",
        "    model.add(keras.layers.InputLayer(input_shape=input_shape))\n",
        "    for layer in range(n_hidden):\n",
        "        model.add(keras.layers.Dense(n_neurons, activation=\"relu\"))\n",
        "    model.add(keras.layers.Dense(1))\n",
        "    optimizer = keras.optimizers.SGD(learning_rate=learning_rate)\n",
        "    model.compile(loss=\"mse\", optimizer=optimizer)\n",
        "    return model"
      ]
    },
    {
      "cell_type": "code",
      "execution_count": 87,
      "metadata": {
        "id": "bIU3Q8A4orsb",
        "colab": {
          "base_uri": "https://localhost:8080/"
        },
        "outputId": "59bd7ac0-3546-40ca-8ccf-6cb90052a78e"
      },
      "outputs": [
        {
          "output_type": "stream",
          "name": "stderr",
          "text": [
            "/usr/local/lib/python3.7/dist-packages/ipykernel_launcher.py:1: DeprecationWarning: KerasRegressor is deprecated, use Sci-Keras (https://github.com/adriangb/scikeras) instead. See https://www.adriangb.com/scikeras/stable/migration.html for help migrating.\n",
            "  \"\"\"Entry point for launching an IPython kernel.\n"
          ]
        }
      ],
      "source": [
        "keras_reg = keras.wrappers.scikit_learn.KerasRegressor(build_model)"
      ]
    },
    {
      "cell_type": "code",
      "execution_count": 88,
      "metadata": {
        "id": "apC9fdrhorsb",
        "outputId": "2d1750f3-8a3b-449c-f3ce-46fb0d4a5f54",
        "colab": {
          "base_uri": "https://localhost:8080/"
        }
      },
      "outputs": [
        {
          "output_type": "stream",
          "name": "stdout",
          "text": [
            "Epoch 1/100\n",
            "363/363 [==============================] - 2s 4ms/step - loss: 1.0896 - val_loss: 20.7721\n",
            "Epoch 2/100\n",
            "363/363 [==============================] - 1s 4ms/step - loss: 0.7606 - val_loss: 5.0266\n",
            "Epoch 3/100\n",
            "363/363 [==============================] - 1s 4ms/step - loss: 0.5456 - val_loss: 0.5490\n",
            "Epoch 4/100\n",
            "363/363 [==============================] - 1s 4ms/step - loss: 0.4732 - val_loss: 0.4529\n",
            "Epoch 5/100\n",
            "363/363 [==============================] - 1s 4ms/step - loss: 0.4503 - val_loss: 0.4188\n",
            "Epoch 6/100\n",
            "363/363 [==============================] - 1s 4ms/step - loss: 0.4338 - val_loss: 0.4129\n",
            "Epoch 7/100\n",
            "363/363 [==============================] - 1s 4ms/step - loss: 0.4241 - val_loss: 0.4004\n",
            "Epoch 8/100\n",
            "363/363 [==============================] - 1s 4ms/step - loss: 0.4168 - val_loss: 0.3944\n",
            "Epoch 9/100\n",
            "363/363 [==============================] - 1s 4ms/step - loss: 0.4108 - val_loss: 0.3961\n",
            "Epoch 10/100\n",
            "363/363 [==============================] - 1s 3ms/step - loss: 0.4060 - val_loss: 0.4071\n",
            "Epoch 11/100\n",
            "363/363 [==============================] - 1s 4ms/step - loss: 0.4021 - val_loss: 0.3855\n",
            "Epoch 12/100\n",
            "363/363 [==============================] - 1s 3ms/step - loss: 0.3984 - val_loss: 0.4136\n",
            "Epoch 13/100\n",
            "363/363 [==============================] - 1s 4ms/step - loss: 0.3951 - val_loss: 0.3997\n",
            "Epoch 14/100\n",
            "363/363 [==============================] - 1s 3ms/step - loss: 0.3921 - val_loss: 0.3818\n",
            "Epoch 15/100\n",
            "363/363 [==============================] - 1s 3ms/step - loss: 0.3894 - val_loss: 0.3829\n",
            "Epoch 16/100\n",
            "363/363 [==============================] - 1s 4ms/step - loss: 0.3869 - val_loss: 0.3739\n",
            "Epoch 17/100\n",
            "363/363 [==============================] - 1s 4ms/step - loss: 0.3848 - val_loss: 0.4022\n",
            "Epoch 18/100\n",
            "363/363 [==============================] - 1s 4ms/step - loss: 0.3829 - val_loss: 0.3873\n",
            "Epoch 19/100\n",
            "363/363 [==============================] - 1s 4ms/step - loss: 0.3807 - val_loss: 0.3768\n",
            "Epoch 20/100\n",
            "363/363 [==============================] - 1s 3ms/step - loss: 0.3791 - val_loss: 0.4191\n",
            "Epoch 21/100\n",
            "363/363 [==============================] - 1s 3ms/step - loss: 0.3774 - val_loss: 0.3927\n",
            "Epoch 22/100\n",
            "363/363 [==============================] - 1s 3ms/step - loss: 0.3756 - val_loss: 0.4237\n",
            "Epoch 23/100\n",
            "363/363 [==============================] - 1s 3ms/step - loss: 0.3742 - val_loss: 0.3523\n",
            "Epoch 24/100\n",
            "363/363 [==============================] - 1s 4ms/step - loss: 0.3725 - val_loss: 0.3842\n",
            "Epoch 25/100\n",
            "363/363 [==============================] - 1s 3ms/step - loss: 0.3710 - val_loss: 0.4162\n",
            "Epoch 26/100\n",
            "363/363 [==============================] - 1s 4ms/step - loss: 0.3700 - val_loss: 0.3980\n",
            "Epoch 27/100\n",
            "363/363 [==============================] - 1s 4ms/step - loss: 0.3691 - val_loss: 0.3474\n",
            "Epoch 28/100\n",
            "363/363 [==============================] - 1s 4ms/step - loss: 0.3677 - val_loss: 0.3920\n",
            "Epoch 29/100\n",
            "363/363 [==============================] - 1s 3ms/step - loss: 0.3670 - val_loss: 0.3566\n",
            "Epoch 30/100\n",
            "363/363 [==============================] - 1s 4ms/step - loss: 0.3653 - val_loss: 0.4191\n",
            "Epoch 31/100\n",
            "363/363 [==============================] - 1s 4ms/step - loss: 0.3647 - val_loss: 0.3721\n",
            "Epoch 32/100\n",
            "363/363 [==============================] - 1s 4ms/step - loss: 0.3633 - val_loss: 0.3948\n",
            "Epoch 33/100\n",
            "363/363 [==============================] - 1s 3ms/step - loss: 0.3632 - val_loss: 0.3423\n",
            "Epoch 34/100\n",
            "363/363 [==============================] - 1s 4ms/step - loss: 0.3617 - val_loss: 0.3453\n",
            "Epoch 35/100\n",
            "363/363 [==============================] - 1s 4ms/step - loss: 0.3610 - val_loss: 0.4068\n",
            "Epoch 36/100\n",
            "363/363 [==============================] - 1s 4ms/step - loss: 0.3608 - val_loss: 0.3417\n",
            "Epoch 37/100\n",
            "363/363 [==============================] - 1s 3ms/step - loss: 0.3596 - val_loss: 0.3787\n",
            "Epoch 38/100\n",
            "363/363 [==============================] - 1s 4ms/step - loss: 0.3589 - val_loss: 0.3379\n",
            "Epoch 39/100\n",
            "363/363 [==============================] - 1s 3ms/step - loss: 0.3582 - val_loss: 0.3419\n",
            "Epoch 40/100\n",
            "363/363 [==============================] - 1s 4ms/step - loss: 0.3572 - val_loss: 0.3705\n",
            "Epoch 41/100\n",
            "363/363 [==============================] - 1s 4ms/step - loss: 0.3570 - val_loss: 0.3660\n",
            "Epoch 42/100\n",
            "363/363 [==============================] - 1s 4ms/step - loss: 0.3563 - val_loss: 0.3804\n",
            "Epoch 43/100\n",
            "363/363 [==============================] - 1s 4ms/step - loss: 0.3551 - val_loss: 0.3765\n",
            "Epoch 44/100\n",
            "363/363 [==============================] - 1s 4ms/step - loss: 0.3548 - val_loss: 0.3814\n",
            "Epoch 45/100\n",
            "363/363 [==============================] - 1s 3ms/step - loss: 0.3543 - val_loss: 0.3326\n",
            "Epoch 46/100\n",
            "363/363 [==============================] - 1s 4ms/step - loss: 0.3532 - val_loss: 0.3385\n",
            "Epoch 47/100\n",
            "363/363 [==============================] - 1s 4ms/step - loss: 0.3527 - val_loss: 0.3655\n",
            "Epoch 48/100\n",
            "363/363 [==============================] - 1s 4ms/step - loss: 0.3521 - val_loss: 0.3578\n",
            "Epoch 49/100\n",
            "363/363 [==============================] - 1s 4ms/step - loss: 0.3525 - val_loss: 0.3360\n",
            "Epoch 50/100\n",
            "363/363 [==============================] - 1s 4ms/step - loss: 0.3510 - val_loss: 0.3318\n",
            "Epoch 51/100\n",
            "363/363 [==============================] - 1s 4ms/step - loss: 0.3504 - val_loss: 0.3562\n",
            "Epoch 52/100\n",
            "363/363 [==============================] - 1s 4ms/step - loss: 0.3502 - val_loss: 0.3523\n",
            "Epoch 53/100\n",
            "363/363 [==============================] - 1s 4ms/step - loss: 0.3496 - val_loss: 0.4584\n",
            "Epoch 54/100\n",
            "363/363 [==============================] - 1s 4ms/step - loss: 0.3497 - val_loss: 0.3811\n",
            "Epoch 55/100\n",
            "363/363 [==============================] - 1s 4ms/step - loss: 0.3490 - val_loss: 0.3539\n",
            "Epoch 56/100\n",
            "363/363 [==============================] - 1s 4ms/step - loss: 0.3485 - val_loss: 0.3724\n",
            "Epoch 57/100\n",
            "363/363 [==============================] - 1s 4ms/step - loss: 0.3479 - val_loss: 0.3337\n",
            "Epoch 58/100\n",
            "363/363 [==============================] - 1s 3ms/step - loss: 0.3470 - val_loss: 0.4007\n",
            "Epoch 59/100\n",
            "363/363 [==============================] - 1s 4ms/step - loss: 0.3475 - val_loss: 0.3264\n",
            "Epoch 60/100\n",
            "363/363 [==============================] - 1s 4ms/step - loss: 0.3465 - val_loss: 0.3271\n",
            "Epoch 61/100\n",
            "363/363 [==============================] - 1s 4ms/step - loss: 0.3452 - val_loss: 0.3349\n",
            "Epoch 62/100\n",
            "363/363 [==============================] - 1s 4ms/step - loss: 0.3453 - val_loss: 0.3538\n",
            "Epoch 63/100\n",
            "363/363 [==============================] - 1s 4ms/step - loss: 0.3445 - val_loss: 0.3422\n",
            "Epoch 64/100\n",
            "363/363 [==============================] - 1s 4ms/step - loss: 0.3450 - val_loss: 0.3281\n",
            "Epoch 65/100\n",
            "363/363 [==============================] - 1s 3ms/step - loss: 0.3437 - val_loss: 0.3292\n",
            "Epoch 66/100\n",
            "363/363 [==============================] - 1s 3ms/step - loss: 0.3431 - val_loss: 0.3303\n",
            "Epoch 67/100\n",
            "363/363 [==============================] - 1s 4ms/step - loss: 0.3428 - val_loss: 0.3254\n",
            "Epoch 68/100\n",
            "363/363 [==============================] - 1s 3ms/step - loss: 0.3423 - val_loss: 0.3245\n",
            "Epoch 69/100\n",
            "363/363 [==============================] - 1s 4ms/step - loss: 0.3419 - val_loss: 0.3254\n",
            "Epoch 70/100\n",
            "363/363 [==============================] - 1s 4ms/step - loss: 0.3413 - val_loss: 0.3643\n",
            "Epoch 71/100\n",
            "363/363 [==============================] - 1s 3ms/step - loss: 0.3414 - val_loss: 0.3373\n",
            "Epoch 72/100\n",
            "363/363 [==============================] - 1s 4ms/step - loss: 0.3405 - val_loss: 0.3265\n",
            "Epoch 73/100\n",
            "363/363 [==============================] - 1s 4ms/step - loss: 0.3399 - val_loss: 0.3242\n",
            "Epoch 74/100\n",
            "363/363 [==============================] - 1s 4ms/step - loss: 0.3402 - val_loss: 0.3643\n",
            "Epoch 75/100\n",
            "363/363 [==============================] - 1s 4ms/step - loss: 0.3396 - val_loss: 0.3291\n",
            "Epoch 76/100\n",
            "363/363 [==============================] - 1s 3ms/step - loss: 0.3395 - val_loss: 0.3237\n",
            "Epoch 77/100\n",
            "363/363 [==============================] - 1s 4ms/step - loss: 0.3383 - val_loss: 0.3390\n",
            "Epoch 78/100\n",
            "363/363 [==============================] - 1s 3ms/step - loss: 0.3384 - val_loss: 0.3348\n",
            "Epoch 79/100\n",
            "363/363 [==============================] - 1s 3ms/step - loss: 0.3383 - val_loss: 0.3228\n",
            "Epoch 80/100\n",
            "363/363 [==============================] - 1s 4ms/step - loss: 0.3376 - val_loss: 0.3557\n",
            "Epoch 81/100\n",
            "363/363 [==============================] - 1s 4ms/step - loss: 0.3383 - val_loss: 0.3406\n",
            "Epoch 82/100\n",
            "363/363 [==============================] - 1s 4ms/step - loss: 0.3370 - val_loss: 0.3223\n",
            "Epoch 83/100\n",
            "363/363 [==============================] - 1s 4ms/step - loss: 0.3367 - val_loss: 0.3348\n",
            "Epoch 84/100\n",
            "363/363 [==============================] - 1s 4ms/step - loss: 0.3362 - val_loss: 0.4190\n",
            "Epoch 85/100\n",
            "363/363 [==============================] - 1s 3ms/step - loss: 0.3370 - val_loss: 0.3307\n",
            "Epoch 86/100\n",
            "363/363 [==============================] - 1s 4ms/step - loss: 0.3359 - val_loss: 0.3355\n",
            "Epoch 87/100\n",
            "363/363 [==============================] - 1s 4ms/step - loss: 0.3356 - val_loss: 0.3690\n",
            "Epoch 88/100\n",
            "363/363 [==============================] - 1s 4ms/step - loss: 0.3357 - val_loss: 0.3209\n",
            "Epoch 89/100\n",
            "363/363 [==============================] - 1s 4ms/step - loss: 0.3346 - val_loss: 0.4018\n",
            "Epoch 90/100\n",
            "363/363 [==============================] - 1s 4ms/step - loss: 0.3352 - val_loss: 0.3322\n",
            "Epoch 91/100\n",
            "363/363 [==============================] - 1s 4ms/step - loss: 0.3340 - val_loss: 0.4215\n",
            "Epoch 92/100\n",
            "363/363 [==============================] - 1s 4ms/step - loss: 0.3351 - val_loss: 0.3736\n",
            "Epoch 93/100\n",
            "363/363 [==============================] - 1s 4ms/step - loss: 0.3335 - val_loss: 0.4896\n",
            "Epoch 94/100\n",
            "363/363 [==============================] - 1s 3ms/step - loss: 0.3352 - val_loss: 0.6050\n",
            "Epoch 95/100\n",
            "363/363 [==============================] - 1s 4ms/step - loss: 0.3346 - val_loss: 0.8751\n",
            "Epoch 96/100\n",
            "363/363 [==============================] - 1s 4ms/step - loss: 0.3385 - val_loss: 0.5569\n",
            "Epoch 97/100\n",
            "363/363 [==============================] - 1s 4ms/step - loss: 0.3345 - val_loss: 0.9159\n",
            "Epoch 98/100\n",
            "363/363 [==============================] - 1s 4ms/step - loss: 0.3363 - val_loss: 1.2161\n"
          ]
        },
        {
          "output_type": "execute_result",
          "data": {
            "text/plain": [
              "<keras.callbacks.History at 0x7fb204e44250>"
            ]
          },
          "metadata": {},
          "execution_count": 88
        }
      ],
      "source": [
        "keras_reg.fit(X_train, y_train, epochs=100,\n",
        "              validation_data=(X_valid, y_valid),\n",
        "              callbacks=[keras.callbacks.EarlyStopping(patience=10)])"
      ]
    },
    {
      "cell_type": "code",
      "execution_count": 89,
      "metadata": {
        "id": "dfbXycHUorsb",
        "outputId": "ac537331-427e-4bca-a49f-71a5e039962a",
        "colab": {
          "base_uri": "https://localhost:8080/"
        }
      },
      "outputs": [
        {
          "output_type": "stream",
          "name": "stdout",
          "text": [
            "162/162 [==============================] - 0s 2ms/step - loss: 0.3380\n"
          ]
        }
      ],
      "source": [
        "mse_test = keras_reg.score(X_test, y_test)"
      ]
    },
    {
      "cell_type": "code",
      "execution_count": 90,
      "metadata": {
        "id": "DfjY5Uu4orsb"
      },
      "outputs": [],
      "source": [
        "y_pred = keras_reg.predict(X_new)"
      ]
    },
    {
      "cell_type": "code",
      "execution_count": 91,
      "metadata": {
        "id": "sT8tcCWSorsb"
      },
      "outputs": [],
      "source": [
        "np.random.seed(42)\n",
        "tf.random.set_seed(42)"
      ]
    },
    {
      "cell_type": "code",
      "execution_count": 92,
      "metadata": {
        "id": "O2JI1Ly6orsb",
        "outputId": "42d74280-bdfb-4211-917e-75fc23ac21f8",
        "colab": {
          "base_uri": "https://localhost:8080/"
        }
      },
      "outputs": [
        {
          "output_type": "stream",
          "name": "stdout",
          "text": [
            "Fitting 3 folds for each of 10 candidates, totalling 30 fits\n",
            "Epoch 1/100\n",
            "242/242 [==============================] - 1s 5ms/step - loss: 0.8420 - val_loss: 0.4703\n",
            "Epoch 2/100\n",
            "242/242 [==============================] - 1s 4ms/step - loss: 0.4815 - val_loss: 0.4247\n",
            "Epoch 3/100\n",
            "242/242 [==============================] - 1s 4ms/step - loss: 0.4519 - val_loss: 0.4052\n",
            "Epoch 4/100\n",
            "242/242 [==============================] - 1s 4ms/step - loss: 0.4429 - val_loss: 0.3975\n",
            "Epoch 5/100\n",
            "242/242 [==============================] - 1s 4ms/step - loss: 0.4368 - val_loss: 0.3991\n",
            "Epoch 6/100\n",
            "242/242 [==============================] - 1s 4ms/step - loss: 0.4340 - val_loss: 0.4031\n",
            "Epoch 7/100\n",
            "242/242 [==============================] - 1s 4ms/step - loss: 0.4351 - val_loss: 0.4043\n",
            "Epoch 8/100\n",
            "242/242 [==============================] - 1s 4ms/step - loss: 0.4267 - val_loss: 0.3929\n",
            "Epoch 9/100\n",
            "242/242 [==============================] - 1s 4ms/step - loss: 0.4258 - val_loss: 0.4040\n",
            "Epoch 10/100\n",
            "242/242 [==============================] - 1s 4ms/step - loss: 0.4237 - val_loss: 0.3886\n",
            "Epoch 11/100\n",
            "242/242 [==============================] - 1s 4ms/step - loss: 0.4209 - val_loss: 0.3999\n",
            "Epoch 12/100\n",
            "242/242 [==============================] - 1s 4ms/step - loss: 0.4170 - val_loss: 0.4085\n",
            "Epoch 13/100\n",
            "242/242 [==============================] - 1s 4ms/step - loss: 0.4139 - val_loss: 0.3922\n",
            "Epoch 14/100\n",
            "242/242 [==============================] - 1s 4ms/step - loss: 0.4132 - val_loss: 0.3918\n",
            "Epoch 15/100\n",
            "242/242 [==============================] - 1s 4ms/step - loss: 0.4106 - val_loss: 0.3886\n",
            "Epoch 16/100\n",
            "242/242 [==============================] - 1s 4ms/step - loss: 0.4092 - val_loss: 0.3933\n",
            "Epoch 17/100\n",
            "242/242 [==============================] - 1s 4ms/step - loss: 0.4092 - val_loss: 0.3907\n",
            "Epoch 18/100\n",
            "242/242 [==============================] - 1s 4ms/step - loss: 0.4087 - val_loss: 0.3955\n",
            "Epoch 19/100\n",
            "242/242 [==============================] - 1s 4ms/step - loss: 0.4058 - val_loss: 0.3935\n",
            "Epoch 20/100\n",
            "242/242 [==============================] - 1s 4ms/step - loss: 0.4053 - val_loss: 0.3891\n",
            "121/121 [==============================] - 0s 2ms/step - loss: 0.4251\n",
            "[CV] END learning_rate=0.022174573948353458, n_hidden=1, n_neurons=4; total time=  21.2s\n",
            "Epoch 1/100\n",
            "242/242 [==============================] - 1s 5ms/step - loss: 0.7452 - val_loss: 0.4860\n",
            "Epoch 2/100\n",
            "242/242 [==============================] - 1s 4ms/step - loss: 0.4649 - val_loss: 0.4280\n",
            "Epoch 3/100\n",
            "242/242 [==============================] - 1s 4ms/step - loss: 0.4495 - val_loss: 0.5791\n",
            "Epoch 4/100\n",
            "242/242 [==============================] - 1s 4ms/step - loss: 0.4438 - val_loss: 0.4549\n",
            "Epoch 5/100\n",
            "242/242 [==============================] - 1s 4ms/step - loss: 0.4414 - val_loss: 0.5250\n",
            "Epoch 6/100\n",
            "242/242 [==============================] - 1s 4ms/step - loss: 0.4409 - val_loss: 0.5486\n",
            "Epoch 7/100\n",
            "242/242 [==============================] - 1s 5ms/step - loss: 0.4388 - val_loss: 0.5871\n",
            "Epoch 8/100\n",
            "242/242 [==============================] - 1s 4ms/step - loss: 0.4381 - val_loss: 0.4759\n",
            "Epoch 9/100\n",
            "242/242 [==============================] - 1s 4ms/step - loss: 0.4371 - val_loss: 0.7523\n",
            "Epoch 10/100\n",
            "242/242 [==============================] - 1s 4ms/step - loss: 0.4369 - val_loss: 0.7478\n",
            "Epoch 11/100\n",
            "242/242 [==============================] - 1s 4ms/step - loss: 0.4344 - val_loss: 0.8981\n",
            "Epoch 12/100\n",
            "242/242 [==============================] - 1s 4ms/step - loss: 0.4347 - val_loss: 0.8543\n",
            "121/121 [==============================] - 0s 2ms/step - loss: 0.4537\n",
            "[CV] END learning_rate=0.022174573948353458, n_hidden=1, n_neurons=4; total time=  13.2s\n",
            "Epoch 1/100\n",
            "242/242 [==============================] - 1s 4ms/step - loss: 10.8724 - val_loss: 4.2496\n",
            "Epoch 2/100\n",
            "242/242 [==============================] - 1s 4ms/step - loss: 1.0257 - val_loss: 0.5794\n",
            "Epoch 3/100\n",
            "242/242 [==============================] - 1s 4ms/step - loss: 0.5263 - val_loss: 0.4357\n",
            "Epoch 4/100\n",
            "242/242 [==============================] - 1s 4ms/step - loss: 0.4640 - val_loss: 0.4169\n",
            "Epoch 5/100\n",
            "242/242 [==============================] - 1s 4ms/step - loss: 0.4515 - val_loss: 0.4135\n",
            "Epoch 6/100\n",
            "242/242 [==============================] - 1s 4ms/step - loss: 0.4486 - val_loss: 0.4206\n",
            "Epoch 7/100\n",
            "242/242 [==============================] - 1s 4ms/step - loss: 0.4567 - val_loss: 0.4100\n",
            "Epoch 8/100\n",
            "242/242 [==============================] - 1s 4ms/step - loss: 0.4495 - val_loss: 0.4155\n",
            "Epoch 9/100\n",
            "242/242 [==============================] - 1s 4ms/step - loss: 0.4474 - val_loss: 0.4111\n",
            "Epoch 10/100\n",
            "242/242 [==============================] - 1s 4ms/step - loss: 0.4620 - val_loss: 0.4076\n",
            "Epoch 11/100\n",
            "242/242 [==============================] - 1s 4ms/step - loss: 0.4470 - val_loss: 0.4062\n",
            "Epoch 12/100\n",
            "242/242 [==============================] - 1s 4ms/step - loss: 0.4460 - val_loss: 0.4078\n",
            "Epoch 13/100\n",
            "242/242 [==============================] - 1s 4ms/step - loss: 0.4462 - val_loss: 0.4160\n",
            "Epoch 14/100\n",
            "242/242 [==============================] - 1s 4ms/step - loss: 0.4445 - val_loss: 0.4158\n",
            "Epoch 15/100\n",
            "242/242 [==============================] - 1s 4ms/step - loss: 0.4430 - val_loss: 0.4137\n",
            "Epoch 16/100\n",
            "242/242 [==============================] - 1s 4ms/step - loss: 0.4515 - val_loss: 0.4069\n",
            "Epoch 17/100\n",
            "242/242 [==============================] - 1s 4ms/step - loss: 0.4422 - val_loss: 0.4119\n",
            "Epoch 18/100\n",
            "242/242 [==============================] - 1s 4ms/step - loss: 0.4408 - val_loss: 0.4149\n",
            "Epoch 19/100\n",
            "242/242 [==============================] - 1s 4ms/step - loss: 0.4429 - val_loss: 0.4081\n",
            "Epoch 20/100\n",
            "242/242 [==============================] - 1s 4ms/step - loss: 0.4595 - val_loss: 0.4141\n",
            "Epoch 21/100\n",
            "242/242 [==============================] - 1s 4ms/step - loss: 0.4431 - val_loss: 0.4100\n",
            "121/121 [==============================] - 0s 2ms/step - loss: 0.4473\n",
            "[CV] END learning_rate=0.022174573948353458, n_hidden=1, n_neurons=4; total time=  22.2s\n",
            "Epoch 1/100\n",
            "242/242 [==============================] - 1s 5ms/step - loss: 1.1684 - val_loss: 6.2480\n",
            "Epoch 2/100\n",
            "242/242 [==============================] - 1s 4ms/step - loss: 0.6285 - val_loss: 5.2166\n",
            "Epoch 3/100\n",
            "242/242 [==============================] - 1s 4ms/step - loss: 0.5212 - val_loss: 0.4474\n",
            "Epoch 4/100\n",
            "242/242 [==============================] - 1s 4ms/step - loss: 0.4280 - val_loss: 0.3901\n",
            "Epoch 5/100\n",
            "242/242 [==============================] - 1s 4ms/step - loss: 0.4008 - val_loss: 0.3736\n",
            "Epoch 6/100\n",
            "242/242 [==============================] - 1s 4ms/step - loss: 0.3840 - val_loss: 0.3803\n",
            "Epoch 7/100\n",
            "242/242 [==============================] - 1s 4ms/step - loss: 0.3730 - val_loss: 0.3813\n",
            "Epoch 8/100\n",
            "242/242 [==============================] - 1s 4ms/step - loss: 0.3648 - val_loss: 0.3961\n",
            "Epoch 9/100\n",
            "242/242 [==============================] - 1s 4ms/step - loss: 0.3591 - val_loss: 0.3988\n",
            "Epoch 10/100\n",
            "242/242 [==============================] - 1s 4ms/step - loss: 0.3542 - val_loss: 0.3891\n",
            "Epoch 11/100\n",
            "242/242 [==============================] - 1s 4ms/step - loss: 0.3510 - val_loss: 0.3870\n",
            "Epoch 12/100\n",
            "242/242 [==============================] - 1s 4ms/step - loss: 0.3465 - val_loss: 0.3770\n",
            "Epoch 13/100\n",
            "242/242 [==============================] - 1s 4ms/step - loss: 0.3424 - val_loss: 0.3770\n",
            "Epoch 14/100\n",
            "242/242 [==============================] - 1s 4ms/step - loss: 0.3408 - val_loss: 0.3843\n",
            "Epoch 15/100\n",
            "242/242 [==============================] - 1s 4ms/step - loss: 0.3371 - val_loss: 0.3770\n",
            "121/121 [==============================] - 0s 3ms/step - loss: 0.3561\n",
            "[CV] END learning_rate=0.005432590230265343, n_hidden=2, n_neurons=94; total time=  16.9s\n",
            "Epoch 1/100\n",
            "242/242 [==============================] - 1s 5ms/step - loss: 0.8828 - val_loss: 3.5738\n",
            "Epoch 2/100\n",
            "242/242 [==============================] - 1s 4ms/step - loss: 0.4887 - val_loss: 0.7767\n",
            "Epoch 3/100\n",
            "242/242 [==============================] - 1s 4ms/step - loss: 0.4267 - val_loss: 0.5515\n",
            "Epoch 4/100\n",
            "242/242 [==============================] - 1s 4ms/step - loss: 0.4011 - val_loss: 0.5335\n",
            "Epoch 5/100\n",
            "242/242 [==============================] - 1s 4ms/step - loss: 0.3852 - val_loss: 0.5336\n",
            "Epoch 6/100\n",
            "242/242 [==============================] - 1s 4ms/step - loss: 0.3746 - val_loss: 0.6750\n",
            "Epoch 7/100\n",
            "242/242 [==============================] - 1s 4ms/step - loss: 0.3678 - val_loss: 0.8462\n",
            "Epoch 8/100\n",
            "242/242 [==============================] - 1s 4ms/step - loss: 0.3610 - val_loss: 0.8724\n",
            "Epoch 9/100\n",
            "242/242 [==============================] - 1s 4ms/step - loss: 0.3554 - val_loss: 0.9645\n",
            "Epoch 10/100\n",
            "242/242 [==============================] - 1s 4ms/step - loss: 0.3525 - val_loss: 0.7225\n",
            "Epoch 11/100\n",
            "242/242 [==============================] - 1s 4ms/step - loss: 0.3475 - val_loss: 0.7257\n",
            "Epoch 12/100\n",
            "242/242 [==============================] - 1s 4ms/step - loss: 0.3442 - val_loss: 0.7217\n",
            "Epoch 13/100\n",
            "242/242 [==============================] - 1s 4ms/step - loss: 0.3422 - val_loss: 0.8443\n",
            "Epoch 14/100\n",
            "242/242 [==============================] - 1s 4ms/step - loss: 0.3407 - val_loss: 0.7065\n",
            "121/121 [==============================] - 0s 3ms/step - loss: 0.3650\n",
            "[CV] END learning_rate=0.005432590230265343, n_hidden=2, n_neurons=94; total time=  15.3s\n",
            "Epoch 1/100\n",
            "242/242 [==============================] - 2s 5ms/step - loss: 1.0015 - val_loss: 2.9433\n",
            "Epoch 2/100\n",
            "242/242 [==============================] - 1s 4ms/step - loss: 0.5546 - val_loss: 4.2557\n",
            "Epoch 3/100\n",
            "242/242 [==============================] - 1s 4ms/step - loss: 0.4854 - val_loss: 2.8526\n",
            "Epoch 4/100\n",
            "242/242 [==============================] - 1s 4ms/step - loss: 0.4594 - val_loss: 1.6798\n",
            "Epoch 5/100\n",
            "242/242 [==============================] - 1s 4ms/step - loss: 0.4136 - val_loss: 0.4322\n",
            "Epoch 6/100\n",
            "242/242 [==============================] - 1s 4ms/step - loss: 0.3937 - val_loss: 0.4172\n",
            "Epoch 7/100\n",
            "242/242 [==============================] - 1s 4ms/step - loss: 0.3829 - val_loss: 0.3769\n",
            "Epoch 8/100\n",
            "242/242 [==============================] - 1s 4ms/step - loss: 0.3753 - val_loss: 0.3688\n",
            "Epoch 9/100\n",
            "242/242 [==============================] - 1s 4ms/step - loss: 0.3692 - val_loss: 0.4032\n",
            "Epoch 10/100\n",
            "242/242 [==============================] - 1s 4ms/step - loss: 0.3655 - val_loss: 0.3418\n",
            "Epoch 11/100\n",
            "242/242 [==============================] - 1s 4ms/step - loss: 0.3610 - val_loss: 0.4452\n",
            "Epoch 12/100\n",
            "242/242 [==============================] - 1s 4ms/step - loss: 0.3575 - val_loss: 0.3454\n",
            "Epoch 13/100\n",
            "242/242 [==============================] - 1s 4ms/step - loss: 0.3526 - val_loss: 0.3395\n",
            "Epoch 14/100\n",
            "242/242 [==============================] - 1s 4ms/step - loss: 0.3503 - val_loss: 0.4354\n",
            "Epoch 15/100\n",
            "242/242 [==============================] - 1s 4ms/step - loss: 0.3489 - val_loss: 0.3386\n",
            "Epoch 16/100\n",
            "242/242 [==============================] - 1s 4ms/step - loss: 0.3455 - val_loss: 0.4038\n",
            "Epoch 17/100\n",
            "242/242 [==============================] - 1s 4ms/step - loss: 0.3434 - val_loss: 0.3302\n",
            "Epoch 18/100\n",
            "242/242 [==============================] - 1s 4ms/step - loss: 0.3406 - val_loss: 0.3580\n",
            "Epoch 19/100\n",
            "242/242 [==============================] - 1s 4ms/step - loss: 0.3386 - val_loss: 0.3546\n",
            "Epoch 20/100\n",
            "242/242 [==============================] - 1s 4ms/step - loss: 0.3360 - val_loss: 0.3460\n",
            "Epoch 21/100\n",
            "242/242 [==============================] - 1s 4ms/step - loss: 0.3355 - val_loss: 0.3245\n",
            "Epoch 22/100\n",
            "242/242 [==============================] - 1s 4ms/step - loss: 0.3338 - val_loss: 0.3258\n",
            "Epoch 23/100\n",
            "242/242 [==============================] - 1s 4ms/step - loss: 0.3315 - val_loss: 0.3442\n",
            "Epoch 24/100\n",
            "242/242 [==============================] - 1s 4ms/step - loss: 0.3301 - val_loss: 0.3377\n",
            "Epoch 25/100\n",
            "242/242 [==============================] - 1s 4ms/step - loss: 0.3289 - val_loss: 0.3642\n",
            "Epoch 26/100\n",
            "242/242 [==============================] - 1s 5ms/step - loss: 0.3271 - val_loss: 0.3924\n",
            "Epoch 27/100\n",
            "242/242 [==============================] - 1s 4ms/step - loss: 0.3256 - val_loss: 0.3140\n",
            "Epoch 28/100\n",
            "242/242 [==============================] - 1s 4ms/step - loss: 0.3236 - val_loss: 0.3198\n",
            "Epoch 29/100\n",
            "242/242 [==============================] - 1s 4ms/step - loss: 0.3259 - val_loss: 0.4244\n",
            "Epoch 30/100\n",
            "242/242 [==============================] - 1s 4ms/step - loss: 0.3231 - val_loss: 0.3233\n",
            "Epoch 31/100\n",
            "242/242 [==============================] - 1s 4ms/step - loss: 0.3198 - val_loss: 0.3138\n",
            "Epoch 32/100\n",
            "242/242 [==============================] - 1s 4ms/step - loss: 0.3177 - val_loss: 0.4343\n",
            "Epoch 33/100\n",
            "242/242 [==============================] - 1s 4ms/step - loss: 0.3185 - val_loss: 0.3115\n",
            "Epoch 34/100\n",
            "242/242 [==============================] - 1s 4ms/step - loss: 0.3152 - val_loss: 0.4128\n",
            "Epoch 35/100\n",
            "242/242 [==============================] - 1s 4ms/step - loss: 0.3179 - val_loss: 0.4473\n",
            "Epoch 36/100\n",
            "242/242 [==============================] - 1s 4ms/step - loss: 0.3143 - val_loss: 0.6046\n",
            "Epoch 37/100\n",
            "242/242 [==============================] - 1s 4ms/step - loss: 0.3160 - val_loss: 0.5932\n",
            "Epoch 38/100\n",
            "242/242 [==============================] - 1s 4ms/step - loss: 0.3202 - val_loss: 0.9123\n",
            "Epoch 39/100\n",
            "242/242 [==============================] - 1s 4ms/step - loss: 0.3167 - val_loss: 0.4614\n",
            "Epoch 40/100\n",
            "242/242 [==============================] - 1s 4ms/step - loss: 0.3121 - val_loss: 0.7985\n",
            "Epoch 41/100\n",
            "242/242 [==============================] - 1s 4ms/step - loss: 0.3148 - val_loss: 0.3858\n",
            "Epoch 42/100\n",
            "242/242 [==============================] - 1s 4ms/step - loss: 0.3085 - val_loss: 0.7022\n",
            "Epoch 43/100\n",
            "242/242 [==============================] - 1s 4ms/step - loss: 0.3113 - val_loss: 0.8411\n",
            "121/121 [==============================] - 0s 2ms/step - loss: 0.3170\n",
            "[CV] END learning_rate=0.005432590230265343, n_hidden=2, n_neurons=94; total time= 1.4min\n",
            "Epoch 1/100\n",
            "242/242 [==============================] - 1s 5ms/step - loss: 4.3936 - val_loss: 13.3699\n",
            "Epoch 2/100\n",
            "242/242 [==============================] - 1s 4ms/step - loss: 2.2098 - val_loss: 10.8972\n",
            "Epoch 3/100\n",
            "242/242 [==============================] - 1s 4ms/step - loss: 1.4360 - val_loss: 7.7330\n",
            "Epoch 4/100\n",
            "242/242 [==============================] - 1s 4ms/step - loss: 1.0926 - val_loss: 5.0744\n",
            "Epoch 5/100\n",
            "242/242 [==============================] - 1s 4ms/step - loss: 0.9168 - val_loss: 3.2363\n",
            "Epoch 6/100\n",
            "242/242 [==============================] - 1s 4ms/step - loss: 0.8186 - val_loss: 2.1597\n",
            "Epoch 7/100\n",
            "242/242 [==============================] - 1s 4ms/step - loss: 0.7619 - val_loss: 1.4840\n",
            "Epoch 8/100\n",
            "242/242 [==============================] - 1s 4ms/step - loss: 0.7266 - val_loss: 1.1083\n",
            "Epoch 9/100\n",
            "242/242 [==============================] - 1s 4ms/step - loss: 0.7031 - val_loss: 0.8942\n",
            "Epoch 10/100\n",
            "242/242 [==============================] - 1s 4ms/step - loss: 0.6858 - val_loss: 0.7687\n",
            "Epoch 11/100\n",
            "242/242 [==============================] - 1s 4ms/step - loss: 0.6720 - val_loss: 0.6947\n",
            "Epoch 12/100\n",
            "242/242 [==============================] - 1s 4ms/step - loss: 0.6602 - val_loss: 0.6524\n",
            "Epoch 13/100\n",
            "242/242 [==============================] - 1s 4ms/step - loss: 0.6498 - val_loss: 0.6234\n",
            "Epoch 14/100\n",
            "242/242 [==============================] - 1s 4ms/step - loss: 0.6401 - val_loss: 0.6061\n",
            "Epoch 15/100\n",
            "242/242 [==============================] - 1s 4ms/step - loss: 0.6312 - val_loss: 0.5933\n",
            "Epoch 16/100\n",
            "242/242 [==============================] - 1s 4ms/step - loss: 0.6227 - val_loss: 0.5819\n",
            "Epoch 17/100\n",
            "242/242 [==============================] - 1s 4ms/step - loss: 0.6147 - val_loss: 0.5733\n",
            "Epoch 18/100\n",
            "242/242 [==============================] - 1s 4ms/step - loss: 0.6070 - val_loss: 0.5650\n",
            "Epoch 19/100\n",
            "242/242 [==============================] - 1s 4ms/step - loss: 0.5997 - val_loss: 0.5578\n",
            "Epoch 20/100\n",
            "242/242 [==============================] - 1s 4ms/step - loss: 0.5926 - val_loss: 0.5508\n",
            "Epoch 21/100\n",
            "242/242 [==============================] - 1s 4ms/step - loss: 0.5859 - val_loss: 0.5446\n",
            "Epoch 22/100\n",
            "242/242 [==============================] - 1s 4ms/step - loss: 0.5794 - val_loss: 0.5384\n",
            "Epoch 23/100\n",
            "242/242 [==============================] - 1s 4ms/step - loss: 0.5732 - val_loss: 0.5326\n",
            "Epoch 24/100\n",
            "242/242 [==============================] - 1s 4ms/step - loss: 0.5671 - val_loss: 0.5266\n",
            "Epoch 25/100\n",
            "242/242 [==============================] - 1s 4ms/step - loss: 0.5614 - val_loss: 0.5214\n",
            "Epoch 26/100\n",
            "242/242 [==============================] - 1s 4ms/step - loss: 0.5558 - val_loss: 0.5166\n",
            "Epoch 27/100\n",
            "242/242 [==============================] - 1s 4ms/step - loss: 0.5504 - val_loss: 0.5116\n",
            "Epoch 28/100\n",
            "242/242 [==============================] - 1s 4ms/step - loss: 0.5453 - val_loss: 0.5076\n",
            "Epoch 29/100\n",
            "242/242 [==============================] - 1s 4ms/step - loss: 0.5403 - val_loss: 0.5035\n",
            "Epoch 30/100\n",
            "242/242 [==============================] - 1s 4ms/step - loss: 0.5356 - val_loss: 0.4989\n",
            "Epoch 31/100\n",
            "242/242 [==============================] - 1s 4ms/step - loss: 0.5309 - val_loss: 0.4946\n",
            "Epoch 32/100\n",
            "242/242 [==============================] - 1s 4ms/step - loss: 0.5265 - val_loss: 0.4915\n",
            "Epoch 33/100\n",
            "242/242 [==============================] - 1s 4ms/step - loss: 0.5222 - val_loss: 0.4883\n",
            "Epoch 34/100\n",
            "242/242 [==============================] - 1s 4ms/step - loss: 0.5181 - val_loss: 0.4856\n",
            "Epoch 35/100\n",
            "242/242 [==============================] - 1s 4ms/step - loss: 0.5141 - val_loss: 0.4828\n",
            "Epoch 36/100\n",
            "242/242 [==============================] - 1s 4ms/step - loss: 0.5103 - val_loss: 0.4789\n",
            "Epoch 37/100\n",
            "242/242 [==============================] - 1s 4ms/step - loss: 0.5066 - val_loss: 0.4780\n",
            "Epoch 38/100\n",
            "242/242 [==============================] - 1s 4ms/step - loss: 0.5030 - val_loss: 0.4742\n",
            "Epoch 39/100\n",
            "242/242 [==============================] - 1s 4ms/step - loss: 0.4995 - val_loss: 0.4729\n",
            "Epoch 40/100\n",
            "242/242 [==============================] - 1s 4ms/step - loss: 0.4962 - val_loss: 0.4714\n",
            "Epoch 41/100\n",
            "242/242 [==============================] - 1s 4ms/step - loss: 0.4929 - val_loss: 0.4686\n",
            "Epoch 42/100\n",
            "242/242 [==============================] - 1s 4ms/step - loss: 0.4897 - val_loss: 0.4666\n",
            "Epoch 43/100\n",
            "242/242 [==============================] - 1s 4ms/step - loss: 0.4867 - val_loss: 0.4646\n",
            "Epoch 44/100\n",
            "242/242 [==============================] - 1s 4ms/step - loss: 0.4837 - val_loss: 0.4636\n",
            "Epoch 45/100\n",
            "242/242 [==============================] - 1s 4ms/step - loss: 0.4809 - val_loss: 0.4616\n",
            "Epoch 46/100\n",
            "242/242 [==============================] - 1s 4ms/step - loss: 0.4781 - val_loss: 0.4582\n",
            "Epoch 47/100\n",
            "242/242 [==============================] - 1s 4ms/step - loss: 0.4755 - val_loss: 0.4581\n",
            "Epoch 48/100\n",
            "242/242 [==============================] - 1s 4ms/step - loss: 0.4729 - val_loss: 0.4573\n",
            "Epoch 49/100\n",
            "242/242 [==============================] - 1s 4ms/step - loss: 0.4704 - val_loss: 0.4560\n",
            "Epoch 50/100\n",
            "242/242 [==============================] - 1s 4ms/step - loss: 0.4680 - val_loss: 0.4544\n",
            "Epoch 51/100\n",
            "242/242 [==============================] - 1s 4ms/step - loss: 0.4656 - val_loss: 0.4525\n",
            "Epoch 52/100\n",
            "242/242 [==============================] - 1s 4ms/step - loss: 0.4633 - val_loss: 0.4527\n",
            "Epoch 53/100\n",
            "242/242 [==============================] - 1s 4ms/step - loss: 0.4611 - val_loss: 0.4522\n",
            "Epoch 54/100\n",
            "242/242 [==============================] - 1s 4ms/step - loss: 0.4589 - val_loss: 0.4509\n",
            "Epoch 55/100\n",
            "242/242 [==============================] - 1s 4ms/step - loss: 0.4568 - val_loss: 0.4509\n",
            "Epoch 56/100\n",
            "242/242 [==============================] - 1s 4ms/step - loss: 0.4548 - val_loss: 0.4513\n",
            "Epoch 57/100\n",
            "242/242 [==============================] - 1s 4ms/step - loss: 0.4529 - val_loss: 0.4496\n",
            "Epoch 58/100\n",
            "242/242 [==============================] - 1s 4ms/step - loss: 0.4510 - val_loss: 0.4510\n",
            "Epoch 59/100\n",
            "242/242 [==============================] - 1s 4ms/step - loss: 0.4491 - val_loss: 0.4502\n",
            "Epoch 60/100\n",
            "242/242 [==============================] - 1s 4ms/step - loss: 0.4473 - val_loss: 0.4478\n",
            "Epoch 61/100\n",
            "242/242 [==============================] - 1s 4ms/step - loss: 0.4456 - val_loss: 0.4485\n",
            "Epoch 62/100\n",
            "242/242 [==============================] - 1s 4ms/step - loss: 0.4440 - val_loss: 0.4488\n",
            "Epoch 63/100\n",
            "242/242 [==============================] - 1s 4ms/step - loss: 0.4423 - val_loss: 0.4477\n",
            "Epoch 64/100\n",
            "242/242 [==============================] - 1s 4ms/step - loss: 0.4408 - val_loss: 0.4497\n",
            "Epoch 65/100\n",
            "242/242 [==============================] - 1s 4ms/step - loss: 0.4392 - val_loss: 0.4512\n",
            "Epoch 66/100\n",
            "242/242 [==============================] - 1s 4ms/step - loss: 0.4378 - val_loss: 0.4484\n",
            "Epoch 67/100\n",
            "242/242 [==============================] - 1s 4ms/step - loss: 0.4363 - val_loss: 0.4483\n",
            "Epoch 68/100\n",
            "242/242 [==============================] - 1s 4ms/step - loss: 0.4349 - val_loss: 0.4494\n",
            "Epoch 69/100\n",
            "242/242 [==============================] - 1s 4ms/step - loss: 0.4336 - val_loss: 0.4492\n",
            "Epoch 70/100\n",
            "242/242 [==============================] - 1s 4ms/step - loss: 0.4322 - val_loss: 0.4476\n",
            "Epoch 71/100\n",
            "242/242 [==============================] - 1s 4ms/step - loss: 0.4309 - val_loss: 0.4481\n",
            "Epoch 72/100\n",
            "242/242 [==============================] - 1s 4ms/step - loss: 0.4296 - val_loss: 0.4503\n",
            "Epoch 73/100\n",
            "242/242 [==============================] - 1s 4ms/step - loss: 0.4284 - val_loss: 0.4486\n",
            "Epoch 74/100\n",
            "242/242 [==============================] - 1s 4ms/step - loss: 0.4272 - val_loss: 0.4491\n",
            "Epoch 75/100\n",
            "242/242 [==============================] - 1s 4ms/step - loss: 0.4261 - val_loss: 0.4496\n",
            "Epoch 76/100\n",
            "242/242 [==============================] - 1s 4ms/step - loss: 0.4249 - val_loss: 0.4483\n",
            "Epoch 77/100\n",
            "242/242 [==============================] - 1s 4ms/step - loss: 0.4238 - val_loss: 0.4474\n",
            "Epoch 78/100\n",
            "242/242 [==============================] - 1s 4ms/step - loss: 0.4227 - val_loss: 0.4490\n",
            "Epoch 79/100\n",
            "242/242 [==============================] - 1s 4ms/step - loss: 0.4217 - val_loss: 0.4495\n",
            "Epoch 80/100\n",
            "242/242 [==============================] - 1s 4ms/step - loss: 0.4206 - val_loss: 0.4468\n",
            "Epoch 81/100\n",
            "242/242 [==============================] - 1s 4ms/step - loss: 0.4196 - val_loss: 0.4492\n",
            "Epoch 82/100\n",
            "242/242 [==============================] - 1s 4ms/step - loss: 0.4186 - val_loss: 0.4525\n",
            "Epoch 83/100\n",
            "242/242 [==============================] - 1s 4ms/step - loss: 0.4177 - val_loss: 0.4504\n",
            "Epoch 84/100\n",
            "242/242 [==============================] - 1s 4ms/step - loss: 0.4167 - val_loss: 0.4525\n",
            "Epoch 85/100\n",
            "242/242 [==============================] - 1s 4ms/step - loss: 0.4158 - val_loss: 0.4495\n",
            "Epoch 86/100\n",
            "242/242 [==============================] - 1s 4ms/step - loss: 0.4148 - val_loss: 0.4548\n",
            "Epoch 87/100\n",
            "242/242 [==============================] - 1s 4ms/step - loss: 0.4140 - val_loss: 0.4512\n",
            "Epoch 88/100\n",
            "242/242 [==============================] - 1s 4ms/step - loss: 0.4132 - val_loss: 0.4481\n",
            "Epoch 89/100\n",
            "242/242 [==============================] - 1s 4ms/step - loss: 0.4123 - val_loss: 0.4472\n",
            "Epoch 90/100\n",
            "242/242 [==============================] - 1s 4ms/step - loss: 0.4114 - val_loss: 0.4506\n",
            "121/121 [==============================] - 0s 3ms/step - loss: 0.4209\n",
            "[CV] END learning_rate=0.00037078874137762145, n_hidden=1, n_neurons=51; total time= 1.5min\n",
            "Epoch 1/100\n",
            "242/242 [==============================] - 1s 5ms/step - loss: 3.4569 - val_loss: 7.5238\n",
            "Epoch 2/100\n",
            "242/242 [==============================] - 1s 4ms/step - loss: 1.5656 - val_loss: 8.6120\n",
            "Epoch 3/100\n",
            "242/242 [==============================] - 1s 4ms/step - loss: 1.0607 - val_loss: 8.4896\n",
            "Epoch 4/100\n",
            "242/242 [==============================] - 1s 4ms/step - loss: 0.8953 - val_loss: 7.7423\n",
            "Epoch 5/100\n",
            "242/242 [==============================] - 1s 4ms/step - loss: 0.8236 - val_loss: 6.8202\n",
            "Epoch 6/100\n",
            "242/242 [==============================] - 1s 4ms/step - loss: 0.7840 - val_loss: 5.9344\n",
            "Epoch 7/100\n",
            "242/242 [==============================] - 1s 4ms/step - loss: 0.7579 - val_loss: 5.1492\n",
            "Epoch 8/100\n",
            "242/242 [==============================] - 1s 4ms/step - loss: 0.7381 - val_loss: 4.4548\n",
            "Epoch 9/100\n",
            "242/242 [==============================] - 1s 4ms/step - loss: 0.7216 - val_loss: 3.9122\n",
            "Epoch 10/100\n",
            "242/242 [==============================] - 1s 4ms/step - loss: 0.7071 - val_loss: 3.4233\n",
            "Epoch 11/100\n",
            "242/242 [==============================] - 1s 4ms/step - loss: 0.6937 - val_loss: 2.9997\n",
            "Epoch 12/100\n",
            "242/242 [==============================] - 1s 4ms/step - loss: 0.6814 - val_loss: 2.6082\n",
            "Epoch 13/100\n",
            "242/242 [==============================] - 1s 4ms/step - loss: 0.6701 - val_loss: 2.2766\n",
            "Epoch 14/100\n",
            "242/242 [==============================] - 1s 4ms/step - loss: 0.6593 - val_loss: 1.9984\n",
            "Epoch 15/100\n",
            "242/242 [==============================] - 1s 4ms/step - loss: 0.6491 - val_loss: 1.7447\n",
            "Epoch 16/100\n",
            "242/242 [==============================] - 1s 4ms/step - loss: 0.6395 - val_loss: 1.5300\n",
            "Epoch 17/100\n",
            "242/242 [==============================] - 1s 4ms/step - loss: 0.6303 - val_loss: 1.3410\n",
            "Epoch 18/100\n",
            "242/242 [==============================] - 1s 4ms/step - loss: 0.6217 - val_loss: 1.1762\n",
            "Epoch 19/100\n",
            "242/242 [==============================] - 1s 4ms/step - loss: 0.6133 - val_loss: 1.0345\n",
            "Epoch 20/100\n",
            "242/242 [==============================] - 1s 4ms/step - loss: 0.6055 - val_loss: 0.9174\n",
            "Epoch 21/100\n",
            "242/242 [==============================] - 1s 4ms/step - loss: 0.5980 - val_loss: 0.8153\n",
            "Epoch 22/100\n",
            "242/242 [==============================] - 1s 4ms/step - loss: 0.5908 - val_loss: 0.7363\n",
            "Epoch 23/100\n",
            "242/242 [==============================] - 1s 4ms/step - loss: 0.5839 - val_loss: 0.6696\n",
            "Epoch 24/100\n",
            "242/242 [==============================] - 1s 4ms/step - loss: 0.5774 - val_loss: 0.6187\n",
            "Epoch 25/100\n",
            "242/242 [==============================] - 1s 4ms/step - loss: 0.5711 - val_loss: 0.5778\n",
            "Epoch 26/100\n",
            "242/242 [==============================] - 1s 4ms/step - loss: 0.5652 - val_loss: 0.5491\n",
            "Epoch 27/100\n",
            "242/242 [==============================] - 1s 4ms/step - loss: 0.5594 - val_loss: 0.5299\n",
            "Epoch 28/100\n",
            "242/242 [==============================] - 1s 4ms/step - loss: 0.5540 - val_loss: 0.5199\n",
            "Epoch 29/100\n",
            "242/242 [==============================] - 1s 4ms/step - loss: 0.5486 - val_loss: 0.5172\n",
            "Epoch 30/100\n",
            "242/242 [==============================] - 1s 4ms/step - loss: 0.5438 - val_loss: 0.5206\n",
            "Epoch 31/100\n",
            "242/242 [==============================] - 1s 4ms/step - loss: 0.5389 - val_loss: 0.5312\n",
            "Epoch 32/100\n",
            "242/242 [==============================] - 1s 4ms/step - loss: 0.5343 - val_loss: 0.5447\n",
            "Epoch 33/100\n",
            "242/242 [==============================] - 1s 4ms/step - loss: 0.5298 - val_loss: 0.5639\n",
            "Epoch 34/100\n",
            "242/242 [==============================] - 1s 4ms/step - loss: 0.5256 - val_loss: 0.5821\n",
            "Epoch 35/100\n",
            "242/242 [==============================] - 1s 4ms/step - loss: 0.5216 - val_loss: 0.6039\n",
            "Epoch 36/100\n",
            "242/242 [==============================] - 1s 4ms/step - loss: 0.5177 - val_loss: 0.6306\n",
            "Epoch 37/100\n",
            "242/242 [==============================] - 1s 5ms/step - loss: 0.5140 - val_loss: 0.6564\n",
            "Epoch 38/100\n",
            "242/242 [==============================] - 1s 4ms/step - loss: 0.5104 - val_loss: 0.6820\n",
            "Epoch 39/100\n",
            "242/242 [==============================] - 1s 4ms/step - loss: 0.5069 - val_loss: 0.7087\n",
            "121/121 [==============================] - 0s 2ms/step - loss: 0.5160\n",
            "[CV] END learning_rate=0.00037078874137762145, n_hidden=1, n_neurons=51; total time=  41.7s\n",
            "Epoch 1/100\n",
            "242/242 [==============================] - 1s 5ms/step - loss: 4.0974 - val_loss: 7.4460\n",
            "Epoch 2/100\n",
            "242/242 [==============================] - 1s 4ms/step - loss: 2.1844 - val_loss: 5.2071\n",
            "Epoch 3/100\n",
            "242/242 [==============================] - 1s 4ms/step - loss: 1.4253 - val_loss: 2.9554\n",
            "Epoch 4/100\n",
            "242/242 [==============================] - 1s 4ms/step - loss: 1.0762 - val_loss: 1.7752\n",
            "Epoch 5/100\n",
            "242/242 [==============================] - 1s 4ms/step - loss: 0.9094 - val_loss: 1.1201\n",
            "Epoch 6/100\n",
            "242/242 [==============================] - 1s 4ms/step - loss: 0.8243 - val_loss: 0.8519\n",
            "Epoch 7/100\n",
            "242/242 [==============================] - 1s 4ms/step - loss: 0.7768 - val_loss: 0.7512\n",
            "Epoch 8/100\n",
            "242/242 [==============================] - 1s 4ms/step - loss: 0.7473 - val_loss: 0.7064\n",
            "Epoch 9/100\n",
            "242/242 [==============================] - 1s 4ms/step - loss: 0.7264 - val_loss: 0.6896\n",
            "Epoch 10/100\n",
            "242/242 [==============================] - 1s 5ms/step - loss: 0.7098 - val_loss: 0.6760\n",
            "Epoch 11/100\n",
            "242/242 [==============================] - 1s 4ms/step - loss: 0.6955 - val_loss: 0.6687\n",
            "Epoch 12/100\n",
            "242/242 [==============================] - 1s 4ms/step - loss: 0.6830 - val_loss: 0.6577\n",
            "Epoch 13/100\n",
            "242/242 [==============================] - 1s 4ms/step - loss: 0.6713 - val_loss: 0.6454\n",
            "Epoch 14/100\n",
            "242/242 [==============================] - 1s 4ms/step - loss: 0.6604 - val_loss: 0.6355\n",
            "Epoch 15/100\n",
            "242/242 [==============================] - 1s 4ms/step - loss: 0.6503 - val_loss: 0.6256\n",
            "Epoch 16/100\n",
            "242/242 [==============================] - 1s 4ms/step - loss: 0.6407 - val_loss: 0.6213\n",
            "Epoch 17/100\n",
            "242/242 [==============================] - 1s 5ms/step - loss: 0.6317 - val_loss: 0.6120\n",
            "Epoch 18/100\n",
            "242/242 [==============================] - 1s 4ms/step - loss: 0.6230 - val_loss: 0.6024\n",
            "Epoch 19/100\n",
            "242/242 [==============================] - 1s 4ms/step - loss: 0.6148 - val_loss: 0.5998\n",
            "Epoch 20/100\n",
            "242/242 [==============================] - 1s 4ms/step - loss: 0.6072 - val_loss: 0.5901\n",
            "Epoch 21/100\n",
            "242/242 [==============================] - 1s 4ms/step - loss: 0.5996 - val_loss: 0.5822\n",
            "Epoch 22/100\n",
            "242/242 [==============================] - 1s 4ms/step - loss: 0.5925 - val_loss: 0.5763\n",
            "Epoch 23/100\n",
            "242/242 [==============================] - 1s 4ms/step - loss: 0.5857 - val_loss: 0.5664\n",
            "Epoch 24/100\n",
            "242/242 [==============================] - 1s 4ms/step - loss: 0.5791 - val_loss: 0.5574\n",
            "Epoch 25/100\n",
            "242/242 [==============================] - 1s 4ms/step - loss: 0.5728 - val_loss: 0.5527\n",
            "Epoch 26/100\n",
            "242/242 [==============================] - 1s 4ms/step - loss: 0.5668 - val_loss: 0.5452\n",
            "Epoch 27/100\n",
            "242/242 [==============================] - 1s 4ms/step - loss: 0.5610 - val_loss: 0.5437\n",
            "Epoch 28/100\n",
            "242/242 [==============================] - 1s 4ms/step - loss: 0.5555 - val_loss: 0.5366\n",
            "Epoch 29/100\n",
            "242/242 [==============================] - 1s 4ms/step - loss: 0.5501 - val_loss: 0.5322\n",
            "Epoch 30/100\n",
            "242/242 [==============================] - 1s 4ms/step - loss: 0.5450 - val_loss: 0.5264\n",
            "Epoch 31/100\n",
            "242/242 [==============================] - 1s 4ms/step - loss: 0.5399 - val_loss: 0.5234\n",
            "Epoch 32/100\n",
            "242/242 [==============================] - 1s 4ms/step - loss: 0.5352 - val_loss: 0.5175\n",
            "Epoch 33/100\n",
            "242/242 [==============================] - 1s 4ms/step - loss: 0.5305 - val_loss: 0.5137\n",
            "Epoch 34/100\n",
            "242/242 [==============================] - 1s 4ms/step - loss: 0.5262 - val_loss: 0.5078\n",
            "Epoch 35/100\n",
            "242/242 [==============================] - 1s 4ms/step - loss: 0.5219 - val_loss: 0.5045\n",
            "Epoch 36/100\n",
            "242/242 [==============================] - 1s 4ms/step - loss: 0.5178 - val_loss: 0.4970\n",
            "Epoch 37/100\n",
            "242/242 [==============================] - 1s 4ms/step - loss: 0.5139 - val_loss: 0.4911\n",
            "Epoch 38/100\n",
            "242/242 [==============================] - 1s 4ms/step - loss: 0.5101 - val_loss: 0.4887\n",
            "Epoch 39/100\n",
            "242/242 [==============================] - 1s 4ms/step - loss: 0.5064 - val_loss: 0.4847\n",
            "Epoch 40/100\n",
            "242/242 [==============================] - 1s 4ms/step - loss: 0.5029 - val_loss: 0.4815\n",
            "Epoch 41/100\n",
            "242/242 [==============================] - 1s 4ms/step - loss: 0.4994 - val_loss: 0.4776\n",
            "Epoch 42/100\n",
            "242/242 [==============================] - 1s 5ms/step - loss: 0.4962 - val_loss: 0.4736\n",
            "Epoch 43/100\n",
            "242/242 [==============================] - 1s 4ms/step - loss: 0.4930 - val_loss: 0.4706\n",
            "Epoch 44/100\n",
            "242/242 [==============================] - 1s 4ms/step - loss: 0.4901 - val_loss: 0.4673\n",
            "Epoch 45/100\n",
            "242/242 [==============================] - 1s 4ms/step - loss: 0.4871 - val_loss: 0.4655\n",
            "Epoch 46/100\n",
            "242/242 [==============================] - 1s 4ms/step - loss: 0.4843 - val_loss: 0.4625\n",
            "Epoch 47/100\n",
            "242/242 [==============================] - 1s 4ms/step - loss: 0.4816 - val_loss: 0.4576\n",
            "Epoch 48/100\n",
            "242/242 [==============================] - 1s 4ms/step - loss: 0.4789 - val_loss: 0.4554\n",
            "Epoch 49/100\n",
            "242/242 [==============================] - 1s 4ms/step - loss: 0.4764 - val_loss: 0.4525\n",
            "Epoch 50/100\n",
            "242/242 [==============================] - 1s 4ms/step - loss: 0.4740 - val_loss: 0.4495\n",
            "Epoch 51/100\n",
            "242/242 [==============================] - 1s 4ms/step - loss: 0.4716 - val_loss: 0.4468\n",
            "Epoch 52/100\n",
            "242/242 [==============================] - 1s 4ms/step - loss: 0.4693 - val_loss: 0.4446\n",
            "Epoch 53/100\n",
            "242/242 [==============================] - 1s 4ms/step - loss: 0.4670 - val_loss: 0.4420\n",
            "Epoch 54/100\n",
            "242/242 [==============================] - 1s 4ms/step - loss: 0.4649 - val_loss: 0.4394\n",
            "Epoch 55/100\n",
            "242/242 [==============================] - 1s 4ms/step - loss: 0.4628 - val_loss: 0.4373\n",
            "Epoch 56/100\n",
            "242/242 [==============================] - 1s 4ms/step - loss: 0.4607 - val_loss: 0.4349\n",
            "Epoch 57/100\n",
            "242/242 [==============================] - 1s 4ms/step - loss: 0.4588 - val_loss: 0.4330\n",
            "Epoch 58/100\n",
            "242/242 [==============================] - 1s 4ms/step - loss: 0.4569 - val_loss: 0.4311\n",
            "Epoch 59/100\n",
            "242/242 [==============================] - 1s 4ms/step - loss: 0.4550 - val_loss: 0.4291\n",
            "Epoch 60/100\n",
            "242/242 [==============================] - 1s 4ms/step - loss: 0.4532 - val_loss: 0.4277\n",
            "Epoch 61/100\n",
            "242/242 [==============================] - 1s 4ms/step - loss: 0.4515 - val_loss: 0.4257\n",
            "Epoch 62/100\n",
            "242/242 [==============================] - 1s 4ms/step - loss: 0.4498 - val_loss: 0.4241\n",
            "Epoch 63/100\n",
            "242/242 [==============================] - 1s 4ms/step - loss: 0.4482 - val_loss: 0.4224\n",
            "Epoch 64/100\n",
            "242/242 [==============================] - 1s 4ms/step - loss: 0.4466 - val_loss: 0.4208\n",
            "Epoch 65/100\n",
            "242/242 [==============================] - 1s 4ms/step - loss: 0.4451 - val_loss: 0.4193\n",
            "Epoch 66/100\n",
            "242/242 [==============================] - 1s 4ms/step - loss: 0.4436 - val_loss: 0.4180\n",
            "Epoch 67/100\n",
            "242/242 [==============================] - 1s 4ms/step - loss: 0.4422 - val_loss: 0.4164\n",
            "Epoch 68/100\n",
            "242/242 [==============================] - 1s 4ms/step - loss: 0.4408 - val_loss: 0.4151\n",
            "Epoch 69/100\n",
            "242/242 [==============================] - 1s 4ms/step - loss: 0.4395 - val_loss: 0.4141\n",
            "Epoch 70/100\n",
            "242/242 [==============================] - 1s 4ms/step - loss: 0.4382 - val_loss: 0.4124\n",
            "Epoch 71/100\n",
            "242/242 [==============================] - 1s 4ms/step - loss: 0.4369 - val_loss: 0.4112\n",
            "Epoch 72/100\n",
            "242/242 [==============================] - 1s 4ms/step - loss: 0.4357 - val_loss: 0.4101\n",
            "Epoch 73/100\n",
            "242/242 [==============================] - 1s 4ms/step - loss: 0.4345 - val_loss: 0.4088\n",
            "Epoch 74/100\n",
            "242/242 [==============================] - 1s 4ms/step - loss: 0.4334 - val_loss: 0.4081\n",
            "Epoch 75/100\n",
            "242/242 [==============================] - 1s 4ms/step - loss: 0.4323 - val_loss: 0.4073\n",
            "Epoch 76/100\n",
            "242/242 [==============================] - 1s 4ms/step - loss: 0.4312 - val_loss: 0.4070\n",
            "Epoch 77/100\n",
            "242/242 [==============================] - 1s 4ms/step - loss: 0.4301 - val_loss: 0.4056\n",
            "Epoch 78/100\n",
            "242/242 [==============================] - 1s 4ms/step - loss: 0.4291 - val_loss: 0.4040\n",
            "Epoch 79/100\n",
            "242/242 [==============================] - 1s 4ms/step - loss: 0.4281 - val_loss: 0.4034\n",
            "Epoch 80/100\n",
            "242/242 [==============================] - 1s 4ms/step - loss: 0.4271 - val_loss: 0.4033\n",
            "Epoch 81/100\n",
            "242/242 [==============================] - 1s 4ms/step - loss: 0.4262 - val_loss: 0.4019\n",
            "Epoch 82/100\n",
            "242/242 [==============================] - 1s 4ms/step - loss: 0.4253 - val_loss: 0.4008\n",
            "Epoch 83/100\n",
            "242/242 [==============================] - 1s 4ms/step - loss: 0.4244 - val_loss: 0.4002\n",
            "Epoch 84/100\n",
            "242/242 [==============================] - 1s 4ms/step - loss: 0.4236 - val_loss: 0.3996\n",
            "Epoch 85/100\n",
            "242/242 [==============================] - 1s 4ms/step - loss: 0.4227 - val_loss: 0.3983\n",
            "Epoch 86/100\n",
            "242/242 [==============================] - 1s 4ms/step - loss: 0.4219 - val_loss: 0.3980\n",
            "Epoch 87/100\n",
            "242/242 [==============================] - 1s 4ms/step - loss: 0.4211 - val_loss: 0.3981\n",
            "Epoch 88/100\n",
            "242/242 [==============================] - 1s 4ms/step - loss: 0.4203 - val_loss: 0.3969\n",
            "Epoch 89/100\n",
            "242/242 [==============================] - 1s 5ms/step - loss: 0.4195 - val_loss: 0.3978\n",
            "Epoch 90/100\n",
            "242/242 [==============================] - 1s 4ms/step - loss: 0.4188 - val_loss: 0.3961\n",
            "Epoch 91/100\n",
            "242/242 [==============================] - 1s 4ms/step - loss: 0.4180 - val_loss: 0.3951\n",
            "Epoch 92/100\n",
            "242/242 [==============================] - 1s 4ms/step - loss: 0.4173 - val_loss: 0.3938\n",
            "Epoch 93/100\n",
            "242/242 [==============================] - 1s 4ms/step - loss: 0.4166 - val_loss: 0.3938\n",
            "Epoch 94/100\n",
            "242/242 [==============================] - 1s 4ms/step - loss: 0.4159 - val_loss: 0.3935\n",
            "Epoch 95/100\n",
            "242/242 [==============================] - 1s 4ms/step - loss: 0.4152 - val_loss: 0.3934\n",
            "Epoch 96/100\n",
            "242/242 [==============================] - 1s 4ms/step - loss: 0.4146 - val_loss: 0.3932\n",
            "Epoch 97/100\n",
            "242/242 [==============================] - 1s 4ms/step - loss: 0.4139 - val_loss: 0.3939\n",
            "Epoch 98/100\n",
            "242/242 [==============================] - 1s 4ms/step - loss: 0.4132 - val_loss: 0.3913\n",
            "Epoch 99/100\n",
            "242/242 [==============================] - 1s 4ms/step - loss: 0.4127 - val_loss: 0.3916\n",
            "Epoch 100/100\n",
            "242/242 [==============================] - 1s 4ms/step - loss: 0.4121 - val_loss: 0.3918\n",
            "121/121 [==============================] - 0s 2ms/step - loss: 0.4139\n",
            "[CV] END learning_rate=0.00037078874137762145, n_hidden=1, n_neurons=51; total time= 2.4min\n",
            "Epoch 1/100\n",
            "242/242 [==============================] - 2s 5ms/step - loss: 2.0765 - val_loss: 1.3536\n",
            "Epoch 2/100\n",
            "242/242 [==============================] - 1s 5ms/step - loss: 0.7485 - val_loss: 0.7463\n",
            "Epoch 3/100\n",
            "242/242 [==============================] - 1s 5ms/step - loss: 0.6415 - val_loss: 0.5899\n",
            "Epoch 4/100\n",
            "242/242 [==============================] - 1s 5ms/step - loss: 0.5900 - val_loss: 0.5366\n",
            "Epoch 5/100\n",
            "242/242 [==============================] - 1s 5ms/step - loss: 0.5507 - val_loss: 0.5063\n",
            "Epoch 6/100\n",
            "242/242 [==============================] - 1s 4ms/step - loss: 0.5188 - val_loss: 0.4813\n",
            "Epoch 7/100\n",
            "242/242 [==============================] - 1s 5ms/step - loss: 0.4926 - val_loss: 0.4639\n",
            "Epoch 8/100\n",
            "242/242 [==============================] - 1s 4ms/step - loss: 0.4721 - val_loss: 0.4427\n",
            "Epoch 9/100\n",
            "242/242 [==============================] - 1s 5ms/step - loss: 0.4552 - val_loss: 0.4393\n",
            "Epoch 10/100\n",
            "242/242 [==============================] - 1s 5ms/step - loss: 0.4420 - val_loss: 0.4137\n",
            "Epoch 11/100\n",
            "242/242 [==============================] - 1s 4ms/step - loss: 0.4313 - val_loss: 0.4071\n",
            "Epoch 12/100\n",
            "242/242 [==============================] - 1s 5ms/step - loss: 0.4224 - val_loss: 0.3983\n",
            "Epoch 13/100\n",
            "242/242 [==============================] - 1s 5ms/step - loss: 0.4147 - val_loss: 0.3933\n",
            "Epoch 14/100\n",
            "242/242 [==============================] - 1s 5ms/step - loss: 0.4089 - val_loss: 0.3972\n",
            "Epoch 15/100\n",
            "242/242 [==============================] - 1s 4ms/step - loss: 0.4029 - val_loss: 0.3852\n",
            "Epoch 16/100\n",
            "242/242 [==============================] - 1s 4ms/step - loss: 0.3986 - val_loss: 0.3830\n",
            "Epoch 17/100\n",
            "242/242 [==============================] - 1s 5ms/step - loss: 0.3939 - val_loss: 0.3947\n",
            "Epoch 18/100\n",
            "242/242 [==============================] - 1s 5ms/step - loss: 0.3900 - val_loss: 0.3713\n",
            "Epoch 19/100\n",
            "242/242 [==============================] - 1s 5ms/step - loss: 0.3857 - val_loss: 0.3752\n",
            "Epoch 20/100\n",
            "242/242 [==============================] - 1s 4ms/step - loss: 0.3828 - val_loss: 0.3741\n",
            "Epoch 21/100\n",
            "242/242 [==============================] - 1s 5ms/step - loss: 0.3803 - val_loss: 0.3782\n",
            "Epoch 22/100\n",
            "242/242 [==============================] - 1s 5ms/step - loss: 0.3766 - val_loss: 0.3637\n",
            "Epoch 23/100\n",
            "242/242 [==============================] - 1s 4ms/step - loss: 0.3742 - val_loss: 0.3723\n",
            "Epoch 24/100\n",
            "242/242 [==============================] - 1s 4ms/step - loss: 0.3721 - val_loss: 0.3707\n",
            "Epoch 25/100\n",
            "242/242 [==============================] - 1s 4ms/step - loss: 0.3691 - val_loss: 0.4047\n",
            "Epoch 26/100\n",
            "242/242 [==============================] - 1s 5ms/step - loss: 0.3679 - val_loss: 0.3839\n",
            "Epoch 27/100\n",
            "242/242 [==============================] - 1s 4ms/step - loss: 0.3654 - val_loss: 0.4167\n",
            "Epoch 28/100\n",
            "242/242 [==============================] - 1s 5ms/step - loss: 0.3637 - val_loss: 0.3500\n",
            "Epoch 29/100\n",
            "242/242 [==============================] - 1s 4ms/step - loss: 0.3607 - val_loss: 0.3792\n",
            "Epoch 30/100\n",
            "242/242 [==============================] - 1s 4ms/step - loss: 0.3602 - val_loss: 0.3636\n",
            "Epoch 31/100\n",
            "242/242 [==============================] - 1s 4ms/step - loss: 0.3576 - val_loss: 0.3476\n",
            "Epoch 32/100\n",
            "242/242 [==============================] - 1s 4ms/step - loss: 0.3566 - val_loss: 0.3566\n",
            "Epoch 33/100\n",
            "242/242 [==============================] - 1s 4ms/step - loss: 0.3548 - val_loss: 0.3611\n",
            "Epoch 34/100\n",
            "242/242 [==============================] - 1s 4ms/step - loss: 0.3541 - val_loss: 0.3414\n",
            "Epoch 35/100\n",
            "242/242 [==============================] - 1s 5ms/step - loss: 0.3527 - val_loss: 0.3474\n",
            "Epoch 36/100\n",
            "242/242 [==============================] - 1s 4ms/step - loss: 0.3508 - val_loss: 0.3944\n",
            "Epoch 37/100\n",
            "242/242 [==============================] - 1s 4ms/step - loss: 0.3507 - val_loss: 0.4402\n",
            "Epoch 38/100\n",
            "242/242 [==============================] - 1s 4ms/step - loss: 0.3502 - val_loss: 0.4722\n",
            "Epoch 39/100\n",
            "242/242 [==============================] - 1s 4ms/step - loss: 0.3495 - val_loss: 0.3721\n",
            "Epoch 40/100\n",
            "242/242 [==============================] - 1s 5ms/step - loss: 0.3481 - val_loss: 0.4018\n",
            "Epoch 41/100\n",
            "242/242 [==============================] - 1s 4ms/step - loss: 0.3468 - val_loss: 0.3376\n",
            "Epoch 42/100\n",
            "242/242 [==============================] - 1s 4ms/step - loss: 0.3449 - val_loss: 0.3377\n",
            "Epoch 43/100\n",
            "242/242 [==============================] - 1s 5ms/step - loss: 0.3450 - val_loss: 0.3354\n",
            "Epoch 44/100\n",
            "242/242 [==============================] - 1s 4ms/step - loss: 0.3433 - val_loss: 0.3736\n",
            "Epoch 45/100\n",
            "242/242 [==============================] - 1s 4ms/step - loss: 0.3441 - val_loss: 0.3336\n",
            "Epoch 46/100\n",
            "242/242 [==============================] - 1s 5ms/step - loss: 0.3421 - val_loss: 0.3563\n",
            "Epoch 47/100\n",
            "242/242 [==============================] - 1s 4ms/step - loss: 0.3415 - val_loss: 0.3547\n",
            "Epoch 48/100\n",
            "242/242 [==============================] - 1s 4ms/step - loss: 0.3410 - val_loss: 0.3399\n",
            "Epoch 49/100\n",
            "242/242 [==============================] - 1s 5ms/step - loss: 0.3400 - val_loss: 0.3304\n",
            "Epoch 50/100\n",
            "242/242 [==============================] - 1s 4ms/step - loss: 0.3395 - val_loss: 0.3850\n",
            "Epoch 51/100\n",
            "242/242 [==============================] - 1s 5ms/step - loss: 0.3393 - val_loss: 0.3430\n",
            "Epoch 52/100\n",
            "242/242 [==============================] - 1s 4ms/step - loss: 0.3382 - val_loss: 0.3363\n",
            "Epoch 53/100\n",
            "242/242 [==============================] - 1s 4ms/step - loss: 0.3378 - val_loss: 0.3386\n",
            "Epoch 54/100\n",
            "242/242 [==============================] - 1s 5ms/step - loss: 0.3373 - val_loss: 0.3294\n",
            "Epoch 55/100\n",
            "242/242 [==============================] - 1s 4ms/step - loss: 0.3361 - val_loss: 0.3655\n",
            "Epoch 56/100\n",
            "242/242 [==============================] - 1s 4ms/step - loss: 0.3369 - val_loss: 0.3310\n",
            "Epoch 57/100\n",
            "242/242 [==============================] - 1s 5ms/step - loss: 0.3354 - val_loss: 0.3727\n",
            "Epoch 58/100\n",
            "242/242 [==============================] - 1s 5ms/step - loss: 0.3347 - val_loss: 0.3375\n",
            "Epoch 59/100\n",
            "242/242 [==============================] - 1s 5ms/step - loss: 0.3340 - val_loss: 0.3263\n",
            "Epoch 60/100\n",
            "242/242 [==============================] - 1s 5ms/step - loss: 0.3332 - val_loss: 0.3403\n",
            "Epoch 61/100\n",
            "242/242 [==============================] - 1s 4ms/step - loss: 0.3329 - val_loss: 0.3441\n",
            "Epoch 62/100\n",
            "242/242 [==============================] - 1s 4ms/step - loss: 0.3321 - val_loss: 0.3582\n",
            "Epoch 63/100\n",
            "242/242 [==============================] - 1s 4ms/step - loss: 0.3320 - val_loss: 0.3304\n",
            "Epoch 64/100\n",
            "242/242 [==============================] - 1s 5ms/step - loss: 0.3311 - val_loss: 0.3681\n",
            "Epoch 65/100\n",
            "242/242 [==============================] - 1s 4ms/step - loss: 0.3311 - val_loss: 0.3295\n",
            "Epoch 66/100\n",
            "242/242 [==============================] - 1s 5ms/step - loss: 0.3311 - val_loss: 0.3275\n",
            "Epoch 67/100\n",
            "242/242 [==============================] - 1s 4ms/step - loss: 0.3299 - val_loss: 0.3556\n",
            "Epoch 68/100\n",
            "242/242 [==============================] - 1s 5ms/step - loss: 0.3294 - val_loss: 0.3301\n",
            "Epoch 69/100\n",
            "242/242 [==============================] - 1s 4ms/step - loss: 0.3282 - val_loss: 0.3449\n",
            "121/121 [==============================] - 0s 3ms/step - loss: 0.3551\n",
            "[CV] END learning_rate=0.0016535051383872363, n_hidden=2, n_neurons=70; total time= 1.3min\n",
            "Epoch 1/100\n",
            "242/242 [==============================] - 2s 6ms/step - loss: 1.8880 - val_loss: 3.4090\n",
            "Epoch 2/100\n",
            "242/242 [==============================] - 2s 9ms/step - loss: 0.7244 - val_loss: 1.6754\n",
            "Epoch 3/100\n",
            "242/242 [==============================] - 1s 6ms/step - loss: 0.6372 - val_loss: 0.9319\n",
            "Epoch 4/100\n",
            "242/242 [==============================] - 1s 5ms/step - loss: 0.5910 - val_loss: 0.6042\n",
            "Epoch 5/100\n",
            "242/242 [==============================] - 1s 5ms/step - loss: 0.5529 - val_loss: 0.5061\n",
            "Epoch 6/100\n",
            "242/242 [==============================] - 1s 4ms/step - loss: 0.5225 - val_loss: 0.5058\n",
            "Epoch 7/100\n",
            "242/242 [==============================] - 1s 4ms/step - loss: 0.4977 - val_loss: 0.5272\n",
            "Epoch 8/100\n",
            "242/242 [==============================] - 1s 4ms/step - loss: 0.4770 - val_loss: 0.5600\n",
            "Epoch 9/100\n",
            "242/242 [==============================] - 1s 4ms/step - loss: 0.4600 - val_loss: 0.5367\n",
            "Epoch 10/100\n",
            "242/242 [==============================] - 1s 4ms/step - loss: 0.4469 - val_loss: 0.5220\n",
            "Epoch 11/100\n",
            "242/242 [==============================] - 1s 4ms/step - loss: 0.4356 - val_loss: 0.4878\n",
            "Epoch 12/100\n",
            "242/242 [==============================] - 1s 5ms/step - loss: 0.4264 - val_loss: 0.4531\n",
            "Epoch 13/100\n",
            "242/242 [==============================] - 1s 4ms/step - loss: 0.4187 - val_loss: 0.4182\n",
            "Epoch 14/100\n",
            "242/242 [==============================] - 1s 5ms/step - loss: 0.4124 - val_loss: 0.3877\n",
            "Epoch 15/100\n",
            "242/242 [==============================] - 1s 4ms/step - loss: 0.4064 - val_loss: 0.3818\n",
            "Epoch 16/100\n",
            "242/242 [==============================] - 1s 4ms/step - loss: 0.4014 - val_loss: 0.4022\n",
            "Epoch 17/100\n",
            "242/242 [==============================] - 1s 4ms/step - loss: 0.3962 - val_loss: 0.4347\n",
            "Epoch 18/100\n",
            "242/242 [==============================] - 1s 4ms/step - loss: 0.3926 - val_loss: 0.4933\n",
            "Epoch 19/100\n",
            "242/242 [==============================] - 1s 4ms/step - loss: 0.3878 - val_loss: 0.5340\n",
            "Epoch 20/100\n",
            "242/242 [==============================] - 1s 5ms/step - loss: 0.3847 - val_loss: 0.5983\n",
            "Epoch 21/100\n",
            "242/242 [==============================] - 1s 5ms/step - loss: 0.3819 - val_loss: 0.6541\n",
            "Epoch 22/100\n",
            "242/242 [==============================] - 1s 5ms/step - loss: 0.3786 - val_loss: 0.7246\n",
            "Epoch 23/100\n",
            "242/242 [==============================] - 1s 4ms/step - loss: 0.3758 - val_loss: 0.8046\n",
            "Epoch 24/100\n",
            "242/242 [==============================] - 1s 5ms/step - loss: 0.3735 - val_loss: 0.8587\n",
            "Epoch 25/100\n",
            "242/242 [==============================] - 1s 5ms/step - loss: 0.3711 - val_loss: 0.9089\n",
            "121/121 [==============================] - 0s 3ms/step - loss: 0.3884\n",
            "[CV] END learning_rate=0.0016535051383872363, n_hidden=2, n_neurons=70; total time=  42.1s\n",
            "Epoch 1/100\n",
            "242/242 [==============================] - 1s 5ms/step - loss: 2.1014 - val_loss: 2.1643\n",
            "Epoch 2/100\n",
            "242/242 [==============================] - 1s 5ms/step - loss: 0.7146 - val_loss: 0.6141\n",
            "Epoch 3/100\n",
            "242/242 [==============================] - 1s 5ms/step - loss: 0.6063 - val_loss: 0.5601\n",
            "Epoch 4/100\n",
            "242/242 [==============================] - 1s 4ms/step - loss: 0.5633 - val_loss: 0.5241\n",
            "Epoch 5/100\n",
            "242/242 [==============================] - 1s 4ms/step - loss: 0.5302 - val_loss: 0.5017\n",
            "Epoch 6/100\n",
            "242/242 [==============================] - 1s 5ms/step - loss: 0.5034 - val_loss: 0.4749\n",
            "Epoch 7/100\n",
            "242/242 [==============================] - 1s 4ms/step - loss: 0.4814 - val_loss: 0.4558\n",
            "Epoch 8/100\n",
            "242/242 [==============================] - 1s 5ms/step - loss: 0.4633 - val_loss: 0.4297\n",
            "Epoch 9/100\n",
            "242/242 [==============================] - 1s 4ms/step - loss: 0.4483 - val_loss: 0.4464\n",
            "Epoch 10/100\n",
            "242/242 [==============================] - 1s 5ms/step - loss: 0.4374 - val_loss: 0.4189\n",
            "Epoch 11/100\n",
            "242/242 [==============================] - 1s 4ms/step - loss: 0.4266 - val_loss: 0.4438\n",
            "Epoch 12/100\n",
            "242/242 [==============================] - 1s 5ms/step - loss: 0.4188 - val_loss: 0.4250\n",
            "Epoch 13/100\n",
            "242/242 [==============================] - 1s 4ms/step - loss: 0.4121 - val_loss: 0.4009\n",
            "Epoch 14/100\n",
            "242/242 [==============================] - 1s 5ms/step - loss: 0.4067 - val_loss: 0.4403\n",
            "Epoch 15/100\n",
            "242/242 [==============================] - 1s 5ms/step - loss: 0.4025 - val_loss: 0.4014\n",
            "Epoch 16/100\n",
            "242/242 [==============================] - 1s 4ms/step - loss: 0.3981 - val_loss: 0.4247\n",
            "Epoch 17/100\n",
            "242/242 [==============================] - 1s 4ms/step - loss: 0.3946 - val_loss: 0.3964\n",
            "Epoch 18/100\n",
            "242/242 [==============================] - 1s 4ms/step - loss: 0.3914 - val_loss: 0.3974\n",
            "Epoch 19/100\n",
            "242/242 [==============================] - 1s 5ms/step - loss: 0.3887 - val_loss: 0.4229\n",
            "Epoch 20/100\n",
            "242/242 [==============================] - 1s 4ms/step - loss: 0.3860 - val_loss: 0.4053\n",
            "Epoch 21/100\n",
            "242/242 [==============================] - 1s 5ms/step - loss: 0.3840 - val_loss: 0.3989\n",
            "Epoch 22/100\n",
            "242/242 [==============================] - 1s 5ms/step - loss: 0.3815 - val_loss: 0.3957\n",
            "Epoch 23/100\n",
            "242/242 [==============================] - 1s 5ms/step - loss: 0.3793 - val_loss: 0.3864\n",
            "Epoch 24/100\n",
            "242/242 [==============================] - 1s 5ms/step - loss: 0.3774 - val_loss: 0.4022\n",
            "Epoch 25/100\n",
            "242/242 [==============================] - 2s 7ms/step - loss: 0.3756 - val_loss: 0.3729\n",
            "Epoch 26/100\n",
            "242/242 [==============================] - 2s 7ms/step - loss: 0.3733 - val_loss: 0.3645\n",
            "Epoch 27/100\n",
            "242/242 [==============================] - 1s 5ms/step - loss: 0.3716 - val_loss: 0.4107\n",
            "Epoch 28/100\n",
            "242/242 [==============================] - 1s 5ms/step - loss: 0.3702 - val_loss: 0.3925\n",
            "Epoch 29/100\n",
            "242/242 [==============================] - 1s 4ms/step - loss: 0.3688 - val_loss: 0.4265\n",
            "Epoch 30/100\n",
            "242/242 [==============================] - 1s 5ms/step - loss: 0.3677 - val_loss: 0.3879\n",
            "Epoch 31/100\n",
            "242/242 [==============================] - 1s 4ms/step - loss: 0.3659 - val_loss: 0.3789\n",
            "Epoch 32/100\n",
            "242/242 [==============================] - 1s 5ms/step - loss: 0.3643 - val_loss: 0.4080\n",
            "Epoch 33/100\n",
            "242/242 [==============================] - 1s 4ms/step - loss: 0.3631 - val_loss: 0.3873\n",
            "Epoch 34/100\n",
            "242/242 [==============================] - 1s 5ms/step - loss: 0.3617 - val_loss: 0.4232\n",
            "Epoch 35/100\n",
            "242/242 [==============================] - 1s 4ms/step - loss: 0.3613 - val_loss: 0.3718\n",
            "Epoch 36/100\n",
            "242/242 [==============================] - 1s 5ms/step - loss: 0.3593 - val_loss: 0.3663\n",
            "121/121 [==============================] - 0s 3ms/step - loss: 0.3555\n",
            "[CV] END learning_rate=0.0016535051383872363, n_hidden=2, n_neurons=70; total time=  42.0s\n",
            "Epoch 1/100\n",
            "242/242 [==============================] - 1s 5ms/step - loss: 1.2908 - val_loss: 297.3652\n",
            "Epoch 2/100\n",
            "242/242 [==============================] - 1s 4ms/step - loss: 2.1716 - val_loss: 539.0366\n",
            "Epoch 3/100\n",
            "242/242 [==============================] - 1s 4ms/step - loss: 6.2333 - val_loss: 3736.4507\n",
            "Epoch 4/100\n",
            "242/242 [==============================] - 1s 4ms/step - loss: 11.9933 - val_loss: 12227.6982\n",
            "Epoch 5/100\n",
            "242/242 [==============================] - 1s 4ms/step - loss: 54.7041 - val_loss: 61529.1016\n",
            "Epoch 6/100\n",
            "242/242 [==============================] - 1s 4ms/step - loss: 2281.0823 - val_loss: 268363.5625\n",
            "Epoch 7/100\n",
            "242/242 [==============================] - 1s 4ms/step - loss: 2760.9927 - val_loss: 1210517.0000\n",
            "Epoch 8/100\n",
            "242/242 [==============================] - 1s 4ms/step - loss: 40359.3789 - val_loss: 5411004.0000\n",
            "Epoch 9/100\n",
            "242/242 [==============================] - 1s 4ms/step - loss: 83691.9375 - val_loss: 24506690.0000\n",
            "Epoch 10/100\n",
            "242/242 [==============================] - 1s 4ms/step - loss: 1055625.6250 - val_loss: 119813024.0000\n",
            "Epoch 11/100\n",
            "242/242 [==============================] - 1s 4ms/step - loss: 1860447.1250 - val_loss: 529731008.0000\n",
            "121/121 [==============================] - 0s 3ms/step - loss: 1402365.2500\n",
            "[CV] END learning_rate=0.01824796188192035, n_hidden=0, n_neurons=40; total time=  12.5s\n",
            "Epoch 1/100\n",
            "242/242 [==============================] - 1s 4ms/step - loss: 1.0446 - val_loss: 15.8284\n",
            "Epoch 2/100\n",
            "242/242 [==============================] - 1s 4ms/step - loss: 0.5210 - val_loss: 22.4892\n",
            "Epoch 3/100\n",
            "242/242 [==============================] - 1s 4ms/step - loss: 0.5063 - val_loss: 24.7894\n",
            "Epoch 4/100\n",
            "242/242 [==============================] - 1s 4ms/step - loss: 0.5101 - val_loss: 22.4864\n",
            "Epoch 5/100\n",
            "242/242 [==============================] - 1s 4ms/step - loss: 0.5097 - val_loss: 21.9009\n",
            "Epoch 6/100\n",
            "242/242 [==============================] - 1s 4ms/step - loss: 0.5089 - val_loss: 21.2895\n",
            "Epoch 7/100\n",
            "242/242 [==============================] - 1s 4ms/step - loss: 0.5113 - val_loss: 19.9064\n",
            "Epoch 8/100\n",
            "242/242 [==============================] - 1s 4ms/step - loss: 0.5102 - val_loss: 22.5013\n",
            "Epoch 9/100\n",
            "242/242 [==============================] - 1s 4ms/step - loss: 0.5069 - val_loss: 20.0987\n",
            "Epoch 10/100\n",
            "242/242 [==============================] - 1s 4ms/step - loss: 0.5087 - val_loss: 10.7128\n",
            "Epoch 11/100\n",
            "242/242 [==============================] - 1s 4ms/step - loss: 0.5083 - val_loss: 19.7319\n",
            "Epoch 12/100\n",
            "242/242 [==============================] - 1s 4ms/step - loss: 0.5049 - val_loss: 24.3237\n",
            "Epoch 13/100\n",
            "242/242 [==============================] - 1s 4ms/step - loss: 0.5077 - val_loss: 25.9485\n",
            "Epoch 14/100\n",
            "242/242 [==============================] - 1s 4ms/step - loss: 0.5199 - val_loss: 10.5277\n",
            "Epoch 15/100\n",
            "242/242 [==============================] - 1s 4ms/step - loss: 0.5078 - val_loss: 17.1916\n",
            "Epoch 16/100\n",
            "242/242 [==============================] - 1s 4ms/step - loss: 0.5064 - val_loss: 21.8347\n",
            "Epoch 17/100\n",
            "242/242 [==============================] - 1s 4ms/step - loss: 0.5058 - val_loss: 11.7743\n",
            "Epoch 18/100\n",
            "242/242 [==============================] - 1s 4ms/step - loss: 0.5101 - val_loss: 14.1555\n",
            "Epoch 19/100\n",
            "242/242 [==============================] - 1s 4ms/step - loss: 0.5071 - val_loss: 20.9814\n",
            "Epoch 20/100\n",
            "242/242 [==============================] - 1s 4ms/step - loss: 0.5032 - val_loss: 12.3621\n",
            "Epoch 21/100\n",
            "242/242 [==============================] - 1s 4ms/step - loss: 0.5071 - val_loss: 25.9146\n",
            "Epoch 22/100\n",
            "242/242 [==============================] - 1s 4ms/step - loss: 0.5132 - val_loss: 16.0461\n",
            "Epoch 23/100\n",
            "242/242 [==============================] - 1s 4ms/step - loss: 0.5071 - val_loss: 19.4877\n",
            "Epoch 24/100\n",
            "242/242 [==============================] - 1s 4ms/step - loss: 0.5084 - val_loss: 12.1054\n",
            "121/121 [==============================] - 0s 3ms/step - loss: 0.7813\n",
            "[CV] END learning_rate=0.01824796188192035, n_hidden=0, n_neurons=40; total time=  25.8s\n",
            "Epoch 1/100\n",
            "242/242 [==============================] - 1s 5ms/step - loss: 1.2328 - val_loss: 307.7496\n",
            "Epoch 2/100\n",
            "242/242 [==============================] - 1s 4ms/step - loss: 0.9214 - val_loss: 76.3015\n",
            "Epoch 3/100\n",
            "242/242 [==============================] - 1s 4ms/step - loss: 1.3774 - val_loss: 795.2292\n",
            "Epoch 4/100\n",
            "242/242 [==============================] - 1s 4ms/step - loss: 34.9847 - val_loss: 704.0450\n",
            "Epoch 5/100\n",
            "242/242 [==============================] - 1s 4ms/step - loss: 1.3027 - val_loss: 2668.0286\n",
            "Epoch 6/100\n",
            "242/242 [==============================] - 1s 5ms/step - loss: 9.2431 - val_loss: 1446.2605\n",
            "Epoch 7/100\n",
            "242/242 [==============================] - 1s 4ms/step - loss: 4.8034 - val_loss: 1540.5377\n",
            "Epoch 8/100\n",
            "242/242 [==============================] - 1s 4ms/step - loss: 41.9016 - val_loss: 1396.7115\n",
            "Epoch 9/100\n",
            "242/242 [==============================] - 1s 5ms/step - loss: 10.9509 - val_loss: 1334.0847\n",
            "Epoch 10/100\n",
            "242/242 [==============================] - 1s 5ms/step - loss: 1.4803 - val_loss: 216.7268\n",
            "Epoch 11/100\n",
            "242/242 [==============================] - 1s 4ms/step - loss: 13.8366 - val_loss: 125.2065\n",
            "Epoch 12/100\n",
            "242/242 [==============================] - 1s 4ms/step - loss: 0.6450 - val_loss: 2.2902\n",
            "Epoch 13/100\n",
            "242/242 [==============================] - 1s 4ms/step - loss: 0.7449 - val_loss: 790.5424\n",
            "Epoch 14/100\n",
            "242/242 [==============================] - 1s 5ms/step - loss: 9.2398 - val_loss: 468.7424\n",
            "Epoch 15/100\n",
            "242/242 [==============================] - 1s 4ms/step - loss: 2.2300 - val_loss: 1073.9149\n",
            "Epoch 16/100\n",
            "242/242 [==============================] - 1s 4ms/step - loss: 37.3800 - val_loss: 865.6385\n",
            "Epoch 17/100\n",
            "242/242 [==============================] - 1s 4ms/step - loss: 8.9708 - val_loss: 1128.1501\n",
            "Epoch 18/100\n",
            "242/242 [==============================] - 1s 5ms/step - loss: 3.8291 - val_loss: 499.5191\n",
            "Epoch 19/100\n",
            "242/242 [==============================] - 1s 5ms/step - loss: 24.8681 - val_loss: 309.7941\n",
            "Epoch 20/100\n",
            "242/242 [==============================] - 1s 4ms/step - loss: 3.6469 - val_loss: 354.6341\n",
            "Epoch 21/100\n",
            "242/242 [==============================] - 1s 4ms/step - loss: 4.2841 - val_loss: 559.4488\n",
            "Epoch 22/100\n",
            "242/242 [==============================] - 1s 4ms/step - loss: 4.5495 - val_loss: 393.8696\n",
            "121/121 [==============================] - 0s 3ms/step - loss: 0.6226\n",
            "[CV] END learning_rate=0.01824796188192035, n_hidden=0, n_neurons=40; total time=  41.7s\n",
            "Epoch 1/100\n",
            "242/242 [==============================] - 2s 5ms/step - loss: 1.2632 - val_loss: 1.4543\n",
            "Epoch 2/100\n",
            "242/242 [==============================] - 1s 5ms/step - loss: 0.6364 - val_loss: 0.9557\n",
            "Epoch 3/100\n",
            "242/242 [==============================] - 1s 5ms/step - loss: 0.5396 - val_loss: 0.4628\n",
            "Epoch 4/100\n",
            "242/242 [==============================] - 1s 5ms/step - loss: 0.4783 - val_loss: 0.4214\n",
            "Epoch 5/100\n",
            "242/242 [==============================] - 1s 5ms/step - loss: 0.4400 - val_loss: 0.3984\n",
            "Epoch 6/100\n",
            "242/242 [==============================] - 1s 4ms/step - loss: 0.4169 - val_loss: 0.4056\n",
            "Epoch 7/100\n",
            "242/242 [==============================] - 1s 5ms/step - loss: 0.4004 - val_loss: 0.3741\n",
            "Epoch 8/100\n",
            "242/242 [==============================] - 1s 5ms/step - loss: 0.3888 - val_loss: 0.3926\n",
            "Epoch 9/100\n",
            "242/242 [==============================] - 1s 5ms/step - loss: 0.3809 - val_loss: 0.3832\n",
            "Epoch 10/100\n",
            "242/242 [==============================] - 1s 5ms/step - loss: 0.3743 - val_loss: 0.3929\n",
            "Epoch 11/100\n",
            "242/242 [==============================] - 1s 5ms/step - loss: 0.3697 - val_loss: 0.3570\n",
            "Epoch 12/100\n",
            "242/242 [==============================] - 1s 5ms/step - loss: 0.3640 - val_loss: 0.3790\n",
            "Epoch 13/100\n",
            "242/242 [==============================] - 1s 5ms/step - loss: 0.3595 - val_loss: 0.3840\n",
            "Epoch 14/100\n",
            "242/242 [==============================] - 1s 5ms/step - loss: 0.3569 - val_loss: 0.3950\n",
            "Epoch 15/100\n",
            "242/242 [==============================] - 1s 5ms/step - loss: 0.3530 - val_loss: 0.3751\n",
            "Epoch 16/100\n",
            "242/242 [==============================] - 1s 5ms/step - loss: 0.3503 - val_loss: 0.3955\n",
            "Epoch 17/100\n",
            "242/242 [==============================] - 1s 5ms/step - loss: 0.3476 - val_loss: 0.3900\n",
            "Epoch 18/100\n",
            "242/242 [==============================] - 1s 5ms/step - loss: 0.3455 - val_loss: 0.3905\n",
            "Epoch 19/100\n",
            "242/242 [==============================] - 1s 5ms/step - loss: 0.3420 - val_loss: 0.3944\n",
            "Epoch 20/100\n",
            "242/242 [==============================] - 1s 5ms/step - loss: 0.3404 - val_loss: 0.3811\n",
            "Epoch 21/100\n",
            "242/242 [==============================] - 1s 5ms/step - loss: 0.3378 - val_loss: 0.3906\n",
            "121/121 [==============================] - 0s 3ms/step - loss: 0.3624\n",
            "[CV] END learning_rate=0.0045455096956331, n_hidden=3, n_neurons=30; total time=  25.3s\n",
            "Epoch 1/100\n",
            "242/242 [==============================] - 2s 5ms/step - loss: 1.0130 - val_loss: 0.5822\n",
            "Epoch 2/100\n",
            "242/242 [==============================] - 1s 5ms/step - loss: 0.5558 - val_loss: 0.4873\n",
            "Epoch 3/100\n",
            "242/242 [==============================] - 1s 4ms/step - loss: 0.4781 - val_loss: 0.4420\n",
            "Epoch 4/100\n",
            "242/242 [==============================] - 1s 4ms/step - loss: 0.4376 - val_loss: 0.4139\n",
            "Epoch 5/100\n",
            "242/242 [==============================] - 1s 5ms/step - loss: 0.4111 - val_loss: 0.4132\n",
            "Epoch 6/100\n",
            "242/242 [==============================] - 1s 5ms/step - loss: 0.3947 - val_loss: 0.4464\n",
            "Epoch 7/100\n",
            "242/242 [==============================] - 1s 4ms/step - loss: 0.3840 - val_loss: 0.4717\n",
            "Epoch 8/100\n",
            "242/242 [==============================] - 1s 5ms/step - loss: 0.3760 - val_loss: 0.5331\n",
            "Epoch 9/100\n",
            "242/242 [==============================] - 1s 5ms/step - loss: 0.3682 - val_loss: 0.6951\n",
            "Epoch 10/100\n",
            "242/242 [==============================] - 1s 5ms/step - loss: 0.3633 - val_loss: 0.6944\n",
            "Epoch 11/100\n",
            "242/242 [==============================] - 1s 5ms/step - loss: 0.3574 - val_loss: 0.8506\n",
            "Epoch 12/100\n",
            "242/242 [==============================] - 1s 4ms/step - loss: 0.3535 - val_loss: 0.7660\n",
            "Epoch 13/100\n",
            "242/242 [==============================] - 1s 4ms/step - loss: 0.3509 - val_loss: 0.8731\n",
            "Epoch 14/100\n",
            "242/242 [==============================] - 1s 4ms/step - loss: 0.3487 - val_loss: 0.9306\n",
            "Epoch 15/100\n",
            "242/242 [==============================] - 1s 5ms/step - loss: 0.3463 - val_loss: 0.9345\n",
            "121/121 [==============================] - 0s 3ms/step - loss: 0.3685\n",
            "[CV] END learning_rate=0.0045455096956331, n_hidden=3, n_neurons=30; total time=  17.9s\n",
            "Epoch 1/100\n",
            "242/242 [==============================] - 2s 5ms/step - loss: 1.1090 - val_loss: 0.6796\n",
            "Epoch 2/100\n",
            "242/242 [==============================] - 1s 4ms/step - loss: 0.5639 - val_loss: 0.4957\n",
            "Epoch 3/100\n",
            "242/242 [==============================] - 1s 4ms/step - loss: 0.4920 - val_loss: 0.4633\n",
            "Epoch 4/100\n",
            "242/242 [==============================] - 1s 5ms/step - loss: 0.4547 - val_loss: 0.4565\n",
            "Epoch 5/100\n",
            "242/242 [==============================] - 1s 5ms/step - loss: 0.4305 - val_loss: 0.4150\n",
            "Epoch 6/100\n",
            "242/242 [==============================] - 1s 5ms/step - loss: 0.4141 - val_loss: 0.4331\n",
            "Epoch 7/100\n",
            "242/242 [==============================] - 1s 5ms/step - loss: 0.4026 - val_loss: 0.3887\n",
            "Epoch 8/100\n",
            "242/242 [==============================] - 1s 5ms/step - loss: 0.3936 - val_loss: 0.3785\n",
            "Epoch 9/100\n",
            "242/242 [==============================] - 1s 5ms/step - loss: 0.3857 - val_loss: 0.4233\n",
            "Epoch 10/100\n",
            "242/242 [==============================] - 1s 4ms/step - loss: 0.3819 - val_loss: 0.3652\n",
            "Epoch 11/100\n",
            "242/242 [==============================] - 1s 5ms/step - loss: 0.3760 - val_loss: 0.4336\n",
            "Epoch 12/100\n",
            "242/242 [==============================] - 1s 5ms/step - loss: 0.3725 - val_loss: 0.3763\n",
            "Epoch 13/100\n",
            "242/242 [==============================] - 1s 5ms/step - loss: 0.3683 - val_loss: 0.3632\n",
            "Epoch 14/100\n",
            "242/242 [==============================] - 1s 5ms/step - loss: 0.3644 - val_loss: 0.4460\n",
            "Epoch 15/100\n",
            "242/242 [==============================] - 1s 5ms/step - loss: 0.3624 - val_loss: 0.3555\n",
            "Epoch 16/100\n",
            "242/242 [==============================] - 1s 5ms/step - loss: 0.3584 - val_loss: 0.3947\n",
            "Epoch 17/100\n",
            "242/242 [==============================] - 1s 4ms/step - loss: 0.3560 - val_loss: 0.3623\n",
            "Epoch 18/100\n",
            "242/242 [==============================] - 1s 5ms/step - loss: 0.3525 - val_loss: 0.3774\n",
            "Epoch 19/100\n",
            "242/242 [==============================] - 1s 5ms/step - loss: 0.3505 - val_loss: 0.3806\n",
            "Epoch 20/100\n",
            "242/242 [==============================] - 1s 5ms/step - loss: 0.3479 - val_loss: 0.3420\n",
            "Epoch 21/100\n",
            "242/242 [==============================] - 1s 4ms/step - loss: 0.3463 - val_loss: 0.3452\n",
            "Epoch 22/100\n",
            "242/242 [==============================] - 1s 5ms/step - loss: 0.3446 - val_loss: 0.3273\n",
            "Epoch 23/100\n",
            "242/242 [==============================] - 1s 5ms/step - loss: 0.3425 - val_loss: 0.3279\n",
            "Epoch 24/100\n",
            "242/242 [==============================] - 1s 5ms/step - loss: 0.3395 - val_loss: 0.4328\n",
            "Epoch 25/100\n",
            "242/242 [==============================] - 1s 4ms/step - loss: 0.3401 - val_loss: 0.3426\n",
            "Epoch 26/100\n",
            "242/242 [==============================] - 1s 5ms/step - loss: 0.3366 - val_loss: 0.3228\n",
            "Epoch 27/100\n",
            "242/242 [==============================] - 1s 5ms/step - loss: 0.3342 - val_loss: 0.4407\n",
            "Epoch 28/100\n",
            "242/242 [==============================] - 1s 5ms/step - loss: 0.3357 - val_loss: 0.3301\n",
            "Epoch 29/100\n",
            "242/242 [==============================] - 1s 5ms/step - loss: 0.3331 - val_loss: 0.4053\n",
            "Epoch 30/100\n",
            "242/242 [==============================] - 1s 4ms/step - loss: 0.3323 - val_loss: 0.3360\n",
            "Epoch 31/100\n",
            "242/242 [==============================] - 1s 5ms/step - loss: 0.3293 - val_loss: 0.3330\n",
            "Epoch 32/100\n",
            "242/242 [==============================] - 1s 5ms/step - loss: 0.3280 - val_loss: 0.3658\n",
            "Epoch 33/100\n",
            "242/242 [==============================] - 1s 5ms/step - loss: 0.3271 - val_loss: 0.3479\n",
            "Epoch 34/100\n",
            "242/242 [==============================] - 1s 5ms/step - loss: 0.3243 - val_loss: 0.3596\n",
            "Epoch 35/100\n",
            "242/242 [==============================] - 1s 4ms/step - loss: 0.3246 - val_loss: 0.3131\n",
            "Epoch 36/100\n",
            "242/242 [==============================] - 1s 5ms/step - loss: 0.3224 - val_loss: 0.3617\n",
            "Epoch 37/100\n",
            "242/242 [==============================] - 1s 5ms/step - loss: 0.3221 - val_loss: 0.3386\n",
            "Epoch 38/100\n",
            "242/242 [==============================] - 1s 5ms/step - loss: 0.3213 - val_loss: 0.5222\n",
            "Epoch 39/100\n",
            "242/242 [==============================] - 1s 5ms/step - loss: 0.3232 - val_loss: 0.3333\n",
            "Epoch 40/100\n",
            "242/242 [==============================] - 1s 5ms/step - loss: 0.3197 - val_loss: 0.4050\n",
            "Epoch 41/100\n",
            "242/242 [==============================] - 1s 5ms/step - loss: 0.3182 - val_loss: 0.3326\n",
            "Epoch 42/100\n",
            "242/242 [==============================] - 1s 5ms/step - loss: 0.3165 - val_loss: 0.3593\n",
            "Epoch 43/100\n",
            "242/242 [==============================] - 1s 5ms/step - loss: 0.3162 - val_loss: 0.3245\n",
            "Epoch 44/100\n",
            "242/242 [==============================] - 1s 5ms/step - loss: 0.3147 - val_loss: 0.3830\n",
            "Epoch 45/100\n",
            "242/242 [==============================] - 1s 4ms/step - loss: 0.3155 - val_loss: 0.3084\n",
            "Epoch 46/100\n",
            "242/242 [==============================] - 1s 5ms/step - loss: 0.3130 - val_loss: 0.3726\n",
            "Epoch 47/100\n",
            "242/242 [==============================] - 1s 5ms/step - loss: 0.3119 - val_loss: 0.3160\n",
            "Epoch 48/100\n",
            "242/242 [==============================] - 1s 5ms/step - loss: 0.3120 - val_loss: 0.3005\n",
            "Epoch 49/100\n",
            "242/242 [==============================] - 1s 5ms/step - loss: 0.3097 - val_loss: 0.4075\n",
            "Epoch 50/100\n",
            "242/242 [==============================] - 1s 5ms/step - loss: 0.3111 - val_loss: 0.2996\n",
            "Epoch 51/100\n",
            "242/242 [==============================] - 1s 5ms/step - loss: 0.3086 - val_loss: 0.4379\n",
            "Epoch 52/100\n",
            "242/242 [==============================] - 1s 5ms/step - loss: 0.3095 - val_loss: 0.3003\n",
            "Epoch 53/100\n",
            "242/242 [==============================] - 1s 4ms/step - loss: 0.3078 - val_loss: 0.2983\n",
            "Epoch 54/100\n",
            "242/242 [==============================] - 1s 5ms/step - loss: 0.3071 - val_loss: 0.2962\n",
            "Epoch 55/100\n",
            "242/242 [==============================] - 1s 5ms/step - loss: 0.3061 - val_loss: 0.2948\n",
            "Epoch 56/100\n",
            "242/242 [==============================] - 1s 5ms/step - loss: 0.3038 - val_loss: 0.3322\n",
            "Epoch 57/100\n",
            "242/242 [==============================] - 1s 5ms/step - loss: 0.3056 - val_loss: 0.3065\n",
            "Epoch 58/100\n",
            "242/242 [==============================] - 1s 4ms/step - loss: 0.3051 - val_loss: 0.2969\n",
            "Epoch 59/100\n",
            "242/242 [==============================] - 1s 5ms/step - loss: 0.3034 - val_loss: 0.3486\n",
            "Epoch 60/100\n",
            "242/242 [==============================] - 1s 5ms/step - loss: 0.3052 - val_loss: 0.3915\n",
            "Epoch 61/100\n",
            "242/242 [==============================] - 1s 5ms/step - loss: 0.3040 - val_loss: 0.3130\n",
            "Epoch 62/100\n",
            "242/242 [==============================] - 1s 5ms/step - loss: 0.3014 - val_loss: 0.3054\n",
            "Epoch 63/100\n",
            "242/242 [==============================] - 1s 5ms/step - loss: 0.3012 - val_loss: 0.2951\n",
            "Epoch 64/100\n",
            "242/242 [==============================] - 1s 5ms/step - loss: 0.3007 - val_loss: 0.3027\n",
            "Epoch 65/100\n",
            "242/242 [==============================] - 1s 5ms/step - loss: 0.3008 - val_loss: 0.2944\n",
            "Epoch 66/100\n",
            "242/242 [==============================] - 1s 5ms/step - loss: 0.2991 - val_loss: 0.3608\n",
            "Epoch 67/100\n",
            "242/242 [==============================] - 1s 5ms/step - loss: 0.2993 - val_loss: 0.3035\n",
            "Epoch 68/100\n",
            "242/242 [==============================] - 1s 5ms/step - loss: 0.2982 - val_loss: 0.3303\n",
            "Epoch 69/100\n",
            "242/242 [==============================] - 1s 5ms/step - loss: 0.2975 - val_loss: 0.2904\n",
            "Epoch 70/100\n",
            "242/242 [==============================] - 1s 5ms/step - loss: 0.2960 - val_loss: 0.3234\n",
            "Epoch 71/100\n",
            "242/242 [==============================] - 1s 5ms/step - loss: 0.2966 - val_loss: 0.2876\n",
            "Epoch 72/100\n",
            "242/242 [==============================] - 1s 5ms/step - loss: 0.2961 - val_loss: 0.2928\n",
            "Epoch 73/100\n",
            "242/242 [==============================] - 1s 5ms/step - loss: 0.2955 - val_loss: 0.2924\n",
            "Epoch 74/100\n",
            "242/242 [==============================] - 1s 5ms/step - loss: 0.2945 - val_loss: 0.2858\n",
            "Epoch 75/100\n",
            "242/242 [==============================] - 1s 5ms/step - loss: 0.2945 - val_loss: 0.3148\n",
            "Epoch 76/100\n",
            "242/242 [==============================] - 1s 5ms/step - loss: 0.2927 - val_loss: 0.3618\n",
            "Epoch 77/100\n",
            "242/242 [==============================] - 1s 5ms/step - loss: 0.2965 - val_loss: 0.2870\n",
            "Epoch 78/100\n",
            "242/242 [==============================] - 1s 4ms/step - loss: 0.2937 - val_loss: 0.3103\n",
            "Epoch 79/100\n",
            "242/242 [==============================] - 1s 4ms/step - loss: 0.2934 - val_loss: 0.2934\n",
            "Epoch 80/100\n",
            "242/242 [==============================] - 1s 5ms/step - loss: 0.2921 - val_loss: 0.2921\n",
            "Epoch 81/100\n",
            "242/242 [==============================] - 1s 5ms/step - loss: 0.2920 - val_loss: 0.3167\n",
            "Epoch 82/100\n",
            "242/242 [==============================] - 1s 5ms/step - loss: 0.2916 - val_loss: 0.3084\n",
            "Epoch 83/100\n",
            "242/242 [==============================] - 1s 5ms/step - loss: 0.2913 - val_loss: 0.2900\n",
            "Epoch 84/100\n",
            "242/242 [==============================] - 1s 5ms/step - loss: 0.2907 - val_loss: 0.3403\n",
            "121/121 [==============================] - 0s 3ms/step - loss: 0.3057\n",
            "[CV] END learning_rate=0.0045455096956331, n_hidden=3, n_neurons=30; total time= 2.4min\n",
            "Epoch 1/100\n",
            "242/242 [==============================] - 2s 5ms/step - loss: 2.1150 - val_loss: 29.5063\n",
            "Epoch 2/100\n",
            "242/242 [==============================] - 1s 5ms/step - loss: 1.0854 - val_loss: 33.7784\n",
            "Epoch 3/100\n",
            "242/242 [==============================] - 1s 4ms/step - loss: 0.9418 - val_loss: 4.0125\n",
            "Epoch 4/100\n",
            "242/242 [==============================] - 1s 5ms/step - loss: 0.6369 - val_loss: 0.5556\n",
            "Epoch 5/100\n",
            "242/242 [==============================] - 1s 4ms/step - loss: 0.5632 - val_loss: 0.5119\n",
            "Epoch 6/100\n",
            "242/242 [==============================] - 1s 4ms/step - loss: 0.5371 - val_loss: 0.4888\n",
            "Epoch 7/100\n",
            "242/242 [==============================] - 1s 4ms/step - loss: 0.5149 - val_loss: 0.4729\n",
            "Epoch 8/100\n",
            "242/242 [==============================] - 1s 4ms/step - loss: 0.4964 - val_loss: 0.4559\n",
            "Epoch 9/100\n",
            "242/242 [==============================] - 1s 4ms/step - loss: 0.4803 - val_loss: 0.4601\n",
            "Epoch 10/100\n",
            "242/242 [==============================] - 1s 4ms/step - loss: 0.4670 - val_loss: 0.4303\n",
            "Epoch 11/100\n",
            "242/242 [==============================] - 1s 5ms/step - loss: 0.4561 - val_loss: 0.4205\n",
            "Epoch 12/100\n",
            "242/242 [==============================] - 1s 5ms/step - loss: 0.4469 - val_loss: 0.4242\n",
            "Epoch 13/100\n",
            "242/242 [==============================] - 1s 4ms/step - loss: 0.4391 - val_loss: 0.4107\n",
            "Epoch 14/100\n",
            "242/242 [==============================] - 1s 4ms/step - loss: 0.4325 - val_loss: 0.4231\n",
            "Epoch 15/100\n",
            "242/242 [==============================] - 1s 5ms/step - loss: 0.4270 - val_loss: 0.4221\n",
            "Epoch 16/100\n",
            "242/242 [==============================] - 1s 5ms/step - loss: 0.4221 - val_loss: 0.4084\n",
            "Epoch 17/100\n",
            "242/242 [==============================] - 1s 5ms/step - loss: 0.4179 - val_loss: 0.4209\n",
            "Epoch 18/100\n",
            "242/242 [==============================] - 1s 4ms/step - loss: 0.4143 - val_loss: 0.4017\n",
            "Epoch 19/100\n",
            "242/242 [==============================] - 1s 5ms/step - loss: 0.4106 - val_loss: 0.4322\n",
            "Epoch 20/100\n",
            "242/242 [==============================] - 1s 5ms/step - loss: 0.4080 - val_loss: 0.4001\n",
            "Epoch 21/100\n",
            "242/242 [==============================] - 1s 4ms/step - loss: 0.4050 - val_loss: 0.4263\n",
            "Epoch 22/100\n",
            "242/242 [==============================] - 1s 4ms/step - loss: 0.4027 - val_loss: 0.4032\n",
            "Epoch 23/100\n",
            "242/242 [==============================] - 1s 4ms/step - loss: 0.4002 - val_loss: 0.4039\n",
            "Epoch 24/100\n",
            "242/242 [==============================] - 1s 4ms/step - loss: 0.3981 - val_loss: 0.3764\n",
            "Epoch 25/100\n",
            "242/242 [==============================] - 1s 5ms/step - loss: 0.3962 - val_loss: 0.4241\n",
            "Epoch 26/100\n",
            "242/242 [==============================] - 1s 4ms/step - loss: 0.3944 - val_loss: 0.3779\n",
            "Epoch 27/100\n",
            "242/242 [==============================] - 1s 4ms/step - loss: 0.3925 - val_loss: 0.4126\n",
            "Epoch 28/100\n",
            "242/242 [==============================] - 1s 4ms/step - loss: 0.3910 - val_loss: 0.3967\n",
            "Epoch 29/100\n",
            "242/242 [==============================] - 1s 5ms/step - loss: 0.3889 - val_loss: 0.4045\n",
            "Epoch 30/100\n",
            "242/242 [==============================] - 1s 4ms/step - loss: 0.3880 - val_loss: 0.3748\n",
            "Epoch 31/100\n",
            "242/242 [==============================] - 1s 4ms/step - loss: 0.3864 - val_loss: 0.3717\n",
            "Epoch 32/100\n",
            "242/242 [==============================] - 1s 4ms/step - loss: 0.3851 - val_loss: 0.3676\n",
            "Epoch 33/100\n",
            "242/242 [==============================] - 1s 5ms/step - loss: 0.3837 - val_loss: 0.4054\n",
            "Epoch 34/100\n",
            "242/242 [==============================] - 1s 5ms/step - loss: 0.3825 - val_loss: 0.3924\n",
            "Epoch 35/100\n",
            "242/242 [==============================] - 1s 4ms/step - loss: 0.3815 - val_loss: 0.3611\n",
            "Epoch 36/100\n",
            "242/242 [==============================] - 1s 4ms/step - loss: 0.3800 - val_loss: 0.4182\n",
            "Epoch 37/100\n",
            "242/242 [==============================] - 1s 4ms/step - loss: 0.3792 - val_loss: 0.3539\n",
            "Epoch 38/100\n",
            "242/242 [==============================] - 1s 5ms/step - loss: 0.3779 - val_loss: 0.4403\n",
            "Epoch 39/100\n",
            "242/242 [==============================] - 1s 4ms/step - loss: 0.3769 - val_loss: 0.3551\n",
            "Epoch 40/100\n",
            "242/242 [==============================] - 1s 5ms/step - loss: 0.3757 - val_loss: 0.4125\n",
            "Epoch 41/100\n",
            "242/242 [==============================] - 1s 5ms/step - loss: 0.3748 - val_loss: 0.3665\n",
            "Epoch 42/100\n",
            "242/242 [==============================] - 1s 5ms/step - loss: 0.3735 - val_loss: 0.3591\n",
            "Epoch 43/100\n",
            "242/242 [==============================] - 1s 4ms/step - loss: 0.3730 - val_loss: 0.3570\n",
            "Epoch 44/100\n",
            "242/242 [==============================] - 1s 4ms/step - loss: 0.3717 - val_loss: 0.4125\n",
            "Epoch 45/100\n",
            "242/242 [==============================] - 1s 5ms/step - loss: 0.3714 - val_loss: 0.3547\n",
            "Epoch 46/100\n",
            "242/242 [==============================] - 1s 4ms/step - loss: 0.3699 - val_loss: 0.3779\n",
            "Epoch 47/100\n",
            "242/242 [==============================] - 1s 5ms/step - loss: 0.3692 - val_loss: 0.3886\n",
            "121/121 [==============================] - 0s 3ms/step - loss: 0.3877\n",
            "[CV] END learning_rate=0.0020587676114196545, n_hidden=1, n_neurons=49; total time=  52.2s\n",
            "Epoch 1/100\n",
            "242/242 [==============================] - 1s 5ms/step - loss: 1.8463 - val_loss: 0.7805\n",
            "Epoch 2/100\n",
            "242/242 [==============================] - 1s 4ms/step - loss: 0.7088 - val_loss: 1.1550\n",
            "Epoch 3/100\n",
            "242/242 [==============================] - 1s 5ms/step - loss: 0.6196 - val_loss: 1.8115\n",
            "Epoch 4/100\n",
            "242/242 [==============================] - 1s 5ms/step - loss: 0.5692 - val_loss: 2.6113\n",
            "Epoch 5/100\n",
            "242/242 [==============================] - 1s 4ms/step - loss: 0.5319 - val_loss: 3.2626\n",
            "Epoch 6/100\n",
            "242/242 [==============================] - 1s 4ms/step - loss: 0.5046 - val_loss: 3.5247\n",
            "Epoch 7/100\n",
            "242/242 [==============================] - 1s 5ms/step - loss: 0.4841 - val_loss: 3.5926\n",
            "Epoch 8/100\n",
            "242/242 [==============================] - 1s 5ms/step - loss: 0.4679 - val_loss: 3.5562\n",
            "Epoch 9/100\n",
            "242/242 [==============================] - 1s 5ms/step - loss: 0.4551 - val_loss: 2.9541\n",
            "Epoch 10/100\n",
            "242/242 [==============================] - 1s 5ms/step - loss: 0.4459 - val_loss: 2.5606\n",
            "Epoch 11/100\n",
            "242/242 [==============================] - 1s 4ms/step - loss: 0.4377 - val_loss: 2.1560\n",
            "121/121 [==============================] - 0s 3ms/step - loss: 0.4866\n",
            "[CV] END learning_rate=0.0020587676114196545, n_hidden=1, n_neurons=49; total time=  21.2s\n",
            "Epoch 1/100\n",
            "242/242 [==============================] - 2s 5ms/step - loss: 1.7445 - val_loss: 2.5834\n",
            "Epoch 2/100\n",
            "242/242 [==============================] - 1s 5ms/step - loss: 0.7268 - val_loss: 3.5564\n",
            "Epoch 3/100\n",
            "242/242 [==============================] - 1s 4ms/step - loss: 0.6419 - val_loss: 1.7895\n",
            "Epoch 4/100\n",
            "242/242 [==============================] - 1s 4ms/step - loss: 0.6134 - val_loss: 1.7436\n",
            "Epoch 5/100\n",
            "242/242 [==============================] - 1s 4ms/step - loss: 0.5564 - val_loss: 0.6344\n",
            "Epoch 6/100\n",
            "242/242 [==============================] - 1s 4ms/step - loss: 0.5303 - val_loss: 0.8713\n",
            "Epoch 7/100\n",
            "242/242 [==============================] - 1s 4ms/step - loss: 0.5070 - val_loss: 0.5604\n",
            "Epoch 8/100\n",
            "242/242 [==============================] - 1s 5ms/step - loss: 0.4919 - val_loss: 0.4695\n",
            "Epoch 9/100\n",
            "242/242 [==============================] - 1s 4ms/step - loss: 0.4759 - val_loss: 0.4942\n",
            "Epoch 10/100\n",
            "242/242 [==============================] - 1s 5ms/step - loss: 0.4659 - val_loss: 0.4375\n",
            "Epoch 11/100\n",
            "242/242 [==============================] - 1s 5ms/step - loss: 0.4561 - val_loss: 0.4536\n",
            "Epoch 12/100\n",
            "242/242 [==============================] - 1s 5ms/step - loss: 0.4481 - val_loss: 0.4276\n",
            "Epoch 13/100\n",
            "242/242 [==============================] - 1s 6ms/step - loss: 0.4408 - val_loss: 0.4084\n",
            "Epoch 14/100\n",
            "242/242 [==============================] - 1s 4ms/step - loss: 0.4354 - val_loss: 0.4897\n",
            "Epoch 15/100\n",
            "242/242 [==============================] - 1s 5ms/step - loss: 0.4300 - val_loss: 0.4018\n",
            "Epoch 16/100\n",
            "242/242 [==============================] - 1s 5ms/step - loss: 0.4246 - val_loss: 0.5505\n",
            "Epoch 17/100\n",
            "242/242 [==============================] - 1s 4ms/step - loss: 0.4211 - val_loss: 0.4602\n",
            "Epoch 18/100\n",
            "242/242 [==============================] - 1s 4ms/step - loss: 0.4171 - val_loss: 0.4347\n",
            "Epoch 19/100\n",
            "242/242 [==============================] - 1s 5ms/step - loss: 0.4132 - val_loss: 0.3835\n",
            "Epoch 20/100\n",
            "242/242 [==============================] - 1s 4ms/step - loss: 0.4092 - val_loss: 0.4115\n",
            "Epoch 21/100\n",
            "242/242 [==============================] - 1s 5ms/step - loss: 0.4065 - val_loss: 0.3817\n",
            "Epoch 22/100\n",
            "242/242 [==============================] - 1s 4ms/step - loss: 0.4035 - val_loss: 0.3737\n",
            "Epoch 23/100\n",
            "242/242 [==============================] - 1s 5ms/step - loss: 0.4008 - val_loss: 0.3720\n",
            "Epoch 24/100\n",
            "242/242 [==============================] - 1s 4ms/step - loss: 0.3983 - val_loss: 0.4318\n",
            "Epoch 25/100\n",
            "242/242 [==============================] - 1s 4ms/step - loss: 0.3970 - val_loss: 0.4158\n",
            "Epoch 26/100\n",
            "242/242 [==============================] - 1s 4ms/step - loss: 0.3943 - val_loss: 0.3821\n",
            "Epoch 27/100\n",
            "242/242 [==============================] - 1s 5ms/step - loss: 0.3922 - val_loss: 0.4069\n",
            "Epoch 28/100\n",
            "242/242 [==============================] - 1s 4ms/step - loss: 0.3909 - val_loss: 0.4024\n",
            "Epoch 29/100\n",
            "242/242 [==============================] - 1s 5ms/step - loss: 0.3887 - val_loss: 0.5904\n",
            "Epoch 30/100\n",
            "242/242 [==============================] - 1s 4ms/step - loss: 0.3898 - val_loss: 0.4027\n",
            "Epoch 31/100\n",
            "242/242 [==============================] - 1s 5ms/step - loss: 0.3858 - val_loss: 0.4216\n",
            "Epoch 32/100\n",
            "242/242 [==============================] - 1s 5ms/step - loss: 0.3847 - val_loss: 0.3603\n",
            "Epoch 33/100\n",
            "242/242 [==============================] - 1s 4ms/step - loss: 0.3825 - val_loss: 0.4134\n",
            "Epoch 34/100\n",
            "242/242 [==============================] - 1s 4ms/step - loss: 0.3819 - val_loss: 0.3633\n",
            "Epoch 35/100\n",
            "242/242 [==============================] - 1s 4ms/step - loss: 0.3805 - val_loss: 0.3542\n",
            "Epoch 36/100\n",
            "242/242 [==============================] - 1s 4ms/step - loss: 0.3786 - val_loss: 0.3568\n",
            "Epoch 37/100\n",
            "242/242 [==============================] - 1s 4ms/step - loss: 0.3783 - val_loss: 0.4216\n",
            "Epoch 38/100\n",
            "242/242 [==============================] - 1s 5ms/step - loss: 0.3770 - val_loss: 0.5522\n",
            "Epoch 39/100\n",
            "242/242 [==============================] - 1s 5ms/step - loss: 0.3792 - val_loss: 0.5648\n",
            "Epoch 40/100\n",
            "242/242 [==============================] - 1s 4ms/step - loss: 0.3763 - val_loss: 0.6416\n",
            "Epoch 41/100\n",
            "242/242 [==============================] - 1s 4ms/step - loss: 0.3785 - val_loss: 0.3847\n",
            "Epoch 42/100\n",
            "242/242 [==============================] - 1s 5ms/step - loss: 0.3729 - val_loss: 0.5255\n",
            "Epoch 43/100\n",
            "242/242 [==============================] - 1s 5ms/step - loss: 0.3744 - val_loss: 0.7023\n",
            "Epoch 44/100\n",
            "242/242 [==============================] - 1s 5ms/step - loss: 0.3741 - val_loss: 0.7508\n",
            "Epoch 45/100\n",
            "242/242 [==============================] - 1s 5ms/step - loss: 0.3771 - val_loss: 0.5608\n",
            "121/121 [==============================] - 0s 3ms/step - loss: 0.3745\n",
            "[CV] END learning_rate=0.0020587676114196545, n_hidden=1, n_neurons=49; total time=  50.9s\n",
            "Epoch 1/100\n",
            "242/242 [==============================] - 2s 6ms/step - loss: 1.0682 - val_loss: 6.4183\n",
            "Epoch 2/100\n",
            "242/242 [==============================] - 1s 5ms/step - loss: 0.7154 - val_loss: 16.7917\n",
            "Epoch 3/100\n",
            "242/242 [==============================] - 1s 5ms/step - loss: 0.5830 - val_loss: 4.7823\n",
            "Epoch 4/100\n",
            "242/242 [==============================] - 1s 5ms/step - loss: 0.4475 - val_loss: 8.6076\n",
            "Epoch 5/100\n",
            "242/242 [==============================] - 1s 5ms/step - loss: 0.4779 - val_loss: 1.8025\n",
            "Epoch 6/100\n",
            "242/242 [==============================] - 1s 5ms/step - loss: 0.4007 - val_loss: 0.3655\n",
            "Epoch 7/100\n",
            "242/242 [==============================] - 1s 5ms/step - loss: 0.3682 - val_loss: 0.3786\n",
            "Epoch 8/100\n",
            "242/242 [==============================] - 1s 5ms/step - loss: 0.3591 - val_loss: 0.4054\n",
            "Epoch 9/100\n",
            "242/242 [==============================] - 1s 5ms/step - loss: 0.3533 - val_loss: 0.3910\n",
            "Epoch 10/100\n",
            "242/242 [==============================] - 1s 5ms/step - loss: 0.3488 - val_loss: 0.3911\n",
            "Epoch 11/100\n",
            "242/242 [==============================] - 1s 5ms/step - loss: 0.3445 - val_loss: 0.3550\n",
            "Epoch 12/100\n",
            "242/242 [==============================] - 1s 5ms/step - loss: 0.3394 - val_loss: 0.3611\n",
            "Epoch 13/100\n",
            "242/242 [==============================] - 1s 5ms/step - loss: 0.3351 - val_loss: 0.3649\n",
            "Epoch 14/100\n",
            "242/242 [==============================] - 1s 5ms/step - loss: 0.3334 - val_loss: 0.3625\n",
            "Epoch 15/100\n",
            "242/242 [==============================] - 1s 5ms/step - loss: 0.3292 - val_loss: 0.3568\n",
            "Epoch 16/100\n",
            "242/242 [==============================] - 1s 5ms/step - loss: 0.3271 - val_loss: 0.3558\n",
            "Epoch 17/100\n",
            "242/242 [==============================] - 1s 5ms/step - loss: 0.3239 - val_loss: 0.3556\n",
            "Epoch 18/100\n",
            "242/242 [==============================] - 1s 5ms/step - loss: 0.3223 - val_loss: 0.3498\n",
            "Epoch 19/100\n",
            "242/242 [==============================] - 1s 5ms/step - loss: 0.3185 - val_loss: 0.3511\n",
            "Epoch 20/100\n",
            "242/242 [==============================] - 1s 5ms/step - loss: 0.3163 - val_loss: 0.3392\n",
            "Epoch 21/100\n",
            "242/242 [==============================] - 1s 5ms/step - loss: 0.3145 - val_loss: 0.3360\n",
            "Epoch 22/100\n",
            "242/242 [==============================] - 1s 5ms/step - loss: 0.3119 - val_loss: 0.3690\n",
            "Epoch 23/100\n",
            "242/242 [==============================] - 1s 5ms/step - loss: 0.3098 - val_loss: 0.3197\n",
            "Epoch 24/100\n",
            "242/242 [==============================] - 1s 5ms/step - loss: 0.3089 - val_loss: 0.3085\n",
            "Epoch 25/100\n",
            "242/242 [==============================] - 1s 5ms/step - loss: 0.3044 - val_loss: 0.3584\n",
            "Epoch 26/100\n",
            "242/242 [==============================] - 1s 5ms/step - loss: 0.3034 - val_loss: 0.3113\n",
            "Epoch 27/100\n",
            "242/242 [==============================] - 1s 5ms/step - loss: 0.3029 - val_loss: 0.3275\n",
            "Epoch 28/100\n",
            "242/242 [==============================] - 1s 5ms/step - loss: 0.3018 - val_loss: 0.3511\n",
            "Epoch 29/100\n",
            "242/242 [==============================] - 1s 5ms/step - loss: 0.2985 - val_loss: 0.3319\n",
            "Epoch 30/100\n",
            "242/242 [==============================] - 1s 5ms/step - loss: 0.2961 - val_loss: 0.2957\n",
            "Epoch 31/100\n",
            "242/242 [==============================] - 1s 5ms/step - loss: 0.2952 - val_loss: 0.3123\n",
            "Epoch 32/100\n",
            "242/242 [==============================] - 1s 5ms/step - loss: 0.2934 - val_loss: 0.2886\n",
            "Epoch 33/100\n",
            "242/242 [==============================] - 1s 5ms/step - loss: 0.2910 - val_loss: 0.3226\n",
            "Epoch 34/100\n",
            "242/242 [==============================] - 1s 5ms/step - loss: 0.2889 - val_loss: 0.3225\n",
            "Epoch 35/100\n",
            "242/242 [==============================] - 1s 5ms/step - loss: 0.2881 - val_loss: 0.3016\n",
            "Epoch 36/100\n",
            "242/242 [==============================] - 1s 5ms/step - loss: 0.2871 - val_loss: 0.3671\n",
            "Epoch 37/100\n",
            "242/242 [==============================] - 1s 5ms/step - loss: 0.2858 - val_loss: 0.3027\n",
            "Epoch 38/100\n",
            "242/242 [==============================] - 1s 5ms/step - loss: 0.2846 - val_loss: 0.3512\n",
            "Epoch 39/100\n",
            "242/242 [==============================] - 1s 5ms/step - loss: 0.2835 - val_loss: 0.2928\n",
            "Epoch 40/100\n",
            "242/242 [==============================] - 1s 5ms/step - loss: 0.2821 - val_loss: 0.3295\n",
            "Epoch 41/100\n",
            "242/242 [==============================] - 1s 5ms/step - loss: 0.2810 - val_loss: 0.2872\n",
            "Epoch 42/100\n",
            "242/242 [==============================] - 1s 5ms/step - loss: 0.2800 - val_loss: 0.2928\n",
            "Epoch 43/100\n",
            "242/242 [==============================] - 1s 5ms/step - loss: 0.2790 - val_loss: 0.2851\n",
            "Epoch 44/100\n",
            "242/242 [==============================] - 1s 5ms/step - loss: 0.2768 - val_loss: 0.3195\n",
            "Epoch 45/100\n",
            "242/242 [==============================] - 1s 5ms/step - loss: 0.2768 - val_loss: 0.3169\n",
            "Epoch 46/100\n",
            "242/242 [==============================] - 1s 5ms/step - loss: 0.2757 - val_loss: 0.3253\n",
            "Epoch 47/100\n",
            "242/242 [==============================] - 1s 5ms/step - loss: 0.2738 - val_loss: 0.2976\n",
            "Epoch 48/100\n",
            "242/242 [==============================] - 1s 5ms/step - loss: 0.2737 - val_loss: 0.2859\n",
            "Epoch 49/100\n",
            "242/242 [==============================] - 1s 5ms/step - loss: 0.2712 - val_loss: 0.2745\n",
            "Epoch 50/100\n",
            "242/242 [==============================] - 1s 5ms/step - loss: 0.2710 - val_loss: 0.3230\n",
            "Epoch 51/100\n",
            "242/242 [==============================] - 1s 5ms/step - loss: 0.2697 - val_loss: 0.3204\n",
            "Epoch 52/100\n",
            "242/242 [==============================] - 1s 5ms/step - loss: 0.2686 - val_loss: 0.3167\n",
            "Epoch 53/100\n",
            "242/242 [==============================] - 1s 5ms/step - loss: 0.2684 - val_loss: 0.2785\n",
            "Epoch 54/100\n",
            "242/242 [==============================] - 1s 5ms/step - loss: 0.2666 - val_loss: 0.2885\n",
            "Epoch 55/100\n",
            "242/242 [==============================] - 1s 5ms/step - loss: 0.2651 - val_loss: 0.2923\n",
            "Epoch 56/100\n",
            "242/242 [==============================] - 1s 5ms/step - loss: 0.2657 - val_loss: 0.2868\n",
            "Epoch 57/100\n",
            "242/242 [==============================] - 1s 5ms/step - loss: 0.2637 - val_loss: 0.2988\n",
            "Epoch 58/100\n",
            "242/242 [==============================] - 1s 5ms/step - loss: 0.2642 - val_loss: 0.2773\n",
            "Epoch 59/100\n",
            "242/242 [==============================] - 1s 5ms/step - loss: 0.2631 - val_loss: 0.2863\n",
            "121/121 [==============================] - 0s 3ms/step - loss: 0.3108\n",
            "[CV] END learning_rate=0.005803602934201024, n_hidden=3, n_neurons=74; total time= 1.2min\n",
            "Epoch 1/100\n",
            "242/242 [==============================] - 2s 6ms/step - loss: 0.8717 - val_loss: 0.7369\n",
            "Epoch 2/100\n",
            "242/242 [==============================] - 1s 5ms/step - loss: 0.5007 - val_loss: 0.4431\n",
            "Epoch 3/100\n",
            "242/242 [==============================] - 1s 5ms/step - loss: 0.4272 - val_loss: 0.3919\n",
            "Epoch 4/100\n",
            "242/242 [==============================] - 1s 5ms/step - loss: 0.3961 - val_loss: 0.3834\n",
            "Epoch 5/100\n",
            "242/242 [==============================] - 1s 5ms/step - loss: 0.3777 - val_loss: 0.3951\n",
            "Epoch 6/100\n",
            "242/242 [==============================] - 1s 5ms/step - loss: 0.3661 - val_loss: 0.4650\n",
            "Epoch 7/100\n",
            "242/242 [==============================] - 1s 5ms/step - loss: 0.3580 - val_loss: 0.6408\n",
            "Epoch 8/100\n",
            "242/242 [==============================] - 1s 5ms/step - loss: 0.3524 - val_loss: 0.7273\n",
            "Epoch 9/100\n",
            "242/242 [==============================] - 1s 5ms/step - loss: 0.3462 - val_loss: 0.9104\n",
            "Epoch 10/100\n",
            "242/242 [==============================] - 1s 5ms/step - loss: 0.3421 - val_loss: 0.6969\n",
            "Epoch 11/100\n",
            "242/242 [==============================] - 1s 5ms/step - loss: 0.3364 - val_loss: 0.6999\n",
            "Epoch 12/100\n",
            "242/242 [==============================] - 1s 5ms/step - loss: 0.3327 - val_loss: 0.7835\n",
            "Epoch 13/100\n",
            "242/242 [==============================] - 1s 5ms/step - loss: 0.3292 - val_loss: 0.8539\n",
            "Epoch 14/100\n",
            "242/242 [==============================] - 1s 5ms/step - loss: 0.3277 - val_loss: 0.8282\n",
            "121/121 [==============================] - 0s 3ms/step - loss: 0.3525\n",
            "[CV] END learning_rate=0.005803602934201024, n_hidden=3, n_neurons=74; total time=  21.6s\n",
            "Epoch 1/100\n",
            "242/242 [==============================] - 2s 5ms/step - loss: 0.9177 - val_loss: 0.9196\n",
            "Epoch 2/100\n",
            "242/242 [==============================] - 1s 5ms/step - loss: 0.4767 - val_loss: 2.1025\n",
            "Epoch 3/100\n",
            "242/242 [==============================] - 1s 5ms/step - loss: 0.4329 - val_loss: 3.5511\n",
            "Epoch 4/100\n",
            "242/242 [==============================] - 1s 5ms/step - loss: 0.4408 - val_loss: 1.5867\n",
            "Epoch 5/100\n",
            "242/242 [==============================] - 1s 5ms/step - loss: 0.3910 - val_loss: 0.4227\n",
            "Epoch 6/100\n",
            "242/242 [==============================] - 1s 5ms/step - loss: 0.3715 - val_loss: 0.3738\n",
            "Epoch 7/100\n",
            "242/242 [==============================] - 1s 5ms/step - loss: 0.3634 - val_loss: 0.3350\n",
            "Epoch 8/100\n",
            "242/242 [==============================] - 1s 5ms/step - loss: 0.3569 - val_loss: 0.3384\n",
            "Epoch 9/100\n",
            "242/242 [==============================] - 1s 5ms/step - loss: 0.3518 - val_loss: 0.3720\n",
            "Epoch 10/100\n",
            "242/242 [==============================] - 1s 5ms/step - loss: 0.3514 - val_loss: 0.3274\n",
            "Epoch 11/100\n",
            "242/242 [==============================] - 1s 5ms/step - loss: 0.3456 - val_loss: 0.3958\n",
            "Epoch 12/100\n",
            "242/242 [==============================] - 1s 5ms/step - loss: 0.3419 - val_loss: 0.3324\n",
            "Epoch 13/100\n",
            "242/242 [==============================] - 1s 5ms/step - loss: 0.3372 - val_loss: 0.3226\n",
            "Epoch 14/100\n",
            "242/242 [==============================] - 1s 5ms/step - loss: 0.3346 - val_loss: 0.3680\n",
            "Epoch 15/100\n",
            "242/242 [==============================] - 1s 5ms/step - loss: 0.3323 - val_loss: 0.3212\n",
            "Epoch 16/100\n",
            "242/242 [==============================] - 1s 5ms/step - loss: 0.3295 - val_loss: 0.3530\n",
            "Epoch 17/100\n",
            "242/242 [==============================] - 1s 5ms/step - loss: 0.3269 - val_loss: 0.3215\n",
            "Epoch 18/100\n",
            "242/242 [==============================] - 1s 5ms/step - loss: 0.3238 - val_loss: 0.3548\n",
            "Epoch 19/100\n",
            "242/242 [==============================] - 1s 5ms/step - loss: 0.3223 - val_loss: 0.3391\n",
            "Epoch 20/100\n",
            "242/242 [==============================] - 1s 5ms/step - loss: 0.3194 - val_loss: 0.3698\n",
            "Epoch 21/100\n",
            "242/242 [==============================] - 1s 5ms/step - loss: 0.3180 - val_loss: 0.3210\n",
            "Epoch 22/100\n",
            "242/242 [==============================] - 1s 5ms/step - loss: 0.3162 - val_loss: 0.3423\n",
            "Epoch 23/100\n",
            "242/242 [==============================] - 1s 5ms/step - loss: 0.3136 - val_loss: 0.3896\n",
            "Epoch 24/100\n",
            "242/242 [==============================] - 1s 5ms/step - loss: 0.3127 - val_loss: 0.3030\n",
            "Epoch 25/100\n",
            "242/242 [==============================] - 1s 5ms/step - loss: 0.3106 - val_loss: 0.3137\n",
            "Epoch 26/100\n",
            "242/242 [==============================] - 1s 5ms/step - loss: 0.3072 - val_loss: 0.3359\n",
            "Epoch 27/100\n",
            "242/242 [==============================] - 1s 5ms/step - loss: 0.3057 - val_loss: 0.3122\n",
            "Epoch 28/100\n",
            "242/242 [==============================] - 1s 5ms/step - loss: 0.3048 - val_loss: 0.3703\n",
            "Epoch 29/100\n",
            "242/242 [==============================] - 1s 5ms/step - loss: 0.3055 - val_loss: 0.4424\n",
            "Epoch 30/100\n",
            "242/242 [==============================] - 1s 5ms/step - loss: 0.3048 - val_loss: 0.3011\n",
            "Epoch 31/100\n",
            "242/242 [==============================] - 1s 5ms/step - loss: 0.3001 - val_loss: 0.3188\n",
            "Epoch 32/100\n",
            "242/242 [==============================] - 1s 5ms/step - loss: 0.2978 - val_loss: 0.3006\n",
            "Epoch 33/100\n",
            "242/242 [==============================] - 1s 5ms/step - loss: 0.2977 - val_loss: 0.3134\n",
            "Epoch 34/100\n",
            "242/242 [==============================] - 1s 5ms/step - loss: 0.2962 - val_loss: 0.3030\n",
            "Epoch 35/100\n",
            "242/242 [==============================] - 1s 5ms/step - loss: 0.2933 - val_loss: 0.2938\n",
            "Epoch 36/100\n",
            "242/242 [==============================] - 1s 5ms/step - loss: 0.2908 - val_loss: 0.4220\n",
            "Epoch 37/100\n",
            "242/242 [==============================] - 1s 5ms/step - loss: 0.2911 - val_loss: 0.3706\n",
            "Epoch 38/100\n",
            "242/242 [==============================] - 1s 5ms/step - loss: 0.2951 - val_loss: 0.4166\n",
            "Epoch 39/100\n",
            "242/242 [==============================] - 1s 5ms/step - loss: 0.2918 - val_loss: 0.3017\n",
            "Epoch 40/100\n",
            "242/242 [==============================] - 1s 5ms/step - loss: 0.2909 - val_loss: 0.3384\n",
            "Epoch 41/100\n",
            "242/242 [==============================] - 1s 5ms/step - loss: 0.2871 - val_loss: 0.3206\n",
            "Epoch 42/100\n",
            "242/242 [==============================] - 1s 5ms/step - loss: 0.2859 - val_loss: 0.3149\n",
            "Epoch 43/100\n",
            "242/242 [==============================] - 1s 5ms/step - loss: 0.2903 - val_loss: 0.2868\n",
            "Epoch 44/100\n",
            "242/242 [==============================] - 1s 5ms/step - loss: 0.2843 - val_loss: 0.3198\n",
            "Epoch 45/100\n",
            "242/242 [==============================] - 1s 5ms/step - loss: 0.2844 - val_loss: 0.2945\n",
            "Epoch 46/100\n",
            "242/242 [==============================] - 1s 5ms/step - loss: 0.2814 - val_loss: 0.3465\n",
            "Epoch 47/100\n",
            "242/242 [==============================] - 1s 5ms/step - loss: 0.2803 - val_loss: 0.2818\n",
            "Epoch 48/100\n",
            "242/242 [==============================] - 1s 5ms/step - loss: 0.2802 - val_loss: 0.2891\n",
            "Epoch 49/100\n",
            "242/242 [==============================] - 1s 5ms/step - loss: 0.2792 - val_loss: 0.3613\n",
            "Epoch 50/100\n",
            "242/242 [==============================] - 1s 5ms/step - loss: 0.2780 - val_loss: 0.3015\n",
            "Epoch 51/100\n",
            "242/242 [==============================] - 1s 5ms/step - loss: 0.2770 - val_loss: 0.3488\n",
            "Epoch 52/100\n",
            "242/242 [==============================] - 1s 5ms/step - loss: 0.2764 - val_loss: 0.3038\n",
            "Epoch 53/100\n",
            "242/242 [==============================] - 1s 5ms/step - loss: 0.2756 - val_loss: 0.2943\n",
            "Epoch 54/100\n",
            "242/242 [==============================] - 1s 5ms/step - loss: 0.2756 - val_loss: 0.3171\n",
            "Epoch 55/100\n",
            "242/242 [==============================] - 1s 5ms/step - loss: 0.2740 - val_loss: 0.2797\n",
            "Epoch 56/100\n",
            "242/242 [==============================] - 1s 5ms/step - loss: 0.2741 - val_loss: 0.3239\n",
            "Epoch 57/100\n",
            "242/242 [==============================] - 1s 5ms/step - loss: 0.2730 - val_loss: 0.3284\n",
            "Epoch 58/100\n",
            "242/242 [==============================] - 1s 5ms/step - loss: 0.2740 - val_loss: 0.2850\n",
            "Epoch 59/100\n",
            "242/242 [==============================] - 1s 5ms/step - loss: 0.2714 - val_loss: 0.3035\n",
            "Epoch 60/100\n",
            "242/242 [==============================] - 1s 5ms/step - loss: 0.2706 - val_loss: 0.2793\n",
            "Epoch 61/100\n",
            "242/242 [==============================] - 1s 5ms/step - loss: 0.2690 - val_loss: 0.3224\n",
            "Epoch 62/100\n",
            "242/242 [==============================] - 1s 5ms/step - loss: 0.2689 - val_loss: 0.2772\n",
            "Epoch 63/100\n",
            "242/242 [==============================] - 1s 5ms/step - loss: 0.2688 - val_loss: 0.3173\n",
            "Epoch 64/100\n",
            "242/242 [==============================] - 1s 5ms/step - loss: 0.2684 - val_loss: 0.2888\n",
            "Epoch 65/100\n",
            "242/242 [==============================] - 1s 5ms/step - loss: 0.2693 - val_loss: 0.2931\n",
            "Epoch 66/100\n",
            "242/242 [==============================] - 1s 5ms/step - loss: 0.2658 - val_loss: 0.2942\n",
            "Epoch 67/100\n",
            "242/242 [==============================] - 1s 5ms/step - loss: 0.2654 - val_loss: 0.2881\n",
            "Epoch 68/100\n",
            "242/242 [==============================] - 1s 5ms/step - loss: 0.2660 - val_loss: 0.3024\n",
            "Epoch 69/100\n",
            "242/242 [==============================] - 1s 5ms/step - loss: 0.2641 - val_loss: 0.2793\n",
            "Epoch 70/100\n",
            "242/242 [==============================] - 1s 5ms/step - loss: 0.2624 - val_loss: 0.2977\n",
            "Epoch 71/100\n",
            "242/242 [==============================] - 1s 5ms/step - loss: 0.2639 - val_loss: 0.2748\n",
            "Epoch 72/100\n",
            "242/242 [==============================] - 1s 5ms/step - loss: 0.2647 - val_loss: 0.2764\n",
            "Epoch 73/100\n",
            "242/242 [==============================] - 1s 5ms/step - loss: 0.2634 - val_loss: 0.2895\n",
            "Epoch 74/100\n",
            "242/242 [==============================] - 1s 5ms/step - loss: 0.2640 - val_loss: 0.2829\n",
            "Epoch 75/100\n",
            "242/242 [==============================] - 1s 5ms/step - loss: 0.2628 - val_loss: 0.3033\n",
            "Epoch 76/100\n",
            "242/242 [==============================] - 1s 5ms/step - loss: 0.2591 - val_loss: 0.3801\n",
            "Epoch 77/100\n",
            "242/242 [==============================] - 1s 5ms/step - loss: 0.2625 - val_loss: 0.2973\n",
            "Epoch 78/100\n",
            "242/242 [==============================] - 1s 5ms/step - loss: 0.2604 - val_loss: 0.4270\n",
            "Epoch 79/100\n",
            "242/242 [==============================] - 1s 5ms/step - loss: 0.2604 - val_loss: 0.3151\n",
            "Epoch 80/100\n",
            "242/242 [==============================] - 1s 5ms/step - loss: 0.2587 - val_loss: 0.2930\n",
            "Epoch 81/100\n",
            "242/242 [==============================] - 1s 5ms/step - loss: 0.2587 - val_loss: 0.2801\n",
            "121/121 [==============================] - 0s 3ms/step - loss: 0.2875\n",
            "[CV] END learning_rate=0.005803602934201024, n_hidden=3, n_neurons=74; total time= 1.6min\n",
            "Epoch 1/100\n",
            "242/242 [==============================] - 2s 6ms/step - loss: 0.9615 - val_loss: 10.9251\n",
            "Epoch 2/100\n",
            "242/242 [==============================] - 1s 5ms/step - loss: 0.5921 - val_loss: 3.3912\n",
            "Epoch 3/100\n",
            "242/242 [==============================] - 1s 5ms/step - loss: 0.4539 - val_loss: 0.4039\n",
            "Epoch 4/100\n",
            "242/242 [==============================] - 1s 5ms/step - loss: 0.3914 - val_loss: 0.3692\n",
            "Epoch 5/100\n",
            "242/242 [==============================] - 1s 5ms/step - loss: 0.3713 - val_loss: 0.3555\n",
            "Epoch 6/100\n",
            "242/242 [==============================] - 1s 5ms/step - loss: 0.3601 - val_loss: 0.3875\n",
            "Epoch 7/100\n",
            "242/242 [==============================] - 1s 5ms/step - loss: 0.3523 - val_loss: 0.3633\n",
            "Epoch 8/100\n",
            "242/242 [==============================] - 1s 5ms/step - loss: 0.3454 - val_loss: 0.3991\n",
            "Epoch 9/100\n",
            "242/242 [==============================] - 1s 5ms/step - loss: 0.3411 - val_loss: 0.3797\n",
            "Epoch 10/100\n",
            "242/242 [==============================] - 1s 5ms/step - loss: 0.3382 - val_loss: 0.3703\n",
            "Epoch 11/100\n",
            "242/242 [==============================] - 1s 5ms/step - loss: 0.3351 - val_loss: 0.3310\n",
            "Epoch 12/100\n",
            "242/242 [==============================] - 1s 5ms/step - loss: 0.3304 - val_loss: 0.3511\n",
            "Epoch 13/100\n",
            "242/242 [==============================] - 1s 5ms/step - loss: 0.3269 - val_loss: 0.3793\n",
            "Epoch 14/100\n",
            "242/242 [==============================] - 1s 5ms/step - loss: 0.3261 - val_loss: 0.3316\n",
            "Epoch 15/100\n",
            "242/242 [==============================] - 1s 5ms/step - loss: 0.3217 - val_loss: 0.3488\n",
            "Epoch 16/100\n",
            "242/242 [==============================] - 1s 5ms/step - loss: 0.3194 - val_loss: 0.3468\n",
            "Epoch 17/100\n",
            "242/242 [==============================] - 1s 5ms/step - loss: 0.3172 - val_loss: 0.3265\n",
            "Epoch 18/100\n",
            "242/242 [==============================] - 1s 5ms/step - loss: 0.3157 - val_loss: 0.3425\n",
            "Epoch 19/100\n",
            "242/242 [==============================] - 1s 5ms/step - loss: 0.3123 - val_loss: 0.3368\n",
            "Epoch 20/100\n",
            "242/242 [==============================] - 1s 5ms/step - loss: 0.3108 - val_loss: 0.3222\n",
            "Epoch 21/100\n",
            "242/242 [==============================] - 1s 5ms/step - loss: 0.3086 - val_loss: 0.3911\n",
            "Epoch 22/100\n",
            "242/242 [==============================] - 1s 5ms/step - loss: 0.3086 - val_loss: 0.3104\n",
            "Epoch 23/100\n",
            "242/242 [==============================] - 1s 5ms/step - loss: 0.3050 - val_loss: 0.3555\n",
            "Epoch 24/100\n",
            "242/242 [==============================] - 1s 5ms/step - loss: 0.3061 - val_loss: 0.3552\n",
            "Epoch 25/100\n",
            "242/242 [==============================] - 1s 5ms/step - loss: 0.3020 - val_loss: 0.3798\n",
            "Epoch 26/100\n",
            "242/242 [==============================] - 1s 5ms/step - loss: 0.2995 - val_loss: 0.3229\n",
            "Epoch 27/100\n",
            "242/242 [==============================] - 1s 5ms/step - loss: 0.2984 - val_loss: 0.3519\n",
            "Epoch 28/100\n",
            "242/242 [==============================] - 1s 5ms/step - loss: 0.2974 - val_loss: 0.3296\n",
            "Epoch 29/100\n",
            "242/242 [==============================] - 1s 5ms/step - loss: 0.2942 - val_loss: 0.3474\n",
            "Epoch 30/100\n",
            "242/242 [==============================] - 1s 5ms/step - loss: 0.2924 - val_loss: 0.3335\n",
            "Epoch 31/100\n",
            "242/242 [==============================] - 1s 5ms/step - loss: 0.2924 - val_loss: 0.3200\n",
            "Epoch 32/100\n",
            "242/242 [==============================] - 1s 5ms/step - loss: 0.2903 - val_loss: 0.2897\n",
            "Epoch 33/100\n",
            "242/242 [==============================] - 1s 5ms/step - loss: 0.2875 - val_loss: 0.3418\n",
            "Epoch 34/100\n",
            "242/242 [==============================] - 1s 5ms/step - loss: 0.2858 - val_loss: 0.2896\n",
            "Epoch 35/100\n",
            "242/242 [==============================] - 1s 5ms/step - loss: 0.2840 - val_loss: 0.3053\n",
            "Epoch 36/100\n",
            "242/242 [==============================] - 1s 5ms/step - loss: 0.2826 - val_loss: 0.4447\n",
            "Epoch 37/100\n",
            "242/242 [==============================] - 1s 5ms/step - loss: 0.2839 - val_loss: 0.6924\n",
            "Epoch 38/100\n",
            "242/242 [==============================] - 1s 5ms/step - loss: 0.2922 - val_loss: 0.5133\n",
            "Epoch 39/100\n",
            "242/242 [==============================] - 1s 5ms/step - loss: 0.2845 - val_loss: 0.2903\n",
            "Epoch 40/100\n",
            "242/242 [==============================] - 1s 5ms/step - loss: 0.2813 - val_loss: 0.3318\n",
            "Epoch 41/100\n",
            "242/242 [==============================] - 1s 5ms/step - loss: 0.2799 - val_loss: 0.2873\n",
            "Epoch 42/100\n",
            "242/242 [==============================] - 1s 5ms/step - loss: 0.2780 - val_loss: 0.3069\n",
            "Epoch 43/100\n",
            "242/242 [==============================] - 1s 5ms/step - loss: 0.2777 - val_loss: 0.2889\n",
            "Epoch 44/100\n",
            "242/242 [==============================] - 1s 5ms/step - loss: 0.2758 - val_loss: 0.3226\n",
            "Epoch 45/100\n",
            "242/242 [==============================] - 1s 5ms/step - loss: 0.2759 - val_loss: 0.2804\n",
            "Epoch 46/100\n",
            "242/242 [==============================] - 1s 5ms/step - loss: 0.2741 - val_loss: 0.3110\n",
            "Epoch 47/100\n",
            "242/242 [==============================] - 1s 5ms/step - loss: 0.2727 - val_loss: 0.3192\n",
            "Epoch 48/100\n",
            "242/242 [==============================] - 1s 5ms/step - loss: 0.2723 - val_loss: 0.2950\n",
            "Epoch 49/100\n",
            "242/242 [==============================] - 1s 5ms/step - loss: 0.2704 - val_loss: 0.2759\n",
            "Epoch 50/100\n",
            "242/242 [==============================] - 1s 5ms/step - loss: 0.2703 - val_loss: 0.3434\n",
            "Epoch 51/100\n",
            "242/242 [==============================] - 1s 5ms/step - loss: 0.2689 - val_loss: 0.3210\n",
            "Epoch 52/100\n",
            "242/242 [==============================] - 1s 5ms/step - loss: 0.2667 - val_loss: 0.3356\n",
            "Epoch 53/100\n",
            "242/242 [==============================] - 1s 5ms/step - loss: 0.2677 - val_loss: 0.2891\n",
            "Epoch 54/100\n",
            "242/242 [==============================] - 1s 5ms/step - loss: 0.2654 - val_loss: 0.2951\n",
            "Epoch 55/100\n",
            "242/242 [==============================] - 1s 5ms/step - loss: 0.2639 - val_loss: 0.3290\n",
            "Epoch 56/100\n",
            "242/242 [==============================] - 1s 5ms/step - loss: 0.2657 - val_loss: 0.2841\n",
            "Epoch 57/100\n",
            "242/242 [==============================] - 1s 5ms/step - loss: 0.2645 - val_loss: 0.3546\n",
            "Epoch 58/100\n",
            "242/242 [==============================] - 1s 5ms/step - loss: 0.2638 - val_loss: 0.3046\n",
            "Epoch 59/100\n",
            "242/242 [==============================] - 1s 5ms/step - loss: 0.2627 - val_loss: 0.2819\n",
            "121/121 [==============================] - 0s 3ms/step - loss: 0.3014\n",
            "[CV] END learning_rate=0.0059640580092043885, n_hidden=3, n_neurons=80; total time= 1.4min\n",
            "Epoch 1/100\n",
            "242/242 [==============================] - 2s 5ms/step - loss: 0.8381 - val_loss: 0.6551\n",
            "Epoch 2/100\n",
            "242/242 [==============================] - 1s 5ms/step - loss: 0.4570 - val_loss: 0.4129\n",
            "Epoch 3/100\n",
            "242/242 [==============================] - 1s 5ms/step - loss: 0.4107 - val_loss: 0.6096\n",
            "Epoch 4/100\n",
            "242/242 [==============================] - 1s 5ms/step - loss: 0.3911 - val_loss: 0.6534\n",
            "Epoch 5/100\n",
            "242/242 [==============================] - 1s 5ms/step - loss: 0.3755 - val_loss: 0.6227\n",
            "Epoch 6/100\n",
            "242/242 [==============================] - 1s 5ms/step - loss: 0.3647 - val_loss: 0.8404\n",
            "Epoch 7/100\n",
            "242/242 [==============================] - 1s 5ms/step - loss: 0.3602 - val_loss: 1.0611\n",
            "Epoch 8/100\n",
            "242/242 [==============================] - 1s 5ms/step - loss: 0.3516 - val_loss: 1.1356\n",
            "Epoch 9/100\n",
            "242/242 [==============================] - 1s 5ms/step - loss: 0.3456 - val_loss: 1.2342\n",
            "Epoch 10/100\n",
            "242/242 [==============================] - 1s 5ms/step - loss: 0.3425 - val_loss: 0.7966\n",
            "Epoch 11/100\n",
            "242/242 [==============================] - 1s 5ms/step - loss: 0.3374 - val_loss: 0.8325\n",
            "Epoch 12/100\n",
            "242/242 [==============================] - 1s 5ms/step - loss: 0.3337 - val_loss: 0.7733\n",
            "121/121 [==============================] - 0s 3ms/step - loss: 0.3595\n",
            "[CV] END learning_rate=0.0059640580092043885, n_hidden=3, n_neurons=80; total time=  21.3s\n",
            "Epoch 1/100\n",
            "242/242 [==============================] - 2s 5ms/step - loss: 0.8683 - val_loss: 2.2007\n",
            "Epoch 2/100\n",
            "242/242 [==============================] - 1s 5ms/step - loss: 0.5072 - val_loss: 3.3028\n",
            "Epoch 3/100\n",
            "242/242 [==============================] - 1s 5ms/step - loss: 0.4486 - val_loss: 0.9130\n",
            "Epoch 4/100\n",
            "242/242 [==============================] - 1s 5ms/step - loss: 0.4071 - val_loss: 0.5328\n",
            "Epoch 5/100\n",
            "242/242 [==============================] - 1s 5ms/step - loss: 0.3842 - val_loss: 0.3609\n",
            "Epoch 6/100\n",
            "242/242 [==============================] - 1s 5ms/step - loss: 0.3729 - val_loss: 0.4151\n",
            "Epoch 7/100\n",
            "242/242 [==============================] - 1s 5ms/step - loss: 0.3659 - val_loss: 0.3580\n",
            "Epoch 8/100\n",
            "242/242 [==============================] - 1s 5ms/step - loss: 0.3596 - val_loss: 0.3516\n",
            "Epoch 9/100\n",
            "242/242 [==============================] - 1s 5ms/step - loss: 0.3528 - val_loss: 0.3983\n",
            "Epoch 10/100\n",
            "242/242 [==============================] - 1s 5ms/step - loss: 0.3511 - val_loss: 0.3323\n",
            "Epoch 11/100\n",
            "242/242 [==============================] - 1s 5ms/step - loss: 0.3445 - val_loss: 0.4228\n",
            "Epoch 12/100\n",
            "242/242 [==============================] - 1s 5ms/step - loss: 0.3420 - val_loss: 0.3284\n",
            "Epoch 13/100\n",
            "242/242 [==============================] - 1s 5ms/step - loss: 0.3374 - val_loss: 0.3469\n",
            "Epoch 14/100\n",
            "242/242 [==============================] - 1s 5ms/step - loss: 0.3337 - val_loss: 0.4038\n",
            "Epoch 15/100\n",
            "242/242 [==============================] - 1s 5ms/step - loss: 0.3326 - val_loss: 0.3274\n",
            "Epoch 16/100\n",
            "242/242 [==============================] - 1s 5ms/step - loss: 0.3291 - val_loss: 0.3821\n",
            "Epoch 17/100\n",
            "242/242 [==============================] - 1s 5ms/step - loss: 0.3262 - val_loss: 0.3207\n",
            "Epoch 18/100\n",
            "242/242 [==============================] - 1s 5ms/step - loss: 0.3229 - val_loss: 0.3242\n",
            "Epoch 19/100\n",
            "242/242 [==============================] - 1s 5ms/step - loss: 0.3216 - val_loss: 0.3798\n",
            "Epoch 20/100\n",
            "242/242 [==============================] - 1s 5ms/step - loss: 0.3191 - val_loss: 0.3386\n",
            "Epoch 21/100\n",
            "242/242 [==============================] - 1s 5ms/step - loss: 0.3181 - val_loss: 0.3609\n",
            "Epoch 22/100\n",
            "242/242 [==============================] - 1s 5ms/step - loss: 0.3172 - val_loss: 0.3098\n",
            "Epoch 23/100\n",
            "242/242 [==============================] - 1s 5ms/step - loss: 0.3144 - val_loss: 0.3448\n",
            "Epoch 24/100\n",
            "242/242 [==============================] - 1s 5ms/step - loss: 0.3129 - val_loss: 0.3225\n",
            "Epoch 25/100\n",
            "242/242 [==============================] - 1s 5ms/step - loss: 0.3096 - val_loss: 0.3004\n",
            "Epoch 26/100\n",
            "242/242 [==============================] - 1s 5ms/step - loss: 0.3071 - val_loss: 0.3094\n",
            "Epoch 27/100\n",
            "242/242 [==============================] - 1s 5ms/step - loss: 0.3052 - val_loss: 0.4043\n",
            "Epoch 28/100\n",
            "242/242 [==============================] - 1s 5ms/step - loss: 0.3062 - val_loss: 0.3007\n",
            "Epoch 29/100\n",
            "242/242 [==============================] - 1s 5ms/step - loss: 0.3038 - val_loss: 0.5052\n",
            "Epoch 30/100\n",
            "242/242 [==============================] - 1s 5ms/step - loss: 0.3048 - val_loss: 0.3008\n",
            "Epoch 31/100\n",
            "242/242 [==============================] - 1s 5ms/step - loss: 0.3003 - val_loss: 0.3662\n",
            "Epoch 32/100\n",
            "242/242 [==============================] - 1s 5ms/step - loss: 0.2982 - val_loss: 0.3732\n",
            "Epoch 33/100\n",
            "242/242 [==============================] - 1s 5ms/step - loss: 0.2977 - val_loss: 0.3908\n",
            "Epoch 34/100\n",
            "242/242 [==============================] - 1s 5ms/step - loss: 0.2971 - val_loss: 0.2983\n",
            "Epoch 35/100\n",
            "242/242 [==============================] - 1s 5ms/step - loss: 0.2935 - val_loss: 0.3057\n",
            "Epoch 36/100\n",
            "242/242 [==============================] - 1s 5ms/step - loss: 0.2911 - val_loss: 0.3443\n",
            "Epoch 37/100\n",
            "242/242 [==============================] - 1s 5ms/step - loss: 0.2904 - val_loss: 0.3705\n",
            "Epoch 38/100\n",
            "242/242 [==============================] - 1s 5ms/step - loss: 0.2921 - val_loss: 0.4692\n",
            "Epoch 39/100\n",
            "242/242 [==============================] - 1s 5ms/step - loss: 0.2914 - val_loss: 0.2919\n",
            "Epoch 40/100\n",
            "242/242 [==============================] - 1s 5ms/step - loss: 0.2887 - val_loss: 0.3864\n",
            "Epoch 41/100\n",
            "242/242 [==============================] - 1s 5ms/step - loss: 0.2871 - val_loss: 0.3241\n",
            "Epoch 42/100\n",
            "242/242 [==============================] - 1s 5ms/step - loss: 0.2855 - val_loss: 0.3638\n",
            "Epoch 43/100\n",
            "242/242 [==============================] - 1s 5ms/step - loss: 0.2858 - val_loss: 0.3237\n",
            "Epoch 44/100\n",
            "242/242 [==============================] - 1s 5ms/step - loss: 0.2840 - val_loss: 0.3888\n",
            "Epoch 45/100\n",
            "242/242 [==============================] - 1s 5ms/step - loss: 0.2844 - val_loss: 0.2969\n",
            "Epoch 46/100\n",
            "242/242 [==============================] - 1s 5ms/step - loss: 0.2810 - val_loss: 0.3679\n",
            "Epoch 47/100\n",
            "242/242 [==============================] - 1s 5ms/step - loss: 0.2800 - val_loss: 0.2895\n",
            "Epoch 48/100\n",
            "242/242 [==============================] - 1s 5ms/step - loss: 0.2797 - val_loss: 0.2922\n",
            "Epoch 49/100\n",
            "242/242 [==============================] - 1s 5ms/step - loss: 0.2781 - val_loss: 0.5035\n",
            "Epoch 50/100\n",
            "242/242 [==============================] - 1s 5ms/step - loss: 0.2787 - val_loss: 0.3012\n",
            "Epoch 51/100\n",
            "242/242 [==============================] - 1s 5ms/step - loss: 0.2758 - val_loss: 0.4945\n",
            "Epoch 52/100\n",
            "242/242 [==============================] - 1s 5ms/step - loss: 0.2764 - val_loss: 0.3203\n",
            "Epoch 53/100\n",
            "242/242 [==============================] - 1s 5ms/step - loss: 0.2757 - val_loss: 0.3205\n",
            "Epoch 54/100\n",
            "242/242 [==============================] - 1s 5ms/step - loss: 0.2754 - val_loss: 0.3251\n",
            "Epoch 55/100\n",
            "242/242 [==============================] - 1s 5ms/step - loss: 0.2733 - val_loss: 0.2805\n",
            "Epoch 56/100\n",
            "242/242 [==============================] - 1s 5ms/step - loss: 0.2735 - val_loss: 0.4202\n",
            "Epoch 57/100\n",
            "242/242 [==============================] - 1s 5ms/step - loss: 0.2726 - val_loss: 0.2974\n",
            "Epoch 58/100\n",
            "242/242 [==============================] - 1s 5ms/step - loss: 0.2720 - val_loss: 0.3448\n",
            "Epoch 59/100\n",
            "242/242 [==============================] - 1s 5ms/step - loss: 0.2699 - val_loss: 0.3045\n",
            "Epoch 60/100\n",
            "242/242 [==============================] - 1s 5ms/step - loss: 0.2701 - val_loss: 0.2784\n",
            "Epoch 61/100\n",
            "242/242 [==============================] - 1s 5ms/step - loss: 0.2682 - val_loss: 0.2967\n",
            "Epoch 62/100\n",
            "242/242 [==============================] - 1s 5ms/step - loss: 0.2664 - val_loss: 0.3143\n",
            "Epoch 63/100\n",
            "242/242 [==============================] - 1s 5ms/step - loss: 0.2687 - val_loss: 0.3083\n",
            "Epoch 64/100\n",
            "242/242 [==============================] - 1s 5ms/step - loss: 0.2699 - val_loss: 0.3342\n",
            "Epoch 65/100\n",
            "242/242 [==============================] - 1s 5ms/step - loss: 0.2682 - val_loss: 0.3015\n",
            "Epoch 66/100\n",
            "242/242 [==============================] - 1s 5ms/step - loss: 0.2644 - val_loss: 0.4634\n",
            "Epoch 67/100\n",
            "242/242 [==============================] - 1s 5ms/step - loss: 0.2643 - val_loss: 0.2957\n",
            "Epoch 68/100\n",
            "242/242 [==============================] - 1s 5ms/step - loss: 0.2645 - val_loss: 0.3493\n",
            "Epoch 69/100\n",
            "242/242 [==============================] - 1s 5ms/step - loss: 0.2633 - val_loss: 0.2816\n",
            "Epoch 70/100\n",
            "242/242 [==============================] - 1s 5ms/step - loss: 0.2603 - val_loss: 0.3779\n",
            "121/121 [==============================] - 0s 3ms/step - loss: 0.2834\n",
            "[CV] END learning_rate=0.0059640580092043885, n_hidden=3, n_neurons=80; total time= 1.4min\n",
            "Epoch 1/100\n",
            "242/242 [==============================] - 2s 6ms/step - loss: 1.2259 - val_loss: 0.5753\n",
            "Epoch 2/100\n",
            "242/242 [==============================] - 1s 5ms/step - loss: 0.5658 - val_loss: 8.9879\n",
            "Epoch 3/100\n",
            "242/242 [==============================] - 1s 5ms/step - loss: 0.5484 - val_loss: 11.0986\n",
            "Epoch 4/100\n",
            "242/242 [==============================] - 1s 5ms/step - loss: 0.5602 - val_loss: 1.1306\n",
            "Epoch 5/100\n",
            "242/242 [==============================] - 1s 5ms/step - loss: 0.4336 - val_loss: 0.5256\n",
            "Epoch 6/100\n",
            "242/242 [==============================] - 1s 5ms/step - loss: 0.4072 - val_loss: 0.4498\n",
            "Epoch 7/100\n",
            "242/242 [==============================] - 1s 5ms/step - loss: 0.3939 - val_loss: 0.4056\n",
            "Epoch 8/100\n",
            "242/242 [==============================] - 1s 5ms/step - loss: 0.3835 - val_loss: 0.3999\n",
            "Epoch 9/100\n",
            "242/242 [==============================] - 1s 5ms/step - loss: 0.3766 - val_loss: 0.3957\n",
            "Epoch 10/100\n",
            "242/242 [==============================] - 1s 5ms/step - loss: 0.3712 - val_loss: 0.3904\n",
            "Epoch 11/100\n",
            "242/242 [==============================] - 1s 5ms/step - loss: 0.3672 - val_loss: 0.3688\n",
            "Epoch 12/100\n",
            "242/242 [==============================] - 1s 5ms/step - loss: 0.3630 - val_loss: 0.3651\n",
            "Epoch 13/100\n",
            "242/242 [==============================] - 1s 5ms/step - loss: 0.3587 - val_loss: 0.3709\n",
            "Epoch 14/100\n",
            "242/242 [==============================] - 1s 5ms/step - loss: 0.3579 - val_loss: 0.3816\n",
            "Epoch 15/100\n",
            "242/242 [==============================] - 1s 5ms/step - loss: 0.3534 - val_loss: 0.3620\n",
            "Epoch 16/100\n",
            "242/242 [==============================] - 1s 5ms/step - loss: 0.3528 - val_loss: 0.3670\n",
            "Epoch 17/100\n",
            "242/242 [==============================] - 1s 5ms/step - loss: 0.3489 - val_loss: 0.3670\n",
            "Epoch 18/100\n",
            "242/242 [==============================] - 1s 5ms/step - loss: 0.3474 - val_loss: 0.3604\n",
            "Epoch 19/100\n",
            "242/242 [==============================] - 1s 5ms/step - loss: 0.3445 - val_loss: 0.3551\n",
            "Epoch 20/100\n",
            "242/242 [==============================] - 1s 5ms/step - loss: 0.3421 - val_loss: 0.3535\n",
            "Epoch 21/100\n",
            "242/242 [==============================] - 1s 5ms/step - loss: 0.3417 - val_loss: 0.3520\n",
            "Epoch 22/100\n",
            "242/242 [==============================] - 1s 5ms/step - loss: 0.3388 - val_loss: 0.3475\n",
            "Epoch 23/100\n",
            "242/242 [==============================] - 1s 5ms/step - loss: 0.3372 - val_loss: 0.3511\n",
            "Epoch 24/100\n",
            "242/242 [==============================] - 1s 5ms/step - loss: 0.3375 - val_loss: 0.3304\n",
            "Epoch 25/100\n",
            "242/242 [==============================] - 1s 5ms/step - loss: 0.3333 - val_loss: 0.3682\n",
            "Epoch 26/100\n",
            "242/242 [==============================] - 1s 5ms/step - loss: 0.3334 - val_loss: 0.3245\n",
            "Epoch 27/100\n",
            "242/242 [==============================] - 1s 5ms/step - loss: 0.3336 - val_loss: 0.3390\n",
            "Epoch 28/100\n",
            "242/242 [==============================] - 1s 5ms/step - loss: 0.3322 - val_loss: 0.3367\n",
            "Epoch 29/100\n",
            "242/242 [==============================] - 1s 5ms/step - loss: 0.3279 - val_loss: 0.3389\n",
            "Epoch 30/100\n",
            "242/242 [==============================] - 1s 5ms/step - loss: 0.3276 - val_loss: 0.3212\n",
            "Epoch 31/100\n",
            "242/242 [==============================] - 1s 5ms/step - loss: 0.3255 - val_loss: 0.3221\n",
            "Epoch 32/100\n",
            "242/242 [==============================] - 1s 4ms/step - loss: 0.3256 - val_loss: 0.3150\n",
            "Epoch 33/100\n",
            "242/242 [==============================] - 1s 5ms/step - loss: 0.3239 - val_loss: 0.3460\n",
            "Epoch 34/100\n",
            "242/242 [==============================] - 1s 5ms/step - loss: 0.3221 - val_loss: 0.3164\n",
            "Epoch 35/100\n",
            "242/242 [==============================] - 1s 5ms/step - loss: 0.3209 - val_loss: 0.3139\n",
            "Epoch 36/100\n",
            "242/242 [==============================] - 1s 5ms/step - loss: 0.3190 - val_loss: 0.3890\n",
            "Epoch 37/100\n",
            "242/242 [==============================] - 1s 5ms/step - loss: 0.3189 - val_loss: 0.3808\n",
            "Epoch 38/100\n",
            "242/242 [==============================] - 1s 5ms/step - loss: 0.3190 - val_loss: 0.3406\n",
            "Epoch 39/100\n",
            "242/242 [==============================] - 1s 5ms/step - loss: 0.3160 - val_loss: 0.3146\n",
            "Epoch 40/100\n",
            "242/242 [==============================] - 1s 5ms/step - loss: 0.3154 - val_loss: 0.3380\n",
            "Epoch 41/100\n",
            "242/242 [==============================] - 1s 5ms/step - loss: 0.3188 - val_loss: 0.3156\n",
            "Epoch 42/100\n",
            "242/242 [==============================] - 1s 5ms/step - loss: 0.3149 - val_loss: 0.3134\n",
            "Epoch 43/100\n",
            "242/242 [==============================] - 1s 5ms/step - loss: 0.3148 - val_loss: 0.3107\n",
            "Epoch 44/100\n",
            "242/242 [==============================] - 1s 5ms/step - loss: 0.3112 - val_loss: 0.3377\n",
            "Epoch 45/100\n",
            "242/242 [==============================] - 1s 5ms/step - loss: 0.3143 - val_loss: 0.3052\n",
            "Epoch 46/100\n",
            "242/242 [==============================] - 1s 5ms/step - loss: 0.3103 - val_loss: 0.3260\n",
            "Epoch 47/100\n",
            "242/242 [==============================] - 1s 5ms/step - loss: 0.3090 - val_loss: 0.3255\n",
            "Epoch 48/100\n",
            "242/242 [==============================] - 1s 5ms/step - loss: 0.3121 - val_loss: 0.3222\n",
            "Epoch 49/100\n",
            "242/242 [==============================] - 1s 5ms/step - loss: 0.3076 - val_loss: 0.3018\n",
            "Epoch 50/100\n",
            "242/242 [==============================] - 1s 5ms/step - loss: 0.3069 - val_loss: 0.3649\n",
            "Epoch 51/100\n",
            "242/242 [==============================] - 1s 5ms/step - loss: 0.3058 - val_loss: 0.3291\n",
            "Epoch 52/100\n",
            "242/242 [==============================] - 1s 5ms/step - loss: 0.3048 - val_loss: 0.3162\n",
            "Epoch 53/100\n",
            "242/242 [==============================] - 1s 5ms/step - loss: 0.3048 - val_loss: 0.3163\n",
            "Epoch 54/100\n",
            "242/242 [==============================] - 1s 5ms/step - loss: 0.3036 - val_loss: 0.3063\n",
            "Epoch 55/100\n",
            "242/242 [==============================] - 1s 5ms/step - loss: 0.3031 - val_loss: 0.3436\n",
            "Epoch 56/100\n",
            "242/242 [==============================] - 1s 5ms/step - loss: 0.3043 - val_loss: 0.2996\n",
            "Epoch 57/100\n",
            "242/242 [==============================] - 1s 5ms/step - loss: 0.3015 - val_loss: 0.3596\n",
            "Epoch 58/100\n",
            "242/242 [==============================] - 1s 5ms/step - loss: 0.3037 - val_loss: 0.3347\n",
            "Epoch 59/100\n",
            "242/242 [==============================] - 1s 5ms/step - loss: 0.3003 - val_loss: 0.3015\n",
            "Epoch 60/100\n",
            "242/242 [==============================] - 1s 5ms/step - loss: 0.2991 - val_loss: 0.3286\n",
            "Epoch 61/100\n",
            "242/242 [==============================] - 1s 5ms/step - loss: 0.2998 - val_loss: 0.3487\n",
            "Epoch 62/100\n",
            "242/242 [==============================] - 1s 5ms/step - loss: 0.2984 - val_loss: 0.3491\n",
            "Epoch 63/100\n",
            "242/242 [==============================] - 1s 5ms/step - loss: 0.2983 - val_loss: 0.3253\n",
            "Epoch 64/100\n",
            "242/242 [==============================] - 1s 5ms/step - loss: 0.2964 - val_loss: 0.3678\n",
            "Epoch 65/100\n",
            "242/242 [==============================] - 1s 5ms/step - loss: 0.2963 - val_loss: 0.2977\n",
            "Epoch 66/100\n",
            "242/242 [==============================] - 1s 5ms/step - loss: 0.3030 - val_loss: 0.3203\n",
            "Epoch 67/100\n",
            "242/242 [==============================] - 1s 5ms/step - loss: 0.2952 - val_loss: 0.3421\n",
            "Epoch 68/100\n",
            "242/242 [==============================] - 1s 5ms/step - loss: 0.2943 - val_loss: 0.3055\n",
            "Epoch 69/100\n",
            "242/242 [==============================] - 1s 5ms/step - loss: 0.2944 - val_loss: 0.3735\n",
            "Epoch 70/100\n",
            "242/242 [==============================] - 1s 5ms/step - loss: 0.2969 - val_loss: 0.2944\n",
            "Epoch 71/100\n",
            "242/242 [==============================] - 1s 5ms/step - loss: 0.2921 - val_loss: 0.3760\n",
            "Epoch 72/100\n",
            "242/242 [==============================] - 1s 5ms/step - loss: 0.2921 - val_loss: 0.3005\n",
            "Epoch 73/100\n",
            "242/242 [==============================] - 1s 5ms/step - loss: 0.2922 - val_loss: 0.2954\n",
            "Epoch 74/100\n",
            "242/242 [==============================] - 1s 5ms/step - loss: 0.2901 - val_loss: 0.3928\n",
            "Epoch 75/100\n",
            "242/242 [==============================] - 1s 5ms/step - loss: 0.2909 - val_loss: 0.3003\n",
            "Epoch 76/100\n",
            "242/242 [==============================] - 1s 5ms/step - loss: 0.2891 - val_loss: 0.3371\n",
            "Epoch 77/100\n",
            "242/242 [==============================] - 1s 5ms/step - loss: 0.2927 - val_loss: 0.4264\n",
            "Epoch 78/100\n",
            "242/242 [==============================] - 1s 5ms/step - loss: 0.2909 - val_loss: 0.6237\n",
            "Epoch 79/100\n",
            "242/242 [==============================] - 1s 5ms/step - loss: 0.2950 - val_loss: 0.3347\n",
            "Epoch 80/100\n",
            "242/242 [==============================] - 1s 5ms/step - loss: 0.2878 - val_loss: 0.4479\n",
            "121/121 [==============================] - 0s 3ms/step - loss: 0.3229\n",
            "[CV] END learning_rate=0.004591455636549438, n_hidden=2, n_neurons=59; total time= 2.4min\n",
            "Epoch 1/100\n",
            "242/242 [==============================] - 2s 5ms/step - loss: 1.1975 - val_loss: 0.8898\n",
            "Epoch 2/100\n",
            "242/242 [==============================] - 1s 5ms/step - loss: 0.5319 - val_loss: 0.5270\n",
            "Epoch 3/100\n",
            "242/242 [==============================] - 1s 5ms/step - loss: 0.4524 - val_loss: 0.4843\n",
            "Epoch 4/100\n",
            "242/242 [==============================] - 1s 5ms/step - loss: 0.4199 - val_loss: 0.4251\n",
            "Epoch 5/100\n",
            "242/242 [==============================] - 1s 5ms/step - loss: 0.4023 - val_loss: 0.3736\n",
            "Epoch 6/100\n",
            "242/242 [==============================] - 1s 5ms/step - loss: 0.3907 - val_loss: 0.3861\n",
            "Epoch 7/100\n",
            "242/242 [==============================] - 1s 5ms/step - loss: 0.3833 - val_loss: 0.4579\n",
            "Epoch 8/100\n",
            "242/242 [==============================] - 1s 5ms/step - loss: 0.3755 - val_loss: 0.4916\n",
            "Epoch 9/100\n",
            "242/242 [==============================] - 1s 5ms/step - loss: 0.3691 - val_loss: 0.6230\n",
            "Epoch 10/100\n",
            "242/242 [==============================] - 1s 5ms/step - loss: 0.3659 - val_loss: 0.5250\n",
            "Epoch 11/100\n",
            "242/242 [==============================] - 1s 5ms/step - loss: 0.3612 - val_loss: 0.5947\n",
            "Epoch 12/100\n",
            "242/242 [==============================] - 1s 5ms/step - loss: 0.3570 - val_loss: 0.6345\n",
            "Epoch 13/100\n",
            "242/242 [==============================] - 1s 5ms/step - loss: 0.3550 - val_loss: 0.7424\n",
            "Epoch 14/100\n",
            "242/242 [==============================] - 1s 5ms/step - loss: 0.3530 - val_loss: 0.7162\n",
            "Epoch 15/100\n",
            "242/242 [==============================] - 1s 5ms/step - loss: 0.3502 - val_loss: 0.6862\n",
            "121/121 [==============================] - 0s 3ms/step - loss: 0.3612\n",
            "[CV] END learning_rate=0.004591455636549438, n_hidden=2, n_neurons=59; total time=  18.6s\n",
            "Epoch 1/100\n",
            "242/242 [==============================] - 2s 5ms/step - loss: 1.1315 - val_loss: 2.8528\n",
            "Epoch 2/100\n",
            "242/242 [==============================] - 1s 5ms/step - loss: 0.6016 - val_loss: 2.3412\n",
            "Epoch 3/100\n",
            "242/242 [==============================] - 1s 5ms/step - loss: 0.5108 - val_loss: 0.9015\n",
            "Epoch 4/100\n",
            "242/242 [==============================] - 1s 5ms/step - loss: 0.4594 - val_loss: 0.8313\n",
            "Epoch 5/100\n",
            "242/242 [==============================] - 1s 5ms/step - loss: 0.4291 - val_loss: 0.5217\n",
            "Epoch 6/100\n",
            "242/242 [==============================] - 1s 5ms/step - loss: 0.4115 - val_loss: 0.4956\n",
            "Epoch 7/100\n",
            "242/242 [==============================] - 1s 5ms/step - loss: 0.4016 - val_loss: 0.3745\n",
            "Epoch 8/100\n",
            "242/242 [==============================] - 1s 5ms/step - loss: 0.3917 - val_loss: 0.4012\n",
            "Epoch 9/100\n",
            "242/242 [==============================] - 1s 5ms/step - loss: 0.3848 - val_loss: 0.4169\n",
            "Epoch 10/100\n",
            "242/242 [==============================] - 1s 5ms/step - loss: 0.3815 - val_loss: 0.3843\n",
            "Epoch 11/100\n",
            "242/242 [==============================] - 1s 5ms/step - loss: 0.3756 - val_loss: 0.6122\n",
            "Epoch 12/100\n",
            "242/242 [==============================] - 1s 5ms/step - loss: 0.3743 - val_loss: 0.3579\n",
            "Epoch 13/100\n",
            "242/242 [==============================] - 1s 5ms/step - loss: 0.3671 - val_loss: 0.3497\n",
            "Epoch 14/100\n",
            "242/242 [==============================] - 1s 5ms/step - loss: 0.3632 - val_loss: 0.5161\n",
            "Epoch 15/100\n",
            "242/242 [==============================] - 1s 5ms/step - loss: 0.3635 - val_loss: 0.4273\n",
            "Epoch 16/100\n",
            "242/242 [==============================] - 1s 5ms/step - loss: 0.3592 - val_loss: 0.5739\n",
            "Epoch 17/100\n",
            "242/242 [==============================] - 1s 5ms/step - loss: 0.3601 - val_loss: 0.4975\n",
            "Epoch 18/100\n",
            "242/242 [==============================] - 1s 5ms/step - loss: 0.3547 - val_loss: 0.4886\n",
            "Epoch 19/100\n",
            "242/242 [==============================] - 1s 5ms/step - loss: 0.3535 - val_loss: 0.3371\n",
            "Epoch 20/100\n",
            "242/242 [==============================] - 1s 5ms/step - loss: 0.3485 - val_loss: 0.4118\n",
            "Epoch 21/100\n",
            "242/242 [==============================] - 1s 5ms/step - loss: 0.3485 - val_loss: 0.3310\n",
            "Epoch 22/100\n",
            "242/242 [==============================] - 1s 5ms/step - loss: 0.3460 - val_loss: 0.3289\n",
            "Epoch 23/100\n",
            "242/242 [==============================] - 1s 5ms/step - loss: 0.3435 - val_loss: 0.3287\n",
            "Epoch 24/100\n",
            "242/242 [==============================] - 1s 5ms/step - loss: 0.3410 - val_loss: 0.5223\n",
            "Epoch 25/100\n",
            "242/242 [==============================] - 1s 5ms/step - loss: 0.3438 - val_loss: 0.7682\n",
            "Epoch 26/100\n",
            "242/242 [==============================] - 1s 5ms/step - loss: 0.3423 - val_loss: 0.8901\n",
            "Epoch 27/100\n",
            "242/242 [==============================] - 1s 5ms/step - loss: 0.3448 - val_loss: 0.4862\n",
            "Epoch 28/100\n",
            "242/242 [==============================] - 1s 5ms/step - loss: 0.3369 - val_loss: 0.6177\n",
            "Epoch 29/100\n",
            "242/242 [==============================] - 1s 5ms/step - loss: 0.3373 - val_loss: 0.3473\n",
            "Epoch 30/100\n",
            "242/242 [==============================] - 1s 5ms/step - loss: 0.3327 - val_loss: 0.5772\n",
            "Epoch 31/100\n",
            "242/242 [==============================] - 1s 5ms/step - loss: 0.3332 - val_loss: 0.3691\n",
            "Epoch 32/100\n",
            "242/242 [==============================] - 1s 5ms/step - loss: 0.3308 - val_loss: 0.7317\n",
            "Epoch 33/100\n",
            "242/242 [==============================] - 1s 5ms/step - loss: 0.3345 - val_loss: 0.3939\n",
            "121/121 [==============================] - 0s 3ms/step - loss: 0.3362\n",
            "[CV] END learning_rate=0.004591455636549438, n_hidden=2, n_neurons=59; total time=  41.7s\n",
            "Epoch 1/100\n",
            "363/363 [==============================] - 2s 5ms/step - loss: 0.8571 - val_loss: 6.5088\n",
            "Epoch 2/100\n",
            "363/363 [==============================] - 2s 5ms/step - loss: 0.5640 - val_loss: 7.3062\n",
            "Epoch 3/100\n",
            "363/363 [==============================] - 2s 5ms/step - loss: 0.4741 - val_loss: 0.5231\n",
            "Epoch 4/100\n",
            "363/363 [==============================] - 2s 5ms/step - loss: 0.3858 - val_loss: 0.4523\n",
            "Epoch 5/100\n",
            "363/363 [==============================] - 2s 5ms/step - loss: 0.3725 - val_loss: 0.4012\n",
            "Epoch 6/100\n",
            "363/363 [==============================] - 2s 5ms/step - loss: 0.3609 - val_loss: 0.5328\n",
            "Epoch 7/100\n",
            "363/363 [==============================] - 2s 5ms/step - loss: 0.3565 - val_loss: 0.3402\n",
            "Epoch 8/100\n",
            "363/363 [==============================] - 2s 5ms/step - loss: 0.3485 - val_loss: 0.3363\n",
            "Epoch 9/100\n",
            "363/363 [==============================] - 2s 5ms/step - loss: 0.3426 - val_loss: 0.3320\n",
            "Epoch 10/100\n",
            "363/363 [==============================] - 2s 5ms/step - loss: 0.3381 - val_loss: 0.4410\n",
            "Epoch 11/100\n",
            "363/363 [==============================] - 2s 5ms/step - loss: 0.3368 - val_loss: 0.9105\n",
            "Epoch 12/100\n",
            "363/363 [==============================] - 2s 4ms/step - loss: 0.3381 - val_loss: 0.9546\n",
            "Epoch 13/100\n",
            "363/363 [==============================] - 2s 5ms/step - loss: 0.3353 - val_loss: 0.3852\n",
            "Epoch 14/100\n",
            "363/363 [==============================] - 2s 5ms/step - loss: 0.3272 - val_loss: 0.3386\n",
            "Epoch 15/100\n",
            "363/363 [==============================] - 2s 5ms/step - loss: 0.3242 - val_loss: 0.3240\n",
            "Epoch 16/100\n",
            "363/363 [==============================] - 2s 5ms/step - loss: 0.3212 - val_loss: 0.3066\n",
            "Epoch 17/100\n",
            "363/363 [==============================] - 2s 5ms/step - loss: 0.3182 - val_loss: 0.4052\n",
            "Epoch 18/100\n",
            "363/363 [==============================] - 2s 5ms/step - loss: 0.3167 - val_loss: 0.3015\n",
            "Epoch 19/100\n",
            "363/363 [==============================] - 2s 5ms/step - loss: 0.3146 - val_loss: 0.3283\n",
            "Epoch 20/100\n",
            "363/363 [==============================] - 2s 5ms/step - loss: 0.3126 - val_loss: 0.4385\n",
            "Epoch 21/100\n",
            "363/363 [==============================] - 2s 4ms/step - loss: 0.3101 - val_loss: 0.3242\n",
            "Epoch 22/100\n",
            "363/363 [==============================] - 2s 4ms/step - loss: 0.3069 - val_loss: 0.6249\n",
            "Epoch 23/100\n",
            "363/363 [==============================] - 2s 5ms/step - loss: 0.3079 - val_loss: 1.1216\n",
            "Epoch 24/100\n",
            "363/363 [==============================] - 2s 5ms/step - loss: 0.3111 - val_loss: 0.5425\n",
            "Epoch 25/100\n",
            "363/363 [==============================] - 2s 5ms/step - loss: 0.3043 - val_loss: 0.3232\n",
            "Epoch 26/100\n",
            "363/363 [==============================] - 2s 5ms/step - loss: 0.3013 - val_loss: 0.3668\n",
            "Epoch 27/100\n",
            "363/363 [==============================] - 2s 5ms/step - loss: 0.2993 - val_loss: 0.3223\n",
            "Epoch 28/100\n",
            "363/363 [==============================] - 2s 5ms/step - loss: 0.2982 - val_loss: 0.3717\n"
          ]
        },
        {
          "output_type": "execute_result",
          "data": {
            "text/plain": [
              "RandomizedSearchCV(cv=3,\n",
              "                   estimator=<keras.wrappers.scikit_learn.KerasRegressor object at 0x7fb204eb8450>,\n",
              "                   param_distributions={'learning_rate': [0.001683454924600351,\n",
              "                                                          0.02390836445593178,\n",
              "                                                          0.008731907739399206,\n",
              "                                                          0.004725396149933917,\n",
              "                                                          0.0006154014789262348,\n",
              "                                                          0.0006153331256530192,\n",
              "                                                          0.0003920021771415983,\n",
              "                                                          0.01619845322936229,\n",
              "                                                          0.004779156784872302,\n",
              "                                                          0.007821074275112298,...\n",
              "                                                          0.005021425736625637,\n",
              "                                                          0.0005703073595961105,\n",
              "                                                          0.001151888789941251,\n",
              "                                                          0.001621231156394198,\n",
              "                                                          0.0024505367684280487,\n",
              "                                                          0.011155092541719619,\n",
              "                                                          0.0007524347058135697,\n",
              "                                                          0.0032032448128444043,\n",
              "                                                          0.004591455636549438,\n",
              "                                                          0.0003715541189658278, ...],\n",
              "                                        'n_hidden': [0, 1, 2, 3],\n",
              "                                        'n_neurons': [1, 2, 3, 4, 5, 6, 7, 8, 9,\n",
              "                                                      10, 11, 12, 13, 14, 15,\n",
              "                                                      16, 17, 18, 19, 20, 21,\n",
              "                                                      22, 23, 24, 25, 26, 27,\n",
              "                                                      28, 29, 30, ...]},\n",
              "                   verbose=2)"
            ]
          },
          "metadata": {},
          "execution_count": 92
        }
      ],
      "source": [
        "from scipy.stats import reciprocal\n",
        "from sklearn.model_selection import RandomizedSearchCV\n",
        "\n",
        "param_distribs = {\n",
        "    \"n_hidden\": [0, 1, 2, 3],\n",
        "    \"n_neurons\": np.arange(1, 100)               .tolist(),\n",
        "    \"learning_rate\": reciprocal(3e-4, 3e-2)      .rvs(1000).tolist(),\n",
        "}\n",
        "\n",
        "rnd_search_cv = RandomizedSearchCV(keras_reg, param_distribs, n_iter=10, cv=3, verbose=2)\n",
        "rnd_search_cv.fit(X_train, y_train, epochs=100,\n",
        "                  validation_data=(X_valid, y_valid),\n",
        "                  callbacks=[keras.callbacks.EarlyStopping(patience=10)])"
      ]
    },
    {
      "cell_type": "code",
      "execution_count": 93,
      "metadata": {
        "id": "OpNI_ceZorsb",
        "outputId": "242a9c3d-2061-4533-e821-3be693d474c8",
        "colab": {
          "base_uri": "https://localhost:8080/"
        }
      },
      "outputs": [
        {
          "output_type": "execute_result",
          "data": {
            "text/plain": [
              "{'learning_rate': 0.0059640580092043885, 'n_hidden': 3, 'n_neurons': 80}"
            ]
          },
          "metadata": {},
          "execution_count": 93
        }
      ],
      "source": [
        "rnd_search_cv.best_params_"
      ]
    },
    {
      "cell_type": "code",
      "execution_count": 94,
      "metadata": {
        "id": "ulTc-0pPorsb",
        "outputId": "57c2651e-108c-4912-c00f-e0fd373da1cc",
        "colab": {
          "base_uri": "https://localhost:8080/"
        }
      },
      "outputs": [
        {
          "output_type": "execute_result",
          "data": {
            "text/plain": [
              "-0.3147427539030711"
            ]
          },
          "metadata": {},
          "execution_count": 94
        }
      ],
      "source": [
        "rnd_search_cv.best_score_"
      ]
    },
    {
      "cell_type": "code",
      "execution_count": 95,
      "metadata": {
        "id": "ECYKdYuQorsb",
        "outputId": "07e1b0d9-7908-4ec0-8902-f0a17bbcfd70",
        "colab": {
          "base_uri": "https://localhost:8080/"
        }
      },
      "outputs": [
        {
          "output_type": "execute_result",
          "data": {
            "text/plain": [
              "<keras.wrappers.scikit_learn.KerasRegressor at 0x7fb17dea12d0>"
            ]
          },
          "metadata": {},
          "execution_count": 95
        }
      ],
      "source": [
        "rnd_search_cv.best_estimator_"
      ]
    },
    {
      "cell_type": "code",
      "execution_count": 96,
      "metadata": {
        "id": "YfDf5_9oorsc",
        "outputId": "078cc9fa-da0e-4588-b9dc-2deebfe4394c",
        "colab": {
          "base_uri": "https://localhost:8080/"
        }
      },
      "outputs": [
        {
          "output_type": "stream",
          "name": "stdout",
          "text": [
            "162/162 [==============================] - 0s 2ms/step - loss: 0.3053\n"
          ]
        },
        {
          "output_type": "execute_result",
          "data": {
            "text/plain": [
              "-0.30529579520225525"
            ]
          },
          "metadata": {},
          "execution_count": 96
        }
      ],
      "source": [
        "rnd_search_cv.score(X_test, y_test)"
      ]
    },
    {
      "cell_type": "code",
      "execution_count": 97,
      "metadata": {
        "id": "_cOa4is_orsc",
        "outputId": "94b7dee0-43ce-48b1-fff6-c37a80bfcd9e",
        "colab": {
          "base_uri": "https://localhost:8080/"
        }
      },
      "outputs": [
        {
          "output_type": "execute_result",
          "data": {
            "text/plain": [
              "<keras.engine.sequential.Sequential at 0x7fb17dac1910>"
            ]
          },
          "metadata": {},
          "execution_count": 97
        }
      ],
      "source": [
        "model = rnd_search_cv.best_estimator_.model\n",
        "model"
      ]
    },
    {
      "cell_type": "code",
      "execution_count": 98,
      "metadata": {
        "scrolled": true,
        "id": "tb19ZzAkorsc",
        "outputId": "4969e85d-9b6d-4438-c074-782cfb1c975e",
        "colab": {
          "base_uri": "https://localhost:8080/"
        }
      },
      "outputs": [
        {
          "output_type": "stream",
          "name": "stdout",
          "text": [
            "162/162 [==============================] - 0s 3ms/step - loss: 0.3053\n"
          ]
        },
        {
          "output_type": "execute_result",
          "data": {
            "text/plain": [
              "0.30529579520225525"
            ]
          },
          "metadata": {},
          "execution_count": 98
        }
      ],
      "source": [
        "model.evaluate(X_test, y_test)"
      ]
    }
  ]
}